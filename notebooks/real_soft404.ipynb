{
 "cells": [
  {
   "cell_type": "code",
   "execution_count": 14,
   "metadata": {
    "collapsed": true
   },
   "outputs": [],
   "source": [
    "from urllib.parse import urlsplit\n",
    "from soft404.train import reader"
   ]
  },
  {
   "cell_type": "code",
   "execution_count": 36,
   "metadata": {
    "collapsed": false
   },
   "outputs": [
    {
     "name": "stdout",
     "output_type": "stream",
     "text": [
      "270475 links, 51295 hard 404, 4739 accidental 404, 8987 soft 404\n"
     ]
    }
   ],
   "source": [
    "links = 0\n",
    "mangled = 0\n",
    "accidental_404 = 0\n",
    "hard_404 = 0\n",
    "soft_404 = []\n",
    "for item in reader('../text_items_big.meta.jl.gz'):\n",
    "    is_link = urlsplit(item['url']).path.rstrip('/')\n",
    "    if is_link:  # home page should not give a 404\n",
    "        links += 1\n",
    "        if item['mangled_url']:\n",
    "            mangled += 1\n",
    "            if item['status'] == 404:\n",
    "                hard_404 += 1\n",
    "            elif item['status'] == 200:\n",
    "                soft_404.append(item)\n",
    "        elif item['status'] == 404:\n",
    "            accidental_404 += 1\n",
    "        \n",
    "print('{links} links, {hard_404} hard 404, {accidental_404} accidental 404, {soft_404} soft 404'\n",
    "     .format(links=links,\n",
    "             hard_404=hard_404,\n",
    "             accidental_404=accidental_404,\n",
    "             soft_404=len(soft_404),\n",
    "            ))"
   ]
  },
  {
   "cell_type": "code",
   "execution_count": 37,
   "metadata": {
    "collapsed": false
   },
   "outputs": [
    {
     "name": "stdout",
     "output_type": "stream",
     "text": [
      "Probability of a link being 404: 2.26%, of a link being a soft 404 (unconditional): 0.34%\n"
     ]
    }
   ],
   "source": [
    "prob_accidental_404 = accidental_404 / (links - mangled)\n",
    "cond_prob_soft_404 = len(soft_404) / mangled\n",
    "prob_soft_404 = prob_accidental_404 * cond_prob_soft_404\n",
    "\n",
    "print('Probability of a link being 404: {:.2%}, of a link being a soft 404 (unconditional): {:.2%}'\n",
    "      .format(prob_accidental_404, prob_soft_404))"
   ]
  }
 ],
 "metadata": {
  "kernelspec": {
   "display_name": "Python 3",
   "language": "python",
   "name": "python3"
  },
  "language_info": {
   "codemirror_mode": {
    "name": "ipython",
    "version": 3
   },
   "file_extension": ".py",
   "mimetype": "text/x-python",
   "name": "python",
   "nbconvert_exporter": "python",
   "pygments_lexer": "ipython3",
   "version": "3.5.2"
  }
 },
 "nbformat": 4,
 "nbformat_minor": 2
}
