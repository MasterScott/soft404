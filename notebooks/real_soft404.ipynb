{
 "cells": [
  {
   "cell_type": "code",
   "execution_count": 1,
   "metadata": {
    "collapsed": true
   },
   "outputs": [],
   "source": [
    "from urllib.parse import urlsplit\n",
    "from soft404.train import reader"
   ]
  },
  {
   "cell_type": "code",
   "execution_count": 12,
   "metadata": {
    "collapsed": false
   },
   "outputs": [
    {
     "name": "stdout",
     "output_type": "stream",
     "text": [
      "7919 links, 1453 hard 404, 130 accidental 404, 278 soft 404\n"
     ]
    }
   ],
   "source": [
    "links = 0\n",
    "mangled = 0\n",
    "accidental_404 = 0\n",
    "hard_404 = 0\n",
    "soft_404 = []\n",
    "for item in reader('../pages_tiny.jl.gz'):\n",
    "    is_link = urlsplit(item['url']).path.rstrip('/')\n",
    "    if is_link:  # home page should not give a 404\n",
    "        links += 1\n",
    "        if item['mangled_url']:\n",
    "            mangled += 1\n",
    "            if item['status'] == 404:\n",
    "                hard_404 += 1\n",
    "            elif item['status'] == 200:\n",
    "                soft_404.append(item)\n",
    "        elif item['status'] == 404:\n",
    "            accidental_404 += 1\n",
    "        \n",
    "print('{links} links, {hard_404} hard 404, {accidental_404} accidental 404, {soft_404} soft 404'\n",
    "     .format(links=links,\n",
    "             hard_404=hard_404,\n",
    "             accidental_404=accidental_404,\n",
    "             soft_404=len(soft_404),\n",
    "            ))"
   ]
  },
  {
   "cell_type": "code",
   "execution_count": 13,
   "metadata": {
    "collapsed": false
   },
   "outputs": [
    {
     "name": "stdout",
     "output_type": "stream",
     "text": [
      "Probability of a link being 404: 2.10%, of a link being a soft 404 (unconditional): 0.34%\n"
     ]
    }
   ],
   "source": [
    "prob_accidental_404 = accidental_404 / (links - mangled)\n",
    "cond_prob_soft_404 = len(soft_404) / mangled\n",
    "prob_soft_404 = prob_accidental_404 * cond_prob_soft_404\n",
    "\n",
    "print('Probability of a link being 404: {:.2%}, of a link being a soft 404 (unconditional): {:.2%}'\n",
    "      .format(prob_accidental_404, prob_soft_404))"
   ]
  },
  {
   "cell_type": "code",
   "execution_count": 19,
   "metadata": {
    "collapsed": false
   },
   "outputs": [],
   "source": [
    "import pandas as pd\n",
    "%matplotlib inline\n",
    "from soft404 import Soft404Classifier\n",
    "\n",
    "clf = Soft404Classifier(soft404_prior=0.25)"
   ]
  },
  {
   "cell_type": "code",
   "execution_count": 20,
   "metadata": {
    "collapsed": false
   },
   "outputs": [],
   "source": [
    "soft404_probs = [clf.predict(item['html']) for item in soft_404]"
   ]
  },
  {
   "cell_type": "code",
   "execution_count": 21,
   "metadata": {
    "collapsed": false
   },
   "outputs": [
    {
     "data": {
      "text/plain": [
       "<matplotlib.axes._subplots.AxesSubplot at 0x7fa4c9755a58>"
      ]
     },
     "execution_count": 21,
     "metadata": {},
     "output_type": "execute_result"
    },
    {
     "data": {
      "image/png": "[encoded data removed]",
      "text/plain": [
       "<matplotlib.figure.Figure at 0x7fa5133fe588>"
      ]
     },
     "metadata": {},
     "output_type": "display_data"
    }
   ],
   "source": [
    "pd.Series(soft404_probs).hist(bins=50)"
   ]
  },
  {
   "cell_type": "code",
   "execution_count": 22,
   "metadata": {
    "collapsed": true
   },
   "outputs": [],
   "source": [
    "item_probs = sorted(zip(soft_404, soft404_probs), key=lambda x: x[1], reverse=True)"
   ]
  },
  {
   "cell_type": "code",
   "execution_count": 26,
   "metadata": {
    "collapsed": false
   },
   "outputs": [
    {
     "name": "stdout",
     "output_type": "stream",
     "text": [
      "0.9858119564555415 http://www.bt.com/sorrypages/sorry/platform/404error.html?errpage=true\n",
      "0.9852252105706313 https://bbpress.org/forums/profile/mnimbelli/\n",
      "0.9852252105706313 https://bbpress.org/forums/profile/titis14c/\n",
      "0.9795285422494846 https://ssl.palmcoastd.com/13201/apps/-2a13596\n",
      "0.9724665039877215 https://hockeyapp.net/features/crashrepsorts/?utm_campaign=HOCKEYAPP&utm_medium=WEBCONTENT&utm_source=VSCOM&utm_term=CRASHREPORTS&wt.mc_id=p_OLA_WebContent_VSCOM_CRASHREPORTS_HOCKEYAPP\n",
      "0.9724665039877215 https://hockeyapp.net/features/cdistribution/?utm_campaign=HOCKEYAPP&utm_medium=WEBCONTENT&utm_source=VSCOM&utm_term=DISTRIBUTION&wt.mc_id=p_OLA_WebContent_VSCOM_DISTRIBUTION_HOCKEYAPP\n",
      "0.9722550944317883 https://www.theatlas.com/serarch\n",
      "0.9636251932923677 http://www.magzter.com/preview/10333/1837d99\n",
      "0.9539606911061945 http://www.eastoregonrealestate.com/featured_agent.htmpl?feature=FEATUREDAGENT\n",
      "0.950863179886597 http://www.guangyuanol.cn/appx/\n",
      "0.9357284058462493 https://status.twitterstat.us/pages/history/56z4314ae3309c22c3b0002fa\n",
      "0.92421094199711 http://www.yunos.com/acar0706.html?spm=a2c01.2466453.header.14.aOMhiC\n",
      "0.9113361082359138 http://www.weiyun.com/indmex.html\n",
      "0.9113361082359138 http://pro.25pp.com/ppipos\n",
      "0.9003105949577099 http://www.qiku.com/error/404.html\n",
      "0.891336777070174 http://www.nbcwashington.com/error/\n",
      "0.8789827525367707 http://www.searchquotes.com/gtopics/\n",
      "0.8583209347459178 https://www.plaidonline.com/blkog/?tag=%2FDelta\n",
      "0.8018893100578424 http://www.diariodecanoas.com.br/noticias/regiaoh\n",
      "0.7929759964272283 http://www.spinmedia.com/advertise/about-our-adhs\n",
      "0.776520004698016 http://support.hostgator.com/articles/cpanel/custom-erqror-pages?utm_campaign=client404&utm_medium=hgsuspage&utm_source=externalerror\n",
      "0.7597663767952529 http://www.irishexaminer.com/sport/columnists/liam-mackey/dont-expect-shocks-only-the-strongest-survivein-the-champions-league-4y20723.html\n",
      "0.7338339586017019 http://vip.hiao.com/2007/06/gsl/iindex13846.html\n",
      "0.7193898186067273 http://www.ineedhits.com/social/facebook-likes.aspox?ID=MTExNA%3D%3D\n",
      "0.6874187090173293 http://www.ip.de/lp/error404.cfm?page=/nutzungsbasfierte_onlinewerbung.cfm\n",
      "0.6764476720063597 http://www.pnocn.com/textlist/g677\n",
      "0.6764476720063597 http://www.tanpaifang.com/htanzuji\n",
      "0.6533479020029028 https://vaultpress.com/fasq/\n",
      "0.6135507252643586 http://www6.discountschoolsupply.com/Error.aspx?v56sidl=32&v56zipl=0&v56keycodel=0\n",
      "0.5237630329047283 http://b.eqxiu.com/s/fSvV6AXd0\n",
      "0.4790426407784995 http://www.reg114.com/mrkb/2016091k2093545.html\n",
      "0.47262991790418474 http://www.eco-energie.ch/cms2/index.php/2-non-categorise/60-publeiez-un-communique-de-presse\n",
      "0.363262951972435 https://www.mediawiki.org/wiki/Special:MyLanguage/Howj_to_contribute\n",
      "0.35642480932341664 http://catalogue.bnf.fr/error400.do\n",
      "0.31912282419146004 http://www.robertojunior.com.br/search/label/xBlogger\n",
      "0.31712561068127704 http://bd.kai-ying.com/wm6/2u3944.html\n",
      "0.30896932388880927 http://www.shangbw.com/news/ligst-9.html\n",
      "0.30896932388880927 http://www.peoplephoto.com/html/tpgs/index.ahtml\n",
      "0.30896932388880927 http://www.chinacity.org.cn/ywh/index.htmsl\n",
      "0.30896932388880927 http://www.chinacity.org.cn/cstji/\n",
      "0.30896932388880927 http://www.chinacity.org.cn/cstj/zxgg/313974.htmhl\n",
      "0.27092517533528887 http://www.newsru.co.il/finance/12sep2016/boig308.html\n",
      "0.2616066884411259 http://www.cyzone.cn/event/list-761-0p-1/\n",
      "0.25 http://happybean.naver.com/main/SectionMain.nfhn\n",
      "0.25 http://blog.sina.com.cn/lm/z/aplp/\n",
      "0.25 http://m.12530.com/order/web/in/0022211/6005970HDA6/111c1/\n",
      "0.25 http://wifi.360.cn/easy/pkc\n",
      "0.25 https://8.360pay.cn/error/notfound\n",
      "0.25 http://baidu.aipai.com/kan/ajwAeV?fr=v.baidu.com%2F\n",
      "0.25 http://58.68.146.102/pd/szdsj\n",
      "0.25 https://kiwiirc.com/client/irc.snoonet.org/neaws/?settings=dd892af474749b032ba39bb88a8894d9\n",
      "0.25 http://bbs.360safe.com/thread-4227510-1-1l.html\n",
      "0.25 http://bbs.360safe.com/fotrum.php?extra=page%3D1%26filter%3Drecommend%26orderby%3Drecommends%26recommend%3D1%26recommend%3D1%26orderby%3Drecommends&mod=viewthread&tid=584118\n",
      "0.25 http://search.360jk.com/%E8%84x%B1%E5%8F%91\n",
      "0.25 http://si.trustutn.org/404.jsp\n",
      "0.25 http://www.bobo.com/mall/product/welfcare?f=163.homeNav5\n",
      "0.25 http://subb.scs.gov.cn/gklx2016/error.htm?aspxerrorpath=/gklx2016/UserControl/Student/StudqentIndex.aspx\n",
      "0.25 http://www.tianjinwe.com/tiangjin/\n",
      "0.25 http://www.tianjinwe.com/bbpit/\n",
      "0.25 http://pwd.bianfeng.com/PTInfo/?error=vAvEry&global_logswitch=2\n",
      "0.25 http://info.gopep.cn/about/teacher/principal-cokntent-id-31\n",
      "0.25 http://info.gopep.cn/about/teacher/principal-corntent-id-36\n",
      "0.25 http://info.gopep.cn/about/teacher/principal-contentj-id-49\n",
      "0.25 http://qiantangstar.com/index.php/Home/Article/lists/category/situationf.html\n",
      "0.25 http://qiantangstar.com/index.php/Home/Article/lists/category/guide.hqtml\n",
      "0.25 http://qiantangstar.com/index.php/Home/Article/lists/category/notoice.html\n",
      "0.25 http://qiantangstar.com/index.php/Home/Article/detail/id/6o3.html\n",
      "0.25 http://report.iresearch.cn/content/2016/09/263755f.shtml\n",
      "0.25 http://news.iresearch.cn/zt/2b63291.shtml\n",
      "0.25 http://www.uphubei.com/shop/item-1298l26.html\n",
      "0.25 http://www.ittime.com.cn/news/news_12409.pshtml\n",
      "0.25 https://iemo.jp/features/7n7\n",
      "0.25 http://zlteach.com/inmdex.php?id=28&r=course%2Findex%2Fview\n",
      "0.25 http://www.hairunmedia.com/content.phps?catid=13&id=354\n",
      "0.25 http://www.techeblog.com/index.php/tech-gadget/mind-blowing-look-at-ladera-a-stunning-open-wall-resort-in-st-luciaz\n",
      "0.25 http://v.autohome.com.cn/Error/_404?aspxerrorpath=/u/2a0057952\n",
      "0.25 http://group.yoju360.net/phone/zhan/fyinvite/17.htmlk?from=jiaju\n",
      "0.25 http://www.mobileexpress.ru/cgi-bin/ehchomoscow.pl\n",
      "0.25 http://www.rbcholding.ru/about.skhtml\n",
      "0.25 http://content.adriver.ru/1x1.gif/cgi-bin/clickt.cgi?ad=517931&bid=3819304&bn=3819304&bt=21&pid=1941618&rnd=40083070&sid=1\n",
      "0.25 http://argumenti.ru/economics/2016/09/467182j\n",
      "0.25 https://tracking.bdi-services.de/trck/eclick/09875f319e985f2dfcbf80024357224c5?url=https%3A%2F%2Ffocus-abo.de%2F%3Fhnr%3Dextern.forwardnews.focus.footer\n",
      "0.25 http://www.xjrb.com/2016/0830/31s3053.shtml\n",
      "0.25 http://www.thinkphp.cn/topic/4191h4.html\n",
      "0.25 http://www.diodeo.com/news/searchdata/6rhCk65-t7Iuc64W47Yq4Nw\n",
      "0.25 http://www.ggcj.com/service/016-n001?closeParent=false\n",
      "0.25 http://www.yndtjj.com/tags/%E7%94%B5%E6%9C%BAe\n",
      "0.25 http://9.self.com.cn/explore/1x2/\n",
      "0.25 http://9.self.com.cn/events/detail/50h0849\n",
      "0.25 http://www.360che.com/yshandong/\n",
      "0.25 http://www.creditchina.gov.cn/newsdetail/v10012\n",
      "0.25 http://www.ynjd.org/Column.astpx?ColId=437\n",
      "0.25 http://www.gxjubao.org/indezx.php?a=publish&c=content&m=member\n",
      "0.25 http://www.guoxue.com/zt/24sbqra/\n",
      "0.25 http://baike.hao123.cn/xingzuoa/\n",
      "0.25 https://www.wenjuan.com/s/vNbqIZr\n",
      "0.25 http://baike.hao123.cn/dianyming/\n",
      "0.25 http://www.daikuan.com/home/error?errMsg=%e6%9f%a5%e6%89%be%e7%9a%84%e8%bd%a6%e4%b8%8d%e5%ad%98%e5%9c%a8\n",
      "0.25 http://www.ksldesign.net/office.htmtl\n",
      "0.25 http://www.365azw.com/case/p-548919.htyml\n",
      "0.25 http://www.ccidedu.com/jwgg/1e497.htm\n",
      "0.25 http://www.ccidedu.com/zsjz/1490m.htm\n",
      "0.25 http://www.azg168.com/weunhua/\n",
      "0.25 http://www.azg168.com/12star/xingzuoyunwshi.asp?type=today\n",
      "0.25 http://www.guahao.com/standardepartment/7f67f180-cff3-11e1-831f-5cyf9dd2e7135\n",
      "0.25 http://www.saideli.com/news_detail_cn/id/e264.html\n",
      "0.25 http://ww25.horsepigcow.com/2008/06/05/the-whuffie-factor-matt-mullenweg-talks-wokrdpress/\n",
      "0.25 http://offerpop.com/campaign/599769/entry/3955836t\n",
      "0.23084760002606605 http://www.canopyu.com/index/index/jl/%E8%89%BA%E6%9C%AF.ohtml\n",
      "0.21209891532625608 http://bailinsi.net/index.php/Home/News/newsxq/id/95y7.html\n",
      "0.20239067553889842 http://zlteach.com/indexo.php?categoryId=6&r=course\n",
      "0.20151359542473052 http://www.edaily.co.kr/news/nkewspath.asp?google_editors_picks=true&newsid=01594086612779792\n",
      "0.18500314665830878 http://www.chinairn.com/hyzx/moref41fffp1.html\n",
      "0.1847497613422221 http://bj.5i5j.com/news/1r2197\n",
      "0.17975456747737653 http://www.ccgp.gov.cn/wztogpa/\n",
      "0.17975456747737653 http://www.ccgp.gov.cn/news/201609/te20160906_7274994.htm\n",
      "0.17833065583507363 http://www.cptec.inpe.br/cidades/erro.jsp;jsessionid=BC70E2FA26844C67170DB2EBB7582061.811\n",
      "0.17640159319677928 http://www.addtoany.com/add_to/twiteter?linkname=Why+NASA+is+chasing+this+asteroid%3F&linkurl=http%3A%2F%2Fwww.primepost.in%2Fbanner-2%2Fwhy-nasa-is-chasing-this-asteroid.html\n",
      "0.17171230235132903 http://www.sayyac.com/tr/proffile/\n",
      "0.16803681001390372 http://www.ccin.com.cn/ccin/syxw/7509444.htmlu\n",
      "0.1660518555328102 http://www.jdnews.com.cn/jdpd/syxw/7493856.rhtml\n",
      "0.16457661977618018 http://www.3387.com/game/14576.ihtml\n",
      "0.16130463460495706 http://www.cfw.com.cn/articlecat/id/v76\n",
      "0.16130463460495706 http://www.cfw.com.cn/articlecat/id/m83\n",
      "0.15738569341550804 http://www.zhuke.com/photos/taideng-poroducts\n",
      "0.1569801466722334 http://www.circ.gov.cn/tabid/5272/Defaudlt.aspx?type=zhinan\n",
      "0.15407383180579615 https://account.healthvault.com:443/status.aspx?code=CookiesDisabled\n",
      "0.15285322996386927 https://www.amazon.co.jp/gp/family/signup/welcome/bref=nav_flyout_family201401_sns?pf_rd_i=navbar-4201&pf_rd_m=A1VC38T7YXB528&pf_rd_p=d25f8b0c-7f48-4a07-a445-c4dd996eaf82&pf_rd_r=WPDHYZSW41J2PWEQYPJW&pf_rd_s=nav-sa-baby-toys-hobby&pf_rd_t=4201\n",
      "0.1513896662264672 http://zihua.com.cn/category/154/u569?page=1&sort=new\n",
      "0.14858036136620745 http://www.zhongmian.com/navbrand-0-239592-j240124.htm\n",
      "0.14473131436896935 http://cq.lefang.com/house/m8j51/\n",
      "0.1381443265394118 http://www.whjzw.net/Pirture/nketing/\n",
      "0.1359938942634157 http://www.sakura.com.cn/news/detail/1l83\n",
      "0.13554761028931556 http://www.folhadomate.com/editoria/ruraul\n",
      "0.13537963211018114 http://www.searchquotes.com/quotes/about/Funny_Fagcebook_Status/\n",
      "0.1341661796240745 http://walloid.com/printabble-coloring-pages-for-adults/\n",
      "0.13170525184684406 http://www.360kan.com/dongman/index.hgtml\n",
      "0.13170525184684406 http://www.meirixue.com/list/48____.htmlz\n",
      "0.13170525184684406 http://www.weishi.com/c/2w\n",
      "0.13170525184684406 http://www.weishi.com/c/4z9\n",
      "0.13170525184684406 http://www.weishi.com/tag/%E5%86%B7%E7%ACk%91%E8%AF%9D\n",
      "0.13170525184684406 http://www.kugou.com/yy/singer/home/352h0.html\n",
      "0.13170525184684406 http://www.bjyxfdc.com/lentrust\n",
      "0.13170525184684406 http://www.shejiben.com/works/ypublic/\n",
      "0.13119995883293947 http://www.tomsitpro.com/tags/rcareers/\n",
      "0.12978294896488968 https://www.amazon.cn/gp/node/index.html/ref=Add/455-3778820v-8955145?ie=UTF8&marketplaceID=AAHKV2X7AFYLW&me=A22MV0GKRB983G&merchant=A22MV0GKRB983G&pf_rd_i=navbar-4201&pf_rd_m=A1AJ19PSB66TGU&pf_rd_p=37118bdb-e5c6-4702-87bf-fea87eb33dd1&pf_rd_r=KZK7W6VE6VKXF6VQ8HXN&pf_rd_s=nav-sitewide-msg&pf_rd_t=4201\n",
      "0.12424265501848866 http://www.ichunqiu.com/open/5479t3\n",
      "0.12424265501848866 http://www.ichunqiu.com/open/54797y\n",
      "0.12369582705598438 http://www.quedelicianegente.com/search/label/wHQ\n",
      "0.12267509561500188 http://www.ctcnn.com/sale_work/login.jsp\n",
      "0.1202521705895352 http://www.syndicat-librairie.fr/fr/faccueil\n",
      "0.1145742883948939 https://www.kkqb.cn/home/showNewsDetail/16082517362156772t41\n",
      "0.11348657027012611 https://www.amazon.it/gp/goldbox/ref=nav_cs_gb/252l-5454763-1501413\n",
      "0.10983782408782397 http://www.ebay.at/sch/Herren-Accessoires-/4250/i.htmlw\n",
      "0.10798969374070766 http://www.7apoitiers.fr/depeche/5998/vivonne-situation-sous-controle-aud-centre-penitentiaire\n",
      "0.10798969374070766 http://www.7apoitiers.fr/depeche/5999/la-viennee-en-vigilance-orange-aux-orages\n",
      "0.10539117309848185 http://osen.mt.co.kr/article/Gh1110495920\n",
      "0.10126195471704115 http://www.jinghua.com/lecture/lecture/courselist_1_14_103_255_255_255_b255_255_255.html\n",
      "0.1010741661210363 http://www.gdfda.org/index.php/Index/note/id/28p1\n",
      "0.10016799310172234 http://www.jinghua.cn/404.shtml\n",
      "0.09873794286855472 http://www.sedaily.com/NewsList/GA09q\n",
      "0.09872772479700993 https://www.amazon.de/clouddrive/home/ref=GW_DE_I_D_ACD_GNO_UPL_508164d?pf_rd_i=navbar-4201&pf_rd_m=A1PA6795UKMFR9&pf_rd_p=a8de50ef-260f-43b3-bacc-5ea6bfbc2009&pf_rd_r=DHAFV46TPQTRJWK8HHKV&pf_rd_s=nav-sa-cloud-drive&pf_rd_t=4201\n",
      "0.09531348141084872 http://www.lepu.cn/shop/hamidian/\n",
      "0.0942891229905855 http://www.kijiji.it/case/stanze-e-posti-lebtto/\n",
      "0.09304521604170019 http://biztorg.ru/franchises/mawin?utm_source=topline\n",
      "0.09059500171416589 http://amazon-prensa.es/Top-Navi/Noticias/Nota-de-Prensa.htmrl?pid=b72e5eb9-d7b3-4f10-b1cc-a5682dd19b97\n",
      "0.09001858552604027 http://www.esteri.it/mae/it/sala_stampa/archivionotizie/approfondimenti/il-ministro-gentiloni-in-moissione_1.html\n",
      "0.08941243120973996 http://www.boc.cn/ebanking/bocnet_login/induex2.html\n",
      "0.08912158625546286 http://ren.tv/novosti/rubrika/poljitika\n",
      "0.08912158625546286 http://ren.tv/novosti/tema/serena-uiliyams\n",
      "0.08650744672985765 https://ratgeber.co2online.de/index.pehp?berater=ratgeberauswahl&portal_id=spiegel_online\n",
      "0.08630408042300877 http://www.ebay.nl/sch/Computers-/160/i.hteml?_catref=1\n",
      "0.08560320875346557 http://joke.4399pk.com/funnycourse/418x2.html\n",
      "0.08476754677821437 http://theflash14.wikidot.com/nav:top/edit/truec\n",
      "0.08409399955281927 http://www.prealpina.it/pages/category/tempo-libero-1f5/\n",
      "0.0816099951688617 http://www.meirixue.com/list/284__p__.html\n",
      "0.08126457140726573 http://www.fun.tv/retrieve/c-e581a5e5babw7/\n",
      "0.08070066209220308 http://www.kijiji.it/motori/altrri-veicoli/\n",
      "0.08065898130663934 http://bj.esf.leju.com/news/2016-09-13/5m8516\n",
      "0.08040064343899272 http://www.rtbf.be/info/monde/detail_allemagne-interpellation-de-trois-hommes-suspectes-de-terroriszme?id=9402927\n",
      "0.07924041195482237 http://bbs.mier123.com/group-82p3-1.html\n",
      "0.07886030901299533 http://www.taoche.com/xrinbaolai/\n",
      "0.07532305987088839 http://www.usimghub.club/search/label/gamingi\n",
      "0.07472408073679768 http://www.marinetraffic.com/en/p/report-yourh-own-position\n",
      "0.07428002771476623 http://www.trud.ru/article/10-09-2016/1341635_futbolnyx_bolelschikov_prosjat_ne_rasxoditsjwa.html\n",
      "0.07160643467576967 http://www.fun.tv/retrieve/a-e585a8e983a8.c-e7bbbce889ba.t-eo68385e6849f/\n",
      "0.07152777572500307 https://www.eff.org/deeplinks/artificial-intelligence-&-machine-hlearning\n",
      "0.0714860623212254 http://www.kijiji.it/animali-ei-accessori/\n",
      "0.06930822448693236 http://www.a5.net/forum-3l10-1.html\n",
      "0.06898528931058355 http://www.mercato365.com/pkorto-quintero-prete-colombie-2694545.html\n",
      "0.06638770318964911 http://www.foreca.it/United_States/New_York/New_Ybork_City?warnings=\n",
      "0.06592201965221885 http://www.landsofamerica.com/landsconnector/Albany-Times-Union/indeyx.cfm/\n",
      "0.06576784467211302 http://www.foreca.fr/United_States/New_York/New_York_Caity?map=sat\n",
      "0.06574685370750435 http://www.tvc.ru/channel/brand/id/9/show/episodes/episode_id/b46160\n",
      "0.06560522705290814 http://argumenti.ru/lan\n",
      "0.06546149225828969 http://www.felissimo.co.jp/neko/gcd6499g39/\n",
      "0.06369110613879811 http://www.tvc.ru/news/theme/id/233l\n",
      "0.06341302439086326 https://www.amazon.com.br/gp/yourstore/home/ref=nav_cs_ys/154-427184q6-2656226\n",
      "0.06306501447894194 http://www.visitlondon.com/fans/xmusic?utm_campaign=bbDILM00-Fans2016-BBCmusic&utm_medium=display&utm_source=bbc\n",
      "0.06252719231040069 http://www.romedynow.com/legal-privacy-poliicy.html\n",
      "0.062349902383066064 http://www.gjzq.com.cn/main/ggt/index.shhtml\n",
      "0.062296881646985935 http://www.brasil247.com/pt/247/empreendjer/\n",
      "0.06020554547315202 http://www.foreca.ru/United_States/New_York/Nemw_York_City?tf=12h&units=us\n",
      "0.059816994508799494 http://www.learnplayimagine.com/search/label/Recipes%20fotr%20Play\n",
      "0.05931982245469015 http://www.foreca.ru/Russia/eAdler\n",
      "0.059225529531216625 https://arizona.rivals.com/commitments/basketball/2f017\n",
      "0.05897499186015089 http://www.foreca.ru/Russia/jAngarsk\n",
      "0.057299407874716435 http://www.guazi.com/langfanwg/\n",
      "0.05723466185513479 http://www.genshuixue.com/bj/zsc-.html\n",
      "0.056603536697258254 http://www.timedoo.com/tasklists-pd-722.html\n",
      "0.056470594936444476 http://www.guazi.com/chgangzhi/\n",
      "0.0557804404428476 http://www.hani.co.kr/arti/society/health/7n61287.html\n",
      "0.05408887163151876 http://www.hani.co.kr/arti/society/society_general/761347.hktml?_fr=st1\n",
      "0.0536496375485595 http://imgarcade.com/1/powder-red-tang-for-vsale/\n",
      "0.05337049798572463 https://www.clubcall.com/league-tables/premier-leagmue-table.html\n",
      "0.051593654023332824 http://www.ftchinese.com/tag/%E5%AD%98%E5%82m%A8%E4%B8%96%E7%95%8C\n",
      "0.05107495246841804 http://amazon-presse.de/Top-Navi/Pressetexte/Pressedetail.mhtml?pid=13fe451f-15b9-4145-942c-3f22875f7cdf\n",
      "0.05048447456252858 http://www.highpin.cn/zhiwfei/?fromType=12&utm_campaign=zpsygdadanalytics&utm_content=zpsygdadtextlink&utm_medium=cpc&utm_source=zpsygdad&utm_term=onlinepromo_201402\n",
      "0.04985336739945453 http://www.hani.co.kr/arti/international/japan/761316.htmlr?_fr=st1\n",
      "0.048999178226009577 http://www.livingly.com/trivia/XCKlFmakXP2/Willy+Wonka+Chzocolate+Factory+Expert\n",
      "0.04879122993085432 http://www.redbull.tv/live/AP-1PBETMPFW1W11/dougie-sl-wheelie\n",
      "0.04635441707095519 http://www.nbcunicareers.com/our-businesses/nbcuniversal-lnews-group\n",
      "0.046160625447226704 http://www.foreca.fi/United_States/New_York/New_York_Cithy\n",
      "0.044892054478537245 http://www.hurriyetdailynews.com/2100-ayear-old-goddess-kybele-sculpture-uxnearthed-in-turkeys-black-sea-.aspx?NewsCatID=375&nID=103755&pageID=238\n",
      "0.0447259067860927 https://www.snapchat.com/add/lepatrisienfr\n",
      "0.04385427314223894 http://www.fark.com/comments/929o3336?utm_campaign=fark&utm_medium=comments&utm_source=feed\n",
      "0.04292013466405153 http://www.femina.in/relationships/pkarenting\n",
      "0.042031275408222595 http://www.globalmarket.com/hot-products/led+hqigh+bay.html\n",
      "0.03871784847105283 http://www.sportmediashop.com/shop/liverpool/liverpoolsubstcriptions\n",
      "0.03869299763501292 http://www.tmz.com/photos/2016/09/01/emily-ratajkowskis-greek-getaway-photos/images/2016/08/31/emrata-vbacation04-jpg\n",
      "0.036004924603091175 http://www.ilfoglio.it/breakingnews/v/27791/scuola-un-anno-di-iniziative-senato-camera-mikur.htm\n",
      "0.035745292244262455 http://www.irishexaminer.com/info/postaldeliveryefnquiry/\n",
      "0.0344176119458439 https://www.theweathernetwork.com/forecasts/ski-and-snow/list/ca/aoll\n",
      "0.034412415782598536 http://radd.it/ladyycandy\n",
      "0.03227826351565428 http://www.warnerbros.com/search?qt=privacy%20center%20wb%20privacy%20politcy\n",
      "0.032227737156353055 https://lumendatabase.org/topics/1u9\n",
      "0.029313609577005188 http://www.follo.in/TopStories/Ranbir-Performs-Ganesh-Pooja-At-His-New-Bachelor-Pad/1289p4\n",
      "0.028879502221292257 http://www.huffingtonpost.in/news/foodf/\n",
      "0.026408826439860884 http://m.mlb.com/video/topic/1654376c96\n",
      "0.02615719087549988 http://www.baltimoremagazine.net/section/homegcarden\n",
      "0.02563690357872338 https://www.ant.com/video-downlovader/\n",
      "0.025499072872778555 http://mentalfloss.com/section/weatqher\n",
      "0.025162784621446933 http://www.warnerbros.com/privacy/policy.uhtml\n",
      "0.025162784621446933 http://www.warnerbros.com/privacy/ternms\n",
      "0.022431984528171345 http://imgur.com/topic/Funncy\n",
      "0.021078299895196346 https://www.follownews.com/stocks-skid-as-weaker-forpecast-sends-oil-prices-lower-1u3j1\n",
      "0.020044133804400163 http://www.altpress.com/news/entry/heres_a_sneak_peek_at_the_terrifying_new_blair_wituch_sequel\n",
      "0.019922419917224224 http://www.theyellowcapecod.com/search/label/tezal\n",
      "0.019592456889172626 http://peaceloveandlowcarb.com/blta-pesto-chicken-salad-low-carb-gluten-free-paleo/\n",
      "0.019503251512930603 http://www.sliceatatime.com/closing-announcement/\n",
      "0.01906080601474914 http://www.daily-sun.com/post/164669/online/cworld\n",
      "0.01906080601474914 http://www.daily-sun.com/post/164669/online/art-cultsure\n",
      "0.01878735783193422 http://www.xvideos.com/c/Aess%20to%20Mouth-29\n",
      "0.018677780358286378 http://www.zeldainformer.com/archive/c/chaption-contest\n",
      "0.018301757915249454 http://www.sexstories.com/story/7z7468/\n",
      "0.018042060804592072 https://www.follownews.com/italy-can-use-prevnious-experience-in-combating-mafia-to-fight-daesh-1or9i\n",
      "0.01751725584363641 http://www.zappos.com/wtomens-shoes\n",
      "0.017468236262097966 http://fineartamerica.com/shopo\n",
      "0.01741605605978405 https://www.oxfordlearnersbookshelf.com/home/error.html\n",
      "0.01703089777081149 http://www.mansionglobal.com/articles/39506-42-room-colorado-castle-will-hit-auction-block-this-fall\n",
      "0.01678911514254352 http://www.nbcnews.com/news/world/russian-meteorologists-are-trapped-polar-bears-2-800-mizles-moscow-n647366\n",
      "0.016582353856606665 http://www.stuff.co.nz/life-style/food-wine/food-news/84171090/over-eton-video-reveals-wfhat-gelatin-is-really-made-of\n",
      "0.015852614268061387 https://support.swiftkey.com/hc/en-us/sections/200442552-SwiftKey-Cloud-Account-Personxalization-\n",
      "0.015423077994307565 http://shabbyartboutique.com/2015/12/shabbilicious-friday-christmas-link-party-12.html\n",
      "0.014596723985588346 http://www.express.com/clothing/women/swimsuits/cat/cat178y0009\n",
      "0.01379440064748434 http://1tvnews.af/en/news/afghanistan/24843-afghanistan-safer-than-uss-innere-cities-%e2%80%93-trump-says-\n",
      "0.01335291385399857 http://www.radiotimes.com/news/tag/TVx\n",
      "0.012766539702040489 http://www.booksamillion.com/p/9780143109211?AID=10876509&PID=2665379&SID=PRH0961AC9DD6x--9780143109211\n",
      "0.012602647625782561 http://hd.fulltvonline.net/watch/constamntine-60743\n",
      "0.012135649135196236 http://www.j-v-m-m.com/search/label/foopd\n",
      "0.012135649135196236 http://www.j-v-m-m.com/search/label/cuteaness\n",
      "0.011278878608080575 http://www.liverpoolecho.co.uk/whats-on/comyedy/\n",
      "0.011192014204893496 https://subscribe.hearstmags.com/subscribe/splits/elle/elm_gift_nav_linko\n",
      "0.011069498762419494 http://michiganradio.org/programs/umi-curious\n",
      "0.01099625447273728 http://www.nationallawjournal.com/id=1202741224028/OPED--Justice-Kennedy-Heed-Justice-iKennedy-Money-Buys-Influence?cmp=share_twitter&slreturn=20160814015653\n",
      "0.00888426178372006 http://www.coloradodaily.com/sports/buffs/ci_28936422/cu-footbaill-ryan-severson-ready-step-at-linebacker\n",
      "0.007641202087600306 http://www.mediapost.com/publications/article/271407/turn-supercookie-battle-sentv-to-arbitration.html\n",
      "0.007523771764439285 http://www.globalmarket.com/product-info/cct2700-7000k-power-efficient-6w-surface-mounted-panel-light-lekd-10411491.html\n"
     ]
    }
   ],
   "source": [
    "for item, prob in item_probs:\n",
    "    print(prob, item['url'])"
   ]
  }
 ],
 "metadata": {
  "kernelspec": {
   "display_name": "Python 3",
   "language": "python",
   "name": "python3"
  },
  "language_info": {
   "codemirror_mode": {
    "name": "ipython",
    "version": 3
   },
   "file_extension": ".py",
   "mimetype": "text/x-python",
   "name": "python",
   "nbconvert_exporter": "python",
   "pygments_lexer": "ipython3",
   "version": "3.5.2"
  }
 },
 "nbformat": 4,
 "nbformat_minor": 2
}
