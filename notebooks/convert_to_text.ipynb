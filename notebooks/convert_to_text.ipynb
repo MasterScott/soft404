{
 "cells": [
  {
   "cell_type": "code",
   "execution_count": 6,
   "metadata": {
    "collapsed": false
   },
   "outputs": [
    {
     "name": "stderr",
     "output_type": "stream",
     "text": [
      "WARNING:root:Error found: truncated archive. EOFError('Compressed file ended before the end-of-stream marker was reached',)\n"
     ]
    }
   ],
   "source": [
    "import json_lines\n",
    "import gzip\n",
    "import json\n",
    "\n",
    "from soft404.utils import cleaned_selector, selector_to_text\n",
    "\n",
    "with gzip.open('../text_items.jl.gz', 'wt') as outf:\n",
    "    with json_lines.open('../crawler/items.jl.gz', broken=True) as f:\n",
    "        for item in f:\n",
    "            sel = cleaned_selector(item.pop('html'))\n",
    "            text_item = {\n",
    "                'url': item['url'],\n",
    "                'text': selector_to_text(sel),\n",
    "                'title': xpath('//title//text()').extract().join('\\n'),\n",
    "                'status': item['status'],\n",
    "            }\n",
    "            outf.write(json.dumps(text_item))\n",
    "            outf.write('\\n')"
   ]
  },
  {
   "cell_type": "code",
   "execution_count": 20,
   "metadata": {
    "collapsed": false
   },
   "outputs": [],
   "source": [
    "import json_lines\n",
    "\n",
    "with json_lines.open('../crawler/items.jl.gz', broken=True) as f:\n",
    "    for i, item in enumerate(f):\n",
    "        if i > 100:\n",
    "            break"
   ]
  },
  {
   "cell_type": "code",
   "execution_count": 21,
   "metadata": {
    "collapsed": false
   },
   "outputs": [],
   "source": [
    "from soft404.utils import _cleaned_html_tree\n",
    "tree = _cleaned_html_tree(item['html'])\n",
    "sel = parsel.Selector(root=tree, type='html')"
   ]
  },
  {
   "cell_type": "code",
   "execution_count": 31,
   "metadata": {
    "collapsed": false
   },
   "outputs": [
    {
     "data": {
      "text/plain": [
       "212"
      ]
     },
     "execution_count": 31,
     "metadata": {},
     "output_type": "execute_result"
    }
   ],
   "source": [
    "# this is not quite what I want - I want to avoid breaking text on inline nodes\n",
    "len(list(x for x in (x.strip() for x in tree.itertext()) if x))"
   ]
  },
  {
   "cell_type": "code",
   "execution_count": 33,
   "metadata": {
    "collapsed": false
   },
   "outputs": [
    {
     "data": {
      "text/plain": [
       "(74,\n",
       " [('aside', 'VK on the App Store'),\n",
       "  ('ul', 'Open Menu Close Menu Apple Shopping Bag'),\n",
       "  ('aside',\n",
       "   'Apple Mac iPad iPhone Watch TV Music Support Search apple.com Shopping Bag'),\n",
       "  ('div', 'Overview Music Video Charts'),\n",
       "  ('div',\n",
       "   \"Opening the iTunes Store. If iTunes doesn't open, click the iTunes application icon in your Dock or on your Windows desktop. Progress Indicator\"),\n",
       "  ('div',\n",
       "   \"Opening the iBooks Store. If iBooks doesn't open, click the iBooks app in your Dock. Progress Indicator\"),\n",
       "  ('h2', 'iTunes'),\n",
       "  ('p',\n",
       "   \"iTunes is the world's easiest way to organize and add to your digital media collection.\"),\n",
       "  ('div',\n",
       "   'We are unable to find iTunes on your computer. To download the free app VK by VKontakte, get iTunes now.'),\n",
       "  ('div',\n",
       "   'Already have iTunes? Click I Have iTunes to open it now. iTunes for Mac + PC'),\n",
       "  ('h2', 'VK'),\n",
       "  ('div', 'By VKontakte'),\n",
       "  ('p', 'View More by This Developer'),\n",
       "  ('div', 'Open iTunes to buy and download apps.'),\n",
       "  ('p', 'Description'),\n",
       "  ('div',\n",
       "   \"VK is a social network that unites people all over the world and helps them communicate comfortably and promptly. You can message your friends and see what's new in their lives, share photos, and watch videos. Our users join communities, meet new people, and adore playing games.\"),\n",
       "  ('div', 'VK Support'),\n",
       "  ('p', \"What's New in Version 2.8\"),\n",
       "  ('div', '• You can now draw graffiti in messages.'),\n",
       "  ('div', 'iPhone Screenshots'),\n",
       "  ('div', 'Customer Reviews'),\n",
       "  ('div', 'Video icon in communities and page.'),\n",
       "  ('p', 'by\\n        \\n          Rmzero'),\n",
       "  ('div',\n",
       "   'In the previous version U added a video icon, which we can browse all videos and albums of any page and communities. And in this version video icon is not exits any more.'),\n",
       "  ('div', 'No music anymore'),\n",
       "  ('p', 'by\\n        \\n          Tej410'),\n",
       "  ('div',\n",
       "   \"Stopped being any good or of any use after the music feature was taken away... And I lost my entire playlist without warning. I can't even get the names of the songs back. Messed up.\"),\n",
       "  ('div', 'Music gone'),\n",
       "  ('p', 'by\\n        \\n          Dr. Krane'),\n",
       "  ('div',\n",
       "   'Music deleted, app is completely useless, will simply load the page✌🏼️'),\n",
       "  ('div', 'Customers Also Bought'),\n",
       "  ('div', 'Swist - chat for Vk / Vkontakte Social Networking View in iTunes'),\n",
       "  ('div', 'OK.RU Social Networking View in iTunes'),\n",
       "  ('div',\n",
       "   'ICQ – Free Video Call, Chat and Voice Social Networking View in iTunes'),\n",
       "  ('div',\n",
       "   'Agent – free videocalls and messages Social Networking View in iTunes'),\n",
       "  ('div', 'Му World Social Networking View in iTunes'),\n",
       "  ('ul', 'View in iTunes'),\n",
       "  ('div',\n",
       "   'Free Category: Social Networking Updated: Jul 23, 2016 Version: 2.8 Size: Languages: Seller: VKontakte © 2016 VK'),\n",
       "  ('ul', 'Rated 12+ for the following:'),\n",
       "  ('p',\n",
       "   'Infrequent/Mild Profanity or Crude Humor Infrequent/Mild Mature/Suggestive Themes Infrequent/Mild Realistic Violence Infrequent/Mild Horror/Fear Themes Infrequent/Mild Sexual Content and Nudity Infrequent/Mild Cartoon or Fantasy Violence'),\n",
       "  ('div',\n",
       "   'Compatibility: Requires iOS 8.0 or later. Compatible with iPhone, iPad, and iPod touch.'),\n",
       "  ('div', 'Customer Ratings'),\n",
       "  ('div', 'Current Version:'),\n",
       "  ('div', '1.93333'),\n",
       "  ('div', '30 Ratings'),\n",
       "  ('div', 'All Versions:'),\n",
       "  ('div', '1927 Ratings'),\n",
       "  ('ol', 'Top In-App Purchases'),\n",
       "  ('div',\n",
       "   'Votes 32 pack $3.99 Votes 8 pack $0.99 3 votes pack $0.99 Votes 16 pack $1.99 Votes 24 pack $2.99 NICHOSI $0.99 Foxy $0.99 Love matters $0.99 Tweety $0.99 Persik $0.99'),\n",
       "  ('ul', 'More iPhone Apps by VKontakte'),\n",
       "  ('div', 'Snapster 2.0 View in iTunes'),\n",
       "  ('div',\n",
       "   'Vinci – Edit Photos with Creative Picture Filters and Art Effects View in iTunes'),\n",
       "  ('p', 'Discover and share'),\n",
       "  ('section', 'Follow us on @AppStore'),\n",
       "  ('section', 'Discover and share new music, movies, TV, books, and more.'),\n",
       "  ('footer', 'Follow us @iTunes'),\n",
       "  ('div', '\\uf8ff Apple'),\n",
       "  ('div', 'iTunes'),\n",
       "  ('ul', 'Shop and Learn Open Menu Close Menu'),\n",
       "  ('div', 'Mac iPad iPhone Watch TV Music iTunes iPod Accessories Gift Cards'),\n",
       "  ('ul', 'Apple Store Open Menu Close Menu'),\n",
       "  ('div',\n",
       "   'Find a Store Genius Bar Workshops and Learning Youth Programs Apple Store App Refurbished Financing Reuse and Recycling Order Status Shopping Help'),\n",
       "  ('ul', 'For Education Open Menu Close Menu'),\n",
       "  ('div', 'Apple and Education Shop for College'),\n",
       "  ('ul', 'For Business Open Menu Close Menu'),\n",
       "  ('div', 'Apple and Business Shop for Business'),\n",
       "  ('ul', 'Account Open Menu Close Menu'),\n",
       "  ('div', 'Manage Your Apple ID Apple Store Account iCloud.com'),\n",
       "  ('ul', 'Apple Values Open Menu Close Menu'),\n",
       "  ('div',\n",
       "   'Environment Supplier Responsibility Accessibility Privacy Inclusion and Diversity Education'),\n",
       "  ('ul', 'About Apple Open Menu Close Menu'),\n",
       "  ('section',\n",
       "   'Apple Info Job Opportunities Press Info Investors Events Hot News Contact Apple'),\n",
       "  ('div',\n",
       "   'More ways to shop: Visit an Apple Store call 1-800-MY-APPLE, or find a reseller'),\n",
       "  ('div', 'Copyright © 2016 Apple Inc. All rights reserved.')])"
      ]
     },
     "execution_count": 33,
     "metadata": {},
     "output_type": "execute_result"
    }
   ],
   "source": [
    "BLOCK_TAGS = {\n",
    "    'address', 'article', 'aside', 'audio', 'blockquote', 'canvas', 'dd',\n",
    "    'div', 'dl', 'fieldset', 'figcaption', 'figure', 'footer', 'form',\n",
    "    'h1', 'h2', 'h3', 'h4', 'h5', 'h6', 'h7', 'h8',\n",
    "    'header', 'hgroup', 'hr', 'noscript', 'ol', 'output', 'p', 'pre',\n",
    "    'section', 'table', 'tfoot', 'ul', 'video',\n",
    "}\n",
    "\n",
    "def get_blocks(tree):\n",
    "    text_blocks = []\n",
    "    current = []\n",
    "    tag = None\n",
    "    for node in tree.iter():\n",
    "        if node.tag in BLOCK_TAGS:\n",
    "            tag = node.tag\n",
    "            if current:\n",
    "                text_blocks.append((tag, ' '.join(current)))\n",
    "                current = []\n",
    "        if node.text:\n",
    "            text = node.text.strip()\n",
    "            if text:\n",
    "                current.append(text)\n",
    "    return text_blocks\n",
    "\n",
    "# TODO - also get parent block tag?\n",
    "\n",
    "text_blocks = get_blocks(tree)\n",
    "len(text_blocks), text_blocks"
   ]
  }
 ],
 "metadata": {
  "kernelspec": {
   "display_name": "Python 3",
   "language": "python",
   "name": "python3"
  },
  "language_info": {
   "codemirror_mode": {
    "name": "ipython",
    "version": 3
   },
   "file_extension": ".py",
   "mimetype": "text/x-python",
   "name": "python",
   "nbconvert_exporter": "python",
   "pygments_lexer": "ipython3",
   "version": "3.5.1"
  }
 },
 "nbformat": 4,
 "nbformat_minor": 1
}
