{
 "cells": [
  {
   "cell_type": "code",
   "execution_count": 6,
   "metadata": {
    "collapsed": false
   },
   "outputs": [
    {
     "name": "stderr",
     "output_type": "stream",
     "text": [
      "WARNING:root:Error found: truncated archive. EOFError('Compressed file ended before the end-of-stream marker was reached',)\n"
     ]
    }
   ],
   "source": [
    "import json_lines\n",
    "import gzip\n",
    "import json\n",
    "\n",
    "from soft404.utils import html2text\n",
    "\n",
    "with gzip.open('../text_items.jl.gz', 'wt') as outf:\n",
    "    with json_lines.open_file('../crawler/items.jl.gz') as f:\n",
    "        for item in json_lines.reader(f, broken=True):\n",
    "            try:\n",
    "                text = html2text(item.pop('html'))\n",
    "            except Exception:\n",
    "                pass\n",
    "            else:\n",
    "                text_item = {\n",
    "                    'url': item['url'],\n",
    "                    'text': text,\n",
    "                    'status': item['status'],\n",
    "                }\n",
    "                outf.write(json.dumps(text_item))\n",
    "                outf.write('\\n')"
   ]
  }
 ],
 "metadata": {
  "kernelspec": {
   "display_name": "Python 3",
   "language": "python",
   "name": "python3"
  },
  "language_info": {
   "codemirror_mode": {
    "name": "ipython",
    "version": 3
   },
   "file_extension": ".py",
   "mimetype": "text/x-python",
   "name": "python",
   "nbconvert_exporter": "python",
   "pygments_lexer": "ipython3",
   "version": "3.5.1"
  }
 },
 "nbformat": 4,
 "nbformat_minor": 1
}
