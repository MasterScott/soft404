{
 "cells": [
  {
   "cell_type": "code",
   "execution_count": 1,
   "metadata": {
    "collapsed": false,
    "scrolled": true
   },
   "outputs": [
    {
     "name": "stderr",
     "output_type": "stream",
     "text": [
      "WARNING:root:Error found: truncated archive. EOFError('Compressed file ended before the end-of-stream marker was reached',)\n"
     ]
    },
    {
     "name": "stdout",
     "output_type": "stream",
     "text": [
      "Number of erorrs: 0\n"
     ]
    }
   ],
   "source": [
    "import json_lines\n",
    "import gzip\n",
    "import json\n",
    "import traceback\n",
    "import sys\n",
    "import multiprocessing\n",
    "\n",
    "from soft404.utils import cleaned_selector, selector_to_text, get_text_blocks\n",
    "\n",
    "\n",
    "def convert_item(item):\n",
    "    try:\n",
    "        sel = cleaned_selector(item.pop('html'))\n",
    "        text_item = {\n",
    "            'url': item['url'],\n",
    "            'text': selector_to_text(sel),\n",
    "            'title': ' '.join(sel.xpath('/html/head/title//text()').extract()),\n",
    "            'status': item['status'],\n",
    "        }\n",
    "        body = sel.xpath('/html/body')\n",
    "        if body:\n",
    "            text_item['blocks'] = get_text_blocks(body[0].root)\n",
    "    except Exception:\n",
    "        return None\n",
    "    else:\n",
    "        return text_item\n",
    "\n",
    "        \n",
    "with gzip.open('../text_items.jl.gz', 'wt') as outf:\n",
    "    with json_lines.open('../pages.jl.gz', broken=True) as f:\n",
    "        n_errors = 0\n",
    "        with multiprocessing.Pool() as pool:\n",
    "            for text_item in pool.imap_unordered(convert_item, f, chunksize=1000):\n",
    "                if text_item is None:\n",
    "                    n_errors += 1\n",
    "                else:\n",
    "                    outf.write(json.dumps(text_item))\n",
    "                    outf.write('\\n')\n",
    "                    \n",
    "print('Number of erorrs: {}'.format(n_errors))"
   ]
  },
  {
   "cell_type": "code",
   "execution_count": 51,
   "metadata": {
    "collapsed": false,
    "scrolled": true
   },
   "outputs": [
    {
     "name": "stdout",
     "output_type": "stream",
     "text": [
      "json\n",
      "CPU times: user 8 ms, sys: 0 ns, total: 8 ms\n",
      "Wall time: 7.05 ms\n",
      "\n",
      "b64 + pickle\n",
      "CPU times: user 4 ms, sys: 0 ns, total: 4 ms\n",
      "Wall time: 3.21 ms\n",
      "\n",
      "pickle\n",
      "CPU times: user 0 ns, sys: 0 ns, total: 0 ns\n",
      "Wall time: 1.23 ms\n"
     ]
    }
   ],
   "source": [
    "text_item = convert_item(item)\n",
    "in_text = json.dumps(text_item)\n",
    "import pickle, base64\n",
    "in_pkl = pickle.dumps(text_item, protocol=-1)\n",
    "in_pkl_b64 = base64.b64encode(pickle.dumps(text_item, protocol=-1))\n",
    "\n",
    "N = 1000\n",
    "print('json')\n",
    "%time for _ in range(N): json.loads(in_text)\n",
    "print('\\nb64 + pickle')\n",
    "%time for _ in range(N): pickle.loads(base64.b64decode(in_pkl_b64))\n",
    "print('\\npickle')\n",
    "%time for _ in range(N): pickle.loads(in_pkl)"
   ]
  },
  {
   "cell_type": "code",
   "execution_count": 72,
   "metadata": {
    "collapsed": false
   },
   "outputs": [],
   "source": [
    "import struct\n",
    "def write_pickle_stream(itme, outf):\n",
    "    data = pickle.dumps(item)\n",
    "    outf.write(struct.pack('i', len(data)))\n",
    "    outf.write(data)\n",
    "\n",
    "def pickle_stream_reader(outf):\n",
    "    while True:\n",
    "        size_data = outf.read(4)\n",
    "        if not size_data:\n",
    "            break\n",
    "        size, = struct.unpack('i', size_data)\n",
    "        yield pickle.loads(outf.read(size))"
   ]
  },
  {
   "cell_type": "code",
   "execution_count": 63,
   "metadata": {
    "collapsed": false
   },
   "outputs": [
    {
     "name": "stdout",
     "output_type": "stream",
     "text": [
      "-rw-r--r-- 1 kostia kostia 108M сен 12 15:19 ../text_items.jl.gz\r\n",
      "-rw-rw-r-- 1 kostia kostia 499M сен 12 15:39 ../text_items.pkls\r\n"
     ]
    }
   ],
   "source": [
    "with json_lines.open('../text_items.jl.gz') as f:\n",
    "    with open('../text_items.pkls', 'wb') as outf:\n",
    "        for item in f:\n",
    "            write_pickle_stream(item, outf)\n",
    "        \n",
    "! ls -lh ../text_items.*"
   ]
  },
  {
   "cell_type": "code",
   "execution_count": 64,
   "metadata": {
    "collapsed": false
   },
   "outputs": [
    {
     "name": "stdout",
     "output_type": "stream",
     "text": [
      "26461\n",
      "CPU times: user 11.9 s, sys: 100 ms, total: 12 s\n",
      "Wall time: 12 s\n"
     ]
    }
   ],
   "source": [
    "%%time\n",
    "with json_lines.open('../text_items.jl.gz') as f:\n",
    "    print(sum(1 for _ in f))"
   ]
  },
  {
   "cell_type": "code",
   "execution_count": 73,
   "metadata": {
    "collapsed": false
   },
   "outputs": [
    {
     "name": "stdout",
     "output_type": "stream",
     "text": [
      "26461\n",
      "CPU times: user 3.38 s, sys: 124 ms, total: 3.5 s\n",
      "Wall time: 3.5 s\n"
     ]
    }
   ],
   "source": [
    "%%time\n",
    "with open('../text_items.pkls', 'rb') as f:\n",
    "    print(sum(1 for _ in pickle_stream_reader(f)))"
   ]
  },
  {
   "cell_type": "code",
   "execution_count": 6,
   "metadata": {
    "collapsed": false
   },
   "outputs": [],
   "source": [
    "import json_lines\n",
    "\n",
    "with json_lines.open('../pages.jl.gz', broken=True) as f:\n",
    "    for i, item in enumerate(f):\n",
    "        if i > 100:\n",
    "            break"
   ]
  },
  {
   "cell_type": "code",
   "execution_count": 21,
   "metadata": {
    "collapsed": false
   },
   "outputs": [],
   "source": [
    "from soft404.utils import _cleaned_html_tree\n",
    "tree = _cleaned_html_tree(item['html'])\n",
    "sel = parsel.Selector(root=tree, type='html')"
   ]
  },
  {
   "cell_type": "code",
   "execution_count": 31,
   "metadata": {
    "collapsed": false
   },
   "outputs": [
    {
     "data": {
      "text/plain": [
       "212"
      ]
     },
     "execution_count": 31,
     "metadata": {},
     "output_type": "execute_result"
    }
   ],
   "source": [
    "# this is not quite what I want - I want to avoid breaking text on inline nodes\n",
    "len(list(x for x in (x.strip() for x in tree.itertext()) if x))"
   ]
  },
  {
   "cell_type": "code",
   "execution_count": 37,
   "metadata": {
    "collapsed": false,
    "scrolled": true
   },
   "outputs": [
    {
     "data": {
      "text/plain": [
       "(154,\n",
       " [('', 'VK on the App Store'),\n",
       "  ('li', 'Open Menu Close Menu'),\n",
       "  ('li', 'Apple'),\n",
       "  ('li', 'Shopping Bag'),\n",
       "  ('li', 'Apple'),\n",
       "  ('li', 'Mac'),\n",
       "  ('li', 'iPad'),\n",
       "  ('li', 'iPhone'),\n",
       "  ('li', 'Watch'),\n",
       "  ('li', 'TV'),\n",
       "  ('li', 'Music'),\n",
       "  ('li', 'Support'),\n",
       "  ('li', 'Search apple.com'),\n",
       "  ('li', 'Shopping Bag'),\n",
       "  ('li', 'Overview'),\n",
       "  ('li', 'Music'),\n",
       "  ('li', 'Video'),\n",
       "  ('li', 'Charts'),\n",
       "  ('div',\n",
       "   \"Opening the iTunes Store. If iTunes doesn't open, click the iTunes application icon in your Dock or on your Windows desktop. Progress Indicator\"),\n",
       "  ('div',\n",
       "   \"Opening the iBooks Store. If iBooks doesn't open, click the iBooks app in your Dock. Progress Indicator\"),\n",
       "  ('div', 'iTunes'),\n",
       "  ('h2',\n",
       "   \"iTunes is the world's easiest way to organize and add to your digital media collection.\"),\n",
       "  ('p',\n",
       "   'We are unable to find iTunes on your computer. To download the free app VK by VKontakte, get iTunes now.'),\n",
       "  ('p',\n",
       "   'Already have iTunes? Click I Have iTunes to open it now. iTunes for Mac + PC'),\n",
       "  ('h1', 'VK'),\n",
       "  ('h2', 'By VKontakte'),\n",
       "  ('div', 'View More by This Developer'),\n",
       "  ('p', 'Open iTunes to buy and download apps.'),\n",
       "  ('h4', 'Description'),\n",
       "  ('p',\n",
       "   \"VK is a social network that unites people all over the world and helps them communicate comfortably and promptly. You can message your friends and see what's new in their lives, share photos, and watch videos. Our users join communities, meet new people, and adore playing games.\"),\n",
       "  ('div', 'VK Support'),\n",
       "  ('h4', \"What's New in Version 2.8\"),\n",
       "  ('p', '• You can now draw graffiti in messages.'),\n",
       "  ('h2', 'iPhone Screenshots'),\n",
       "  ('h4', 'Customer Reviews'),\n",
       "  ('h5', 'Video icon in communities and page.'),\n",
       "  ('div', 'by\\n        \\n          Rmzero'),\n",
       "  ('p',\n",
       "   'In the previous version U added a video icon, which we can browse all videos and albums of any page and communities. And in this version video icon is not exits any more.'),\n",
       "  ('h5', 'No music anymore'),\n",
       "  ('div', 'by\\n        \\n          Tej410'),\n",
       "  ('p',\n",
       "   \"Stopped being any good or of any use after the music feature was taken away... And I lost my entire playlist without warning. I can't even get the names of the songs back. Messed up.\"),\n",
       "  ('h5', 'Music gone'),\n",
       "  ('div', 'by\\n        \\n          Dr. Krane'),\n",
       "  ('p',\n",
       "   'Music deleted, app is completely useless, will simply load the page✌🏼️'),\n",
       "  ('h2', 'Customers Also Bought'),\n",
       "  ('li', 'Swist - chat for Vk / Vkontakte'),\n",
       "  ('li', 'Social Networking'),\n",
       "  ('li', 'View in iTunes'),\n",
       "  ('li', 'OK.RU'),\n",
       "  ('li', 'Social Networking'),\n",
       "  ('li', 'View in iTunes'),\n",
       "  ('li', 'ICQ – Free Video Call, Chat and Voice'),\n",
       "  ('li', 'Social Networking'),\n",
       "  ('li', 'View in iTunes'),\n",
       "  ('li', 'Agent – free videocalls and messages'),\n",
       "  ('li', 'Social Networking'),\n",
       "  ('li', 'View in iTunes'),\n",
       "  ('li', 'Му World'),\n",
       "  ('li', 'Social Networking'),\n",
       "  ('li', 'View in iTunes'),\n",
       "  ('div', 'View in iTunes'),\n",
       "  ('div', 'Free'),\n",
       "  ('li', 'Category: Social Networking'),\n",
       "  ('li', 'Updated: Jul 23, 2016'),\n",
       "  ('li', 'Version: 2.8'),\n",
       "  ('li', 'Size:'),\n",
       "  ('li', 'Languages:'),\n",
       "  ('li', 'Seller: VKontakte'),\n",
       "  ('li', '© 2016 VK'),\n",
       "  ('div', 'Rated 12+ for the following:'),\n",
       "  ('li', 'Infrequent/Mild Profanity or Crude Humor'),\n",
       "  ('li', 'Infrequent/Mild Mature/Suggestive Themes'),\n",
       "  ('li', 'Infrequent/Mild Realistic Violence'),\n",
       "  ('li', 'Infrequent/Mild Horror/Fear Themes'),\n",
       "  ('li', 'Infrequent/Mild Sexual Content and Nudity'),\n",
       "  ('li', 'Infrequent/Mild Cartoon or Fantasy Violence'),\n",
       "  ('p',\n",
       "   'Compatibility: Requires iOS 8.0 or later. Compatible with iPhone, iPad, and iPod touch.'),\n",
       "  ('h4', 'Customer Ratings'),\n",
       "  ('div', 'Current Version:'),\n",
       "  ('div', '1.93333'),\n",
       "  ('div', '30 Ratings'),\n",
       "  ('div', 'All Versions:'),\n",
       "  ('div', '1927 Ratings'),\n",
       "  ('h4', 'Top In-App Purchases'),\n",
       "  ('li', 'Votes 32 pack $3.99'),\n",
       "  ('li', 'Votes 8 pack $0.99'),\n",
       "  ('li', '3 votes pack $0.99'),\n",
       "  ('li', 'Votes 16 pack $1.99'),\n",
       "  ('li', 'Votes 24 pack $2.99'),\n",
       "  ('li', 'NICHOSI $0.99'),\n",
       "  ('li', 'Foxy $0.99'),\n",
       "  ('li', 'Love matters $0.99'),\n",
       "  ('li', 'Tweety $0.99'),\n",
       "  ('li', 'Persik $0.99'),\n",
       "  ('h4', 'More iPhone Apps by VKontakte'),\n",
       "  ('li', 'Snapster 2.0'),\n",
       "  ('li', 'View in iTunes'),\n",
       "  ('li', 'Vinci – Edit Photos with Creative Picture Filters and Art Effects'),\n",
       "  ('li', 'View in iTunes'),\n",
       "  ('p', 'Discover and share'),\n",
       "  ('p', 'Follow us on @AppStore'),\n",
       "  ('p', 'Discover and share new music, movies, TV, books, and more.'),\n",
       "  ('p', 'Follow us @iTunes'),\n",
       "  ('div', '\\uf8ff Apple'),\n",
       "  ('li', 'iTunes'),\n",
       "  ('h3', 'Shop and Learn Open Menu Close Menu'),\n",
       "  ('li', 'Mac'),\n",
       "  ('li', 'iPad'),\n",
       "  ('li', 'iPhone'),\n",
       "  ('li', 'Watch'),\n",
       "  ('li', 'TV'),\n",
       "  ('li', 'Music'),\n",
       "  ('li', 'iTunes'),\n",
       "  ('li', 'iPod'),\n",
       "  ('li', 'Accessories'),\n",
       "  ('li', 'Gift Cards'),\n",
       "  ('h3', 'Apple Store Open Menu Close Menu'),\n",
       "  ('li', 'Find a Store'),\n",
       "  ('li', 'Genius Bar'),\n",
       "  ('li', 'Workshops and Learning'),\n",
       "  ('li', 'Youth Programs'),\n",
       "  ('li', 'Apple Store App'),\n",
       "  ('li', 'Refurbished'),\n",
       "  ('li', 'Financing'),\n",
       "  ('li', 'Reuse and Recycling'),\n",
       "  ('li', 'Order Status'),\n",
       "  ('li', 'Shopping Help'),\n",
       "  ('h3', 'For Education Open Menu Close Menu'),\n",
       "  ('li', 'Apple and Education'),\n",
       "  ('li', 'Shop for College'),\n",
       "  ('h3', 'For Business Open Menu Close Menu'),\n",
       "  ('li', 'Apple and Business'),\n",
       "  ('li', 'Shop for Business'),\n",
       "  ('h3', 'Account Open Menu Close Menu'),\n",
       "  ('li', 'Manage Your Apple ID'),\n",
       "  ('li', 'Apple Store Account'),\n",
       "  ('li', 'iCloud.com'),\n",
       "  ('h3', 'Apple Values Open Menu Close Menu'),\n",
       "  ('li', 'Environment'),\n",
       "  ('li', 'Supplier Responsibility'),\n",
       "  ('li', 'Accessibility'),\n",
       "  ('li', 'Privacy'),\n",
       "  ('li', 'Inclusion and Diversity'),\n",
       "  ('li', 'Education'),\n",
       "  ('h3', 'About Apple Open Menu Close Menu'),\n",
       "  ('li', 'Apple Info'),\n",
       "  ('li', 'Job Opportunities'),\n",
       "  ('li', 'Press Info'),\n",
       "  ('li', 'Investors'),\n",
       "  ('li', 'Events'),\n",
       "  ('li', 'Hot News'),\n",
       "  ('li', 'Contact Apple'),\n",
       "  ('div',\n",
       "   'More ways to shop: Visit an Apple Store call 1-800-MY-APPLE, or find a reseller'),\n",
       "  ('div', 'Copyright © 2016 Apple Inc. All rights reserved.')])"
      ]
     },
     "execution_count": 37,
     "metadata": {},
     "output_type": "execute_result"
    }
   ],
   "source": [
    "from soft404.utils import get_text_blocks\n",
    "\n",
    "text_blocks = get_text_blocks(tree)\n",
    "len(text_blocks), text_blocks"
   ]
  }
 ],
 "metadata": {
  "kernelspec": {
   "display_name": "Python 3",
   "language": "python",
   "name": "python3"
  },
  "language_info": {
   "codemirror_mode": {
    "name": "ipython",
    "version": 3
   },
   "file_extension": ".py",
   "mimetype": "text/x-python",
   "name": "python",
   "nbconvert_exporter": "python",
   "pygments_lexer": "ipython3",
   "version": "3.5.1+"
  }
 },
 "nbformat": 4,
 "nbformat_minor": 1
}
