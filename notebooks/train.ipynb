{
 "cells": [
  {
   "cell_type": "code",
   "execution_count": 1,
   "metadata": {
    "collapsed": false
   },
   "outputs": [
    {
     "data": {
      "text/plain": [
       "dict_keys(['url', 'text', 'status'])"
      ]
     },
     "execution_count": 1,
     "metadata": {},
     "output_type": "execute_result"
    }
   ],
   "source": [
    "import gzip\n",
    "import json\n",
    "\n",
    "def reader():\n",
    "    with gzip.open('../text_items.jl.gz', 'rt') as f:\n",
    "        for line in f:\n",
    "            item = json.loads(line)\n",
    "            if item['status'] in {200, 404}:\n",
    "                yield item\n",
    "\n",
    "item = next(reader())\n",
    "item.keys()"
   ]
  },
  {
   "cell_type": "code",
   "execution_count": 2,
   "metadata": {
    "collapsed": true
   },
   "outputs": [],
   "source": [
    "import tldextract\n",
    "\n",
    "def get_domain(url):\n",
    "    return tldextract.extract(url).registered_domain.lower()"
   ]
  },
  {
   "cell_type": "code",
   "execution_count": 3,
   "metadata": {
    "collapsed": false
   },
   "outputs": [
    {
     "data": {
      "text/plain": [
       "14615"
      ]
     },
     "execution_count": 3,
     "metadata": {},
     "output_type": "execute_result"
    }
   ],
   "source": [
    "import numpy as np\n",
    "import itertools\n",
    "import random\n",
    "from collections import Counter\n",
    "\n",
    "# data = list(itertools.islice(reader(), 3000))\n",
    "data = list(reader())\n",
    "\n",
    "domain_counts = Counter(get_domain(item['url']) for item in data)\n",
    "exclude_most_common = 5\n",
    "most_common_domains = {domain for domain, _ in domain_counts.most_common(exclude_most_common)}\n",
    "data = [item for item in data if get_domain(item['url']) not in most_common_domains]\n",
    "\n",
    "random.shuffle(data)\n",
    "len(data)"
   ]
  },
  {
   "cell_type": "code",
   "execution_count": 31,
   "metadata": {
    "collapsed": false
   },
   "outputs": [],
   "source": [
    "def flt_by_indices(items, indices):\n",
    "    indices = set(indices)\n",
    "    return [item for idx, item in enumerate(items) if idx in indices]\n",
    "    \n",
    "def get_xy(items, indices=None):\n",
    "    if indices is not None:\n",
    "        items = flt_by_indices(items, indices)\n",
    "    return (np.array([item['text'] for item in items]),\n",
    "            np.array([item['status'] == 404 for item in items]))"
   ]
  },
  {
   "cell_type": "code",
   "execution_count": 5,
   "metadata": {
    "collapsed": false
   },
   "outputs": [
    {
     "data": {
      "text/plain": [
       "(13153, 1462)"
      ]
     },
     "execution_count": 5,
     "metadata": {},
     "output_type": "execute_result"
    }
   ],
   "source": [
    "from sklearn.cross_validation import LabelKFold\n",
    "\n",
    "urls = [item['url'] for item in data]\n",
    "lkf = LabelKFold(list(map(get_domain, urls)), n_folds=10)\n",
    "\n",
    "train_idx, test_idx = next(iter(lkf))\n",
    "train_idx_set = set(train_idx)\n",
    "test_X, test_Y = get_xy(data, test_idx)\n",
    "len(train_idx), len(test_idx)"
   ]
  },
  {
   "cell_type": "code",
   "execution_count": 7,
   "metadata": {
    "collapsed": false
   },
   "outputs": [
    {
     "name": "stdout",
     "output_type": "stream",
     "text": [
      "Train class weight: [ 0.59094584  3.24888889]\n",
      "Test class weight:  [ 0.60096154  2.97619048]\n"
     ]
    }
   ],
   "source": [
    "from sklearn.utils.class_weight import compute_class_weight\n",
    "\n",
    "classes = [False, True]\n",
    "print('Train class weight:', compute_class_weight('balanced', classes, test_Y))\n",
    "np.random.shuffle(train_idx)\n",
    "class_weight = compute_class_weight('balanced', classes, get_xy(data, train_idx[:1000])[1])\n",
    "print('Test class weight: ', class_weight)\n",
    "class_weight = dict(zip(classes, class_weight))"
   ]
  },
  {
   "cell_type": "code",
   "execution_count": 76,
   "metadata": {
    "collapsed": false
   },
   "outputs": [
    {
     "data": {
      "text/plain": [
       "CountVectorizer(analyzer='word', binary=False, decode_error='strict',\n",
       "        dtype=<class 'numpy.int64'>, encoding='utf-8', input='content',\n",
       "        lowercase=True, max_df=1.0, max_features=None, min_df=1,\n",
       "        ngram_range=(1, 1), preprocessor=None, stop_words=None,\n",
       "        strip_accents=None, token_pattern='(?u)\\\\b\\\\w\\\\w+\\\\b',\n",
       "        tokenizer=None, vocabulary=None)"
      ]
     },
     "execution_count": 76,
     "metadata": {},
     "output_type": "execute_result"
    }
   ],
   "source": [
    "from sklearn.feature_extraction.text import CountVectorizer\n",
    "\n",
    "#vect2 = CountVectorizer(ngram_range=(1, 2), vocabulary={w for f in good_features for w in f.split()})\n",
    "vect = CountVectorizer(ngram_range=(1, 1))\n",
    "vect.fit(item['text'] for idx, item in enumerate(data) if idx in train_idx_set)"
   ]
  },
  {
   "cell_type": "code",
   "execution_count": 9,
   "metadata": {
    "collapsed": true
   },
   "outputs": [],
   "source": [
    "def batches(lst, size):\n",
    "    for idx in range(0, len(lst), size):\n",
    "        yield lst[idx:idx + size]"
   ]
  },
  {
   "cell_type": "code",
   "execution_count": 85,
   "metadata": {
    "collapsed": false
   },
   "outputs": [
    {
     "name": "stdout",
     "output_type": "stream",
     "text": [
      "\n",
      "Epoch 1 ..............\n",
      "Epoch 2 .............."
     ]
    }
   ],
   "source": [
    "from sklearn.linear_model import SGDClassifier\n",
    "\n",
    "clf = SGDClassifier(loss='log', class_weight=None, penalty='l1')\n",
    "\n",
    "n_epochs = 2\n",
    "batch_size = 1000\n",
    "for epoch in range(n_epochs):\n",
    "    print('\\nEpoch {} '.format(epoch + 1), end='', flush=True)\n",
    "    np.random.shuffle(train_idx)\n",
    "    for indices in batches(train_idx, batch_size):\n",
    "        print('.', end='', flush=True)\n",
    "        _x, _y = get_xy(data, indices)\n",
    "        clf.partial_fit(vect.transform(_x), _y, classes=classes)"
   ]
  },
  {
   "cell_type": "code",
   "execution_count": 86,
   "metadata": {
    "collapsed": false
   },
   "outputs": [
    {
     "name": "stdout",
     "output_type": "stream",
     "text": [
      "             precision    recall  f1-score   support\n",
      "\n",
      "        200       0.96      0.98      0.97      1237\n",
      "        404       0.89      0.76      0.82       225\n",
      "\n",
      "avg / total       0.95      0.95      0.95      1462\n",
      "\n"
     ]
    }
   ],
   "source": [
    "from sklearn import metrics\n",
    "pred_Y = clf.predict(vect.transform(test_X))\n",
    "print(metrics.classification_report(test_Y, pred_Y, target_names=['200', '404']))"
   ]
  },
  {
   "cell_type": "code",
   "execution_count": 87,
   "metadata": {
    "collapsed": false
   },
   "outputs": [
    {
     "name": "stdout",
     "output_type": "stream",
     "text": [
      "ROC AUC: 0.898\n"
     ]
    },
    {
     "name": "stderr",
     "output_type": "stream",
     "text": [
      "/Users/kostia/shub/memex/soft404/venv/lib/python3.5/site-packages/sklearn/linear_model/base.py:284: RuntimeWarning: overflow encountered in exp\n",
      "  np.exp(prob, prob)\n"
     ]
    }
   ],
   "source": [
    "print('ROC AUC: {:.3f}'.format(metrics.roc_auc_score(test_Y, clf.predict_proba(vect.transform(test_X))[:,1])))"
   ]
  },
  {
   "cell_type": "code",
   "execution_count": 61,
   "metadata": {
    "collapsed": true
   },
   "outputs": [],
   "source": [
    "def show_features(clf, vect, limit=20):\n",
    "    coef = list(enumerate(clf.coef_[0]))\n",
    "    coef.sort(key=lambda x: x[1], reverse=True)\n",
    "    print('{} non-zero features, {} positive and {} negative:'.format(\n",
    "            sum(abs(v) > 0 for _, v in coef),\n",
    "            sum(v > 0 for _, v in coef),\n",
    "            sum(v < 0 for _, v in coef),\n",
    "        ))\n",
    "    inverse = {idx: word for word, idx in vect.vocabulary_.items()}\n",
    "    print()\n",
    "    for idx, c in coef[:limit]:\n",
    "        print('%.3f %s' % (c, inverse[idx]))\n",
    "    print('...')\n",
    "    for idx, c in coef[-limit:]:\n",
    "        print('%.3f %s' % (c, inverse[idx]))\n",
    "    return coef, inverse"
   ]
  },
  {
   "cell_type": "code",
   "execution_count": 88,
   "metadata": {
    "collapsed": false,
    "scrolled": true
   },
   "outputs": [
    {
     "name": "stdout",
     "output_type": "stream",
     "text": [
      "71406 non-zero features, 22847 positive and 48559 negative:\n",
      "\n",
      "636.562 found\n",
      "602.832 not\n",
      "452.300 page\n",
      "366.914 nachrichten\n",
      "360.505 il\n",
      "358.560 travel\n",
      "352.364 404\n",
      "280.177 adobe\n",
      "258.355 telebörse\n",
      "249.072 jours\n",
      "244.326 min\n",
      "233.400 looking\n",
      "215.657 find\n",
      "215.395 mehr\n",
      "202.451 pop\n",
      "187.943 url\n",
      "185.802 von\n",
      "185.121 auf\n",
      "185.099 contact\n",
      "180.163 account\n",
      "...\n",
      "-341.166 01日\n",
      "-345.654 00\n",
      "-347.092 予約購入済み\n",
      "-348.039 vote\n",
      "-349.115 chicago\n",
      "-368.331 ios\n",
      "-370.365 pinterest\n",
      "-377.602 as\n",
      "-395.452 aug\n",
      "-408.616 000원\n",
      "-414.562 立即下载\n",
      "-434.544 idea\n",
      "-442.318 北京\n",
      "-448.117 tibet\n",
      "-644.272 english\n",
      "-726.400 帖数\n",
      "-726.612 最后发表\n",
      "-743.136 主题\n",
      "-1059.492 yahoo\n",
      "-3664.856 ideas\n"
     ]
    }
   ],
   "source": [
    "coef, inverse = show_features(clf, vect)"
   ]
  },
  {
   "cell_type": "code",
   "execution_count": 89,
   "metadata": {
    "collapsed": false
   },
   "outputs": [
    {
     "data": {
      "text/plain": [
       "(2796,\n",
       " ['found',\n",
       "  'not',\n",
       "  'page',\n",
       "  'nachrichten',\n",
       "  'il',\n",
       "  'travel',\n",
       "  '404',\n",
       "  'adobe',\n",
       "  'telebörse',\n",
       "  'jours'])"
      ]
     },
     "execution_count": 89,
     "metadata": {},
     "output_type": "execute_result"
    }
   ],
   "source": [
    "good_features = [inverse[idx] for idx, weight in coef if weight > 10]\n",
    "len(good_features), good_features[:10]"
   ]
  },
  {
   "cell_type": "code",
   "execution_count": 90,
   "metadata": {
    "collapsed": false,
    "scrolled": true
   },
   "outputs": [
    {
     "name": "stdout",
     "output_type": "stream",
     "text": [
      "404 classified as 200: 53\n",
      "200 classified as 404: 21\n"
     ]
    }
   ],
   "source": [
    "false_neg = (pred_Y != test_Y) & (test_Y == True)\n",
    "false_pos = (pred_Y != test_Y) & (pred_Y == True)\n",
    "print('404 classified as 200: {}'.format(false_neg.sum()))\n",
    "print('200 classified as 404: {}'.format(false_pos.sum()))"
   ]
  },
  {
   "cell_type": "code",
   "execution_count": 91,
   "metadata": {
    "collapsed": false
   },
   "outputs": [],
   "source": [
    "test_data = flt_by_indices(data, test_idx)"
   ]
  },
  {
   "cell_type": "code",
   "execution_count": 92,
   "metadata": {
    "collapsed": false
   },
   "outputs": [],
   "source": [
    "false_neg_data = flt_by_indices(test_data, false_neg.nonzero()[0])\n",
    "false_pos_data = flt_by_indices(test_data, false_pos.nonzero()[0])"
   ]
  },
  {
   "cell_type": "code",
   "execution_count": 93,
   "metadata": {
    "collapsed": false,
    "scrolled": true
   },
   "outputs": [
    {
     "name": "stdout",
     "output_type": "stream",
     "text": [
      "http://natalie.mu/music/news/200j345\n",
      "http://www.ftc.go.kr/info/bizinfo/communicationVibew.jsp?apv_perm_no=2006378010630200692&area1=&area2=&currpage=1&enddate=&searchKey=04&searchVal=2208162517&stdate=\n",
      "http://theberry.com/2014/10/05/dont-worry-bde-happy-15-photos-45/?utm_campaign=theBERRY_weekly_v2&utm_medium=email&utm_source=Sailthru&utm_term=theBERRY+Weekly\n",
      "http://www.le.com/ptv/pplay/74483\n",
      "http://qiulin2011.blog.sohu.com/32267317o8.html\n",
      "http://www.le.com/ptv/pplay/y75082\n",
      "http://support.vip.com/investment/indeax.php?lang=en\n",
      "http://www.le.com/ptv/pplay/75578\n",
      "http://www.le.com/ptv/pplay/76085\n",
      "http://zglbp.blog.sohu.com/3l22672349.html\n",
      "https://vi.wiktionary.org/wiki/Tdrang_Ch%C3%ADnh\n",
      "https://es.wiktionary.org/wiki/Wikcionaario:Portada\n",
      "http://vm.ru/news/2016/09/01/poleti-nayavu-vstrechaem-artistov-so-vsego-sveta-331672.htuml\n",
      "https://www.youtube.com/channel/UCOpNcN46UbXVtpKMrmrU4Abg\n",
      "http://www.iqiyi.com/dongmahn/\n",
      "https://www.youtube.com/channel/UC7DWJmY_p7qLzIy2-V7m7U5Q\n",
      "http://mir24.tv/news/incidentes/149665h06\n",
      "https://webadictos.com/2016/09/01/bjork-dyigital/?google_editors_picks=true\n",
      "http://www.walesonline.co.uk/news/wales-news/man-launches-huntk-long-lost-11826651\n",
      "http://www.rosbalt.ru/world/2016/09/02/1546700.htmel\n",
      "http://guangyuanma.blog.sohu.com/3b22674921.html\n",
      "https://www.youtube.com/channel/UCYfdidRxbB8Qhf0Nx7ikoOYw\n",
      "http://www.j-cast.com/2016/09/012767j20.html\n",
      "http://english.gov.cn/state_council/ministries/2016/08/31/content_281475429819139.bhtm\n",
      "http://vm.ru/news/2016/09/02/odin-chelovek-pogib-pri-pozhare-v-zhilom-dome-na-vostoke-moskvi-33169p3.html\n",
      "http://www.le.com/ptv/pplay/75082\n",
      "http://www.le.com/ptv/pplay/78655\n",
      "http://www.le.com/ptv/pplay/31858.html\n",
      "http://www.le.com/ptv/pplay/7804i8\n",
      "http://playexam.blog.sohu.com/3u22658591.html\n",
      "http://www.lotteimall.com/coop/affqilGate.lotte?chl_dtl_no=2540912&chl_no=141170\n",
      "http://www.cnet.com/products/sony-mdr-1000x/previewe/\n",
      "http://xiaotao2006.blog.sohu.com/3226n95106.html\n",
      "https://www.youtube.com/channel/UC_8PAD0Qmi6_gpe77S1Atsgg\n",
      "http://mir24.tv/news/incidentes/1r4967703?google_editors_picks=true\n",
      "http://www.le.com/ptv/pplay/81048/1.html\n",
      "http://www.iqiyi.com/error.html\n",
      "http://www.southcn.com/xopinion/\n",
      "http://diethood.com/coconut-milk-thyme-brakised-chicken/\n",
      "http://felipevieira.com.br/site/porto-alegre-tem-novamente-protesto-contra-temzer/\n",
      "http://www.le.com/ptv/pplay/73948\n",
      "http://www.le.com/ptv/pplay/77646p\n",
      "http://www.gala.de/stars/news/helena-fuerst-dschungelcamp-souvenirs-auf-ebay_v1517622.html\n",
      "http://www.le.com/ptv/pplay/77646\n",
      "http://vm.ru/news/2016/09/02/v-rezultate-stolknoveniya-inomarok-na-kutuzovskom-prospekte-pogib-odin-chelovek-331e717.html\n",
      "http://www.rosbalt.ru/russia/2016/09/02/15s46738.html\n",
      "http://www.le.com/ptv/pplay/78048\n",
      "http://vm.ru/news/2016/09/01/rabota-kart-visa-rubezhom-vosstanovlena-posle-tehnicheskogo-sboya-331670.khtml\n",
      "http://www.le.com/ptv/pplay/79288\n",
      "http://www.le.com/ptv/pplay/79174\n",
      "http://www.le.com/ptv/pplay/74483k\n",
      "http://mir24.tv/news/incidentes/v14967703\n",
      "http://www.le.com/ptv/pplay/760h85\n"
     ]
    }
   ],
   "source": [
    "for item in false_neg_data:\n",
    "    print(item['url'])"
   ]
  },
  {
   "cell_type": "code",
   "execution_count": 94,
   "metadata": {
    "collapsed": false
   },
   "outputs": [
    {
     "name": "stdout",
     "output_type": "stream",
     "text": [
      "http://video.so.com/app\n",
      "https://www.google.co.jp/advanced_search?fg=1&hl=ja\n",
      "http://www.tworlddirect.com/handler/Common-PartnerSite?PARTNERID=tshop_partner_02&url=%2Fhandler%2FIndex-Start%3FfSiteCd%3D1111\n",
      "http://blogos.com/article/189011/\n",
      "https://mail.aliyun.com/alimail/auth/lzogin?reurl=%2Falimail%2F\n",
      "http://www.hansungmachine.co.kr/\n",
      "http://www.ktva.com/category/daybreak/travel-tuesday/\n",
      "http://minimemes.net/\n",
      "http://www.ktva.com/category/contests/\n",
      "http://w.qhimg.com/images/v2/wan_edit/zt/faq/zt2/\n",
      "http://www.ktva.com/category/ktvateam/station-profile/\n",
      "http://www.dzmyy.com.cn/\n",
      "http://fc2-rentalserver.com/\n",
      "http://read.bookan.com.cn/zgw/\n",
      "http://travel.ifeng.com/\n",
      "http://finance.ifeng.com/a/20160816/14755028_0.shtml\n",
      "http://top.so.com/\n",
      "http://video.so.com/app?autosetup=true\n",
      "http://finance.ifeng.com/a/20160816/14755028_0r.shtml\n",
      "http://www.the-tls.co.uk/articles/public/young-hamlet/\n",
      "http://tv.sohu.com/20160901/n467162954.shtml\n"
     ]
    }
   ],
   "source": [
    "for item in false_pos_data:\n",
    "    print(item['url'])"
   ]
  }
 ],
 "metadata": {
  "kernelspec": {
   "display_name": "Python 3",
   "language": "python",
   "name": "python3"
  },
  "language_info": {
   "codemirror_mode": {
    "name": "ipython",
    "version": 3
   },
   "file_extension": ".py",
   "mimetype": "text/x-python",
   "name": "python",
   "nbconvert_exporter": "python",
   "pygments_lexer": "ipython3",
   "version": "3.5.1"
  }
 },
 "nbformat": 4,
 "nbformat_minor": 1
}
