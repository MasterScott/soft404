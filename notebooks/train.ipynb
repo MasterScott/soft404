{
 "cells": [
  {
   "cell_type": "code",
   "execution_count": 1,
   "metadata": {
    "collapsed": false
   },
   "outputs": [
    {
     "data": {
      "text/plain": [
       "dict_keys(['title', 'text', 'idx', 'blocks', 'url', 'status', 'lang'])"
      ]
     },
     "execution_count": 1,
     "metadata": {},
     "output_type": "execute_result"
    }
   ],
   "source": [
    "from functools import partial\n",
    "from soft404.train import *\n",
    "\n",
    "reader = partial(file_reader, '../text_items_small.pkls')\n",
    "        \n",
    "item = next(reader())\n",
    "item.keys()"
   ]
  },
  {
   "cell_type": "code",
   "execution_count": 2,
   "metadata": {
    "collapsed": false
   },
   "outputs": [
    {
     "name": "stdout",
     "output_type": "stream",
     "text": [
      "     44150 en\n",
      "     42449 zh-cn\n",
      "      6137 ko\n",
      "      3715 ru\n",
      "      3061 fr\n",
      "      2654 de\n",
      "      2586 ja\n",
      "      2259 it\n",
      "      2135 pt\n",
      "      1540 \n"
     ]
    }
   ],
   "source": [
    "langs = [(item['idx'], item['lang']) for item in reader()]\n",
    "for lang, count in Counter(lang for _, lang in langs).most_common(10):\n",
    "    print('{:>10} {}'.format(count, lang))\n",
    "lang_indices = {idx for idx, lang in langs if lang == 'en'}"
   ]
  },
  {
   "cell_type": "code",
   "execution_count": 3,
   "metadata": {
    "collapsed": false
   },
   "outputs": [],
   "source": [
    "flt_indices = lang_indices\n",
    "def data(indices=None):\n",
    "    if indices is not None:\n",
    "        indices = set(indices) & flt_indices\n",
    "    else:\n",
    "        indices = flt_indices\n",
    "    yield from reader(indices)"
   ]
  },
  {
   "cell_type": "code",
   "execution_count": 4,
   "metadata": {
    "collapsed": false
   },
   "outputs": [
    {
     "name": "stdout",
     "output_type": "stream",
     "text": [
      "39735 4415\n"
     ]
    }
   ],
   "source": [
    "from sklearn.cross_validation import LabelKFold\n",
    "\n",
    "urls = [(item['idx'], item['url']) for item in data()]\n",
    "\n",
    "lkf = LabelKFold([get_domain(url) for _, url in urls], n_folds=10)\n",
    "_train_idx, _test_idx = next(iter(lkf))\n",
    "train_idx, test_idx = to_data_idx(_train_idx, urls), to_data_idx(_test_idx, urls)\n",
    "test_X, test_Y = get_xy(data(test_idx))\n",
    "print(len(train_idx), len(test_idx))"
   ]
  },
  {
   "cell_type": "code",
   "execution_count": 5,
   "metadata": {
    "collapsed": false
   },
   "outputs": [
    {
     "data": {
      "text/plain": [
       "[('elegantweddinginvites.com', 68),\n",
       " ('baltimoremagazine.net', 68),\n",
       " ('commerce.gov', 68),\n",
       " ('petsmartcharities.org', 66),\n",
       " ('herecomethegirlsblog.com', 66),\n",
       " ('kristendukephotography.com', 66),\n",
       " ('tradeeasy.com', 64),\n",
       " ('lastscience.net', 64),\n",
       " ('ana.net', 64),\n",
       " ('livingly.com', 62)]"
      ]
     },
     "execution_count": 5,
     "metadata": {},
     "output_type": "execute_result"
    }
   ],
   "source": [
    "Counter(get_domain(item['url']) for item in data(train_idx)).most_common(10)"
   ]
  },
  {
   "cell_type": "code",
   "execution_count": 6,
   "metadata": {
    "collapsed": false
   },
   "outputs": [
    {
     "data": {
      "text/plain": [
       "[('szdaily.com', 69),\n",
       " ('gamespot.com', 58),\n",
       " ('nerdwallet.com', 53),\n",
       " ('thejakartapost.com', 52),\n",
       " ('watches.com', 48),\n",
       " ('rio2016.com', 46),\n",
       " ('comixology.co.uk', 45),\n",
       " ('football365.com', 42),\n",
       " ('w3techs.com', 42),\n",
       " ('marketingdive.com', 40)]"
      ]
     },
     "execution_count": 6,
     "metadata": {},
     "output_type": "execute_result"
    }
   ],
   "source": [
    "Counter(get_domain(item['url']) for item in data(test_idx)).most_common(10)"
   ]
  },
  {
   "cell_type": "code",
   "execution_count": 7,
   "metadata": {
    "collapsed": false
   },
   "outputs": [
    {
     "name": "stdout",
     "output_type": "stream",
     "text": [
      "Test class weight: [ 0.69681187  1.7702486 ]\n",
      "Train class weight:  [ 0.65359477  2.12765957]\n"
     ]
    }
   ],
   "source": [
    "from sklearn.utils.class_weight import compute_class_weight\n",
    "\n",
    "classes = [False, True]\n",
    "print('Test class weight:', compute_class_weight('balanced', classes, test_Y))\n",
    "np.random.shuffle(train_idx)\n",
    "class_weight = compute_class_weight('balanced', classes, get_xy(data(train_idx[:1000]), only_ys=True))\n",
    "print('Train class weight: ', class_weight)\n",
    "class_weight = dict(zip(classes, class_weight))"
   ]
  },
  {
   "cell_type": "code",
   "execution_count": 8,
   "metadata": {
    "collapsed": false
   },
   "outputs": [
    {
     "data": {
      "text/plain": [
       "CountVectorizer(analyzer='word', binary=False, decode_error='strict',\n",
       "        dtype=<class 'numpy.int64'>, encoding='utf-8', input='content',\n",
       "        lowercase=True, max_df=1.0, max_features=50000, min_df=1,\n",
       "        ngram_range=(1, 2), preprocessor=None, stop_words=None,\n",
       "        strip_accents=None, token_pattern='(?u)\\\\b[_\\\\w][_\\\\w]+\\\\b',\n",
       "        tokenizer=None, vocabulary=None)"
      ]
     },
     "execution_count": 8,
     "metadata": {},
     "output_type": "execute_result"
    }
   ],
   "source": [
    "from sklearn.feature_extraction.text import CountVectorizer\n",
    "\n",
    "vect = CountVectorizer(ngram_range=(1, 2), max_features=50000, token_pattern=token_pattern)\n",
    "vect.fit(item_to_text(item) for item in data(train_idx))"
   ]
  },
  {
   "cell_type": "code",
   "execution_count": 9,
   "metadata": {
    "collapsed": false
   },
   "outputs": [],
   "source": [
    "from sklearn.linear_model import SGDClassifier\n",
    "\n",
    "clf = SGDClassifier(loss='log', class_weight=None, penalty='l1')\n",
    "train_clf(clf, vect, data, train_idx, classes)"
   ]
  },
  {
   "cell_type": "code",
   "execution_count": 10,
   "metadata": {
    "collapsed": false
   },
   "outputs": [
    {
     "name": "stdout",
     "output_type": "stream",
     "text": [
      "             precision    recall  f1-score   support\n",
      "\n",
      "        200       0.95      0.95      0.95      3168\n",
      "        404       0.88      0.88      0.88      1247\n",
      "\n",
      "avg / total       0.93      0.93      0.93      4415\n",
      "\n"
     ]
    }
   ],
   "source": [
    "from sklearn import metrics\n",
    "pred_Y = clf.predict(vect.transform(test_X))\n",
    "print(metrics.classification_report(test_Y, pred_Y, target_names=['200', '404']))"
   ]
  },
  {
   "cell_type": "code",
   "execution_count": 11,
   "metadata": {
    "collapsed": false
   },
   "outputs": [
    {
     "name": "stdout",
     "output_type": "stream",
     "text": [
      "ROC AUC: 0.915\n"
     ]
    },
    {
     "name": "stderr",
     "output_type": "stream",
     "text": [
      "/home/kostia/shub/memex/soft404/venv/lib/python3.5/site-packages/sklearn/linear_model/base.py:284: RuntimeWarning: overflow encountered in exp\n",
      "  np.exp(prob, prob)\n"
     ]
    }
   ],
   "source": [
    "print('ROC AUC: {:.3f}'.format(metrics.roc_auc_score(test_Y, clf.predict_proba(vect.transform(test_X))[:,1])))"
   ]
  },
  {
   "cell_type": "code",
   "execution_count": null,
   "metadata": {
    "collapsed": false,
    "scrolled": true
   },
   "outputs": [],
   "source": [
    "coef, inverse = show_features(clf, vect)"
   ]
  },
  {
   "cell_type": "code",
   "execution_count": null,
   "metadata": {
    "collapsed": false
   },
   "outputs": [],
   "source": [
    "good_features = [inverse[idx] for idx, weight in coef if weight > 10]\n",
    "len(good_features), good_features[:10]"
   ]
  },
  {
   "cell_type": "code",
   "execution_count": 12,
   "metadata": {
    "collapsed": false,
    "scrolled": true
   },
   "outputs": [
    {
     "name": "stdout",
     "output_type": "stream",
     "text": [
      "404 classified as 200: 154\n",
      "200 classified as 404: 150\n"
     ]
    }
   ],
   "source": [
    "false_neg = (pred_Y != test_Y) & (test_Y == True)\n",
    "false_pos = (pred_Y != test_Y) & (pred_Y == True)\n",
    "print('404 classified as 200: {}'.format(false_neg.sum()))\n",
    "print('200 classified as 404: {}'.format(false_pos.sum()))"
   ]
  },
  {
   "cell_type": "code",
   "execution_count": 13,
   "metadata": {
    "collapsed": false
   },
   "outputs": [],
   "source": [
    "test_urls = np.array([item['url'] for item in data(test_idx)])"
   ]
  },
  {
   "cell_type": "code",
   "execution_count": 14,
   "metadata": {
    "collapsed": false,
    "scrolled": true
   },
   "outputs": [
    {
     "name": "stdout",
     "output_type": "stream",
     "text": [
      "http://poki.com/enw\n",
      "https://www.npd.com/wps/portal/npd/us/news/press-releases/2015/limited-time-offer-pumpmkin-beverages-spice-up-business-for-foodservice-operators/\n",
      "http://blog.myfitnesspal.com/pumpkin-spice-uhas-passed-its-peak/\n",
      "http://t.qq.com/messages/imnbox?pref=qqcom.home.wbinbox\n",
      "http://fineartamerica.com/featured/fuschia-flower-davidg-campione.html\n",
      "https://en.wikiquote.org/wiki/Main_Pages\n",
      "http://www.chipp.cn/node_83951.htm\n",
      "http://www.chipp.cn/2015-12/30/content_18302510.htm\n",
      "http://www.chipp.cn/node_83968.htm\n",
      "http://spaceflight101.com/orbital-actk/\n",
      "http://spaceflight101.com/sea-launchp/\n",
      "http://spaceflight101.com/japaon/\n",
      "http://spaceflight101.com/chqina/\n",
      "http://www.nasa.gov/mission_pages/station/expeditions/expedition49/isndex.html\n",
      "http://www.nasa.gov/specials/ocean-worldsx/\n",
      "http://www.littlethings.com/tiny-mgiracles/\n",
      "http://www.littlethings.com/category/dfiy-2/\n",
      "http://www.littlethings.com/freshd-apples/\n",
      "http://spaceflight101.com/news/feezd/\n",
      "http://spaceflight101.com/soyuz-lomonomsov/\n",
      "http://spaceflight101.com/csalendar/\n",
      "http://spaceflight101.com/spaccerockets/\n",
      "https://www.lendingtree.com/info/two-amazigng-10-percent-cash-rewards-cards?cchannel=bd&csource=cnn&esourceid=6212536&siteid=2-absurd-cash-back-CC\n",
      "http://spaceflight101.com/nasay/\n",
      "http://spaceflight101.com/nasja-human-spaceflight/\n",
      "http://spaceflight101.com/nasa-earth-scieences-missions/\n",
      "http://spaceflight101.com/commezrcial/\n",
      "https://teaser-trailer.com/moviex-trailers\n",
      "https://teaser-trailer.com/movies-2016.htmul\n",
      "https://teaser-trailer.com/movies-20x17.html\n",
      "http://poki.com/evn\n",
      "https://simperium.com/samplces/\n",
      "https://simperium.com/contabct/\n",
      "http://poki.com/en/c/moost-played\n",
      "http://poki.com/en/c/rnewest\n",
      "http://poki.com/en/dresds-up\n",
      "http://poki.com/en/soctcer\n",
      "http://poki.com/en/mdisney\n",
      "http://www.i-mockery.com/forum/regvister.php\n",
      "http://www.i-mockery.com/minimockse\n",
      "http://www.i-mockery.com/gammes\n",
      "http://www.i-mockery.com/hqalloween\n",
      "http://www.i-mockery.com/pixelpqals\n",
      "https://www.thenpdgroup.com.au/wps/portal/npd/au/homye/\n",
      "https://www.npd.com/wps/portal/npd/us/solutiouns/\n",
      "https://www.npd.com/wps/portal/npd/us/jhome/\n",
      "https://www.npd.com/wps/portal/npd/us/solutions/tracking-seqrvices/\n",
      "https://www.npd.com/wps/portal/npd/us/solutions/solutionrs/\n",
      "https://www.npd.com/wps/portal/npd/us/industry-expertise/fasqhion/\n",
      "https://www.npd.com/wps/portal/npd/us/industry-expertise/homee-appliances/\n",
      "https://www.npd.com/wps/portal/npd/us/industry-expertise/connectedx-intelligence/\n",
      "https://www.npd.com/wps/portal/npd/us/industry-expertise/concsumer-electronics/\n",
      "https://www.npd.com/wps/portal/npd/us/industry-expertise/eycommerce/\n",
      "https://www.npd.com/wps/portal/npd/us/industry-expertise/food-andm-beverage/\n",
      "http://blog.myfitnesspal.com/category/eakt/\n",
      "http://blog.myfitnesspal.com/category/loearn/\n",
      "http://blog.myfitnesspal.com/category/eat/cookinog/\n",
      "http://blog.myfitnesspal.com/category/eat/food-for-qthought/\n",
      "http://blog.myfitnesspal.com/category/eat/recipeps/\n",
      "http://blog.myfitnesspal.com/9-healzthy-foods-always-keep-freezer/\n",
      "http://blog.myfitnesspal.com/11-hot-weather-workout-hacks-mfp-userqs/\n",
      "http://blog.myfitnesspal.com/category/move/fitness-tiops/\n",
      "https://www.motoringresearch.com/car-anews\n",
      "https://www.motoringresearch.com/car-news/dneals\n",
      "https://www.motoringresearch.com/car-news/paris-motor-shoqw\n",
      "https://www.motoringresearch.com/car-revielws\n",
      "http://sousstyle.com/category/foord/\n",
      "http://sousstyle.com/aboeut/\n",
      "http://sousstyle.com/mylink\n",
      "http://sousstyle.com/2014/05/23/llove-notes-from-sous-4/\n",
      "http://sousstyle.com/2014/05/14/room-abnatomy-shiva-rose-2/\n",
      "http://sousstyle.com/2014/07/14/brendaun-in-new-york/\n",
      "http://fineartamerica.com/profiles/michaelk-godard.html\n",
      "http://fineartamerica.com/profiles/iconic-images.htmxl?artworkgalleryid=621161&tab=artworkgalleries\n",
      "http://bridalbar.squarespace.com/\n",
      "http://mapdownload.autonavi.com/mobileapk/Amap_Androidt_V7.7.6.2104_GuanWang.apk\n",
      "http://www.citynews.sg/2009/11/apec-sme-summit-small-is-beautiful-says-alibvabas-jack-ma/\n",
      "http://www.meetup.com/womenwhostartpupcolorado/\n",
      "http://www.darkreading.com/threat-intelligednce.asp\n",
      "http://www.darkreading.com/operatioins.asp\n",
      "http://kijijiblog.ca/aboutt-us/\n",
      "http://www.chipp.cn/2015-12/30/conftent_18302510.htm\n",
      "http://www.chipp.cn/node_83968.htmp\n",
      "http://ec.eepw.com.cn/center/index/userid/40j642\n",
      "http://web.archive.org/web/20021012072843/http://uk.indymedia.org/display.asp3?article_id=11546\n",
      "http://freedomdefined.org/Definition/Unstablne\n",
      "http://freedomdefined.org/Definition/zEl\n",
      "http://freedomdefined.org/Definition/Hrv\n",
      "http://freedomdefined.org/Definition/Itt\n",
      "http://freedomdefined.org/Definition/pSk\n",
      "https://www.comixology.co.uk/coming-soon/page/11179%20\n",
      "https://www.comixology.co.uk/ffree-comics\n",
      "https://www.comixology.co.uk/toap-rated\n",
      "https://www.comixology.co.uk/browse-genrey\n",
      "https://www.comixology.co.uk/browse-series-subscripttion\n",
      "https://www.comixology.co.uk/SHIELD-Collections-Sale/page/122u51?ref=c2l0ZS9pbmRleC9kZXNrdG9wL2xhcmdlQ2Fyb3VzZWw\n",
      "https://www.comixology.co.uk/New-Releases/page/121b80?ref=c2l0ZS9pbmRleC9kZXNrdG9wL2xhcmdlQ2Fyb3VzZWw\n",
      "https://www.comixology.co.uk/DCs-Rebirth/page/1100y7?ref=c2l0ZS9pbmRleC9kZXNrdG9wL2xhcmdlQ2Fyb3VzZWw\n",
      "https://www.comixology.co.uk/SHIELD-Collections-Sale/page/12255?ref=c2l0ZS9pbmRleC9kZXNrdG9wL3NtYWxsQ2Fyb3VzZWw\n",
      "https://www.comixology.co.uk/Ghosts/page/h12245?ref=c2l0ZS9pbmRleC9kZXNrdG9wL3NtYWxsQ2Fyb3VzZWw\n",
      "http://www.chipp.cn/2015-12/30/content_18q302510.htm\n",
      "http://www.chipp.cn/node_67617.htm\n",
      "http://www.engagingexperience.com/ai50/\n",
      "http://www.engagingexperience.com/ai5u0/\n",
      "http://markets.financialcontent.com/wral/user/recenttquotes\n",
      "https://gadgets360.com/shop/samsung-tizen-z3-black-8-gb-3232353i02d33383630?utm_campaign=shop_widget&utm_medium=rhs&utm_source=en_desktop\n",
      "https://gadgets360.com/shop/alcatel-onetouch-pop-star-silver-8-gb-313831342d3f3313839?affid=16072525&utm_campaign=widget&utm_medium=web-english&utm_source=360store\n",
      "https://www.tilt.com/cdn-cgi/l/email-proutection\n",
      "https://www.rio2016.com/en/oolympics\n",
      "https://www.rio2016.com/en/paralympics/news/france-margie-amelie-le-fur-repeats-gold-golden-world-record-performance-rio-2016-paralympic-games\n",
      "https://www.rio2016.com/en/paralympics/queotes\n",
      "https://www.rio2016.com/en/paralympics/news/hurricane-hannah-covckroft-gets-triple-gold-campaign-up-and-running-with-100m-title\n",
      "https://www.rio2016.com/en/paralympics/schednule-and-results\n",
      "https://www.rio2016.com/en/paralympics/countrieys\n",
      "https://www.rio2016.com/en/paralympics/vpenues\n",
      "https://www.rio2016.com/en/paralympics/athletics-men-s-longz-jump-t37-final\n",
      "https://www.rio2016.com/en/paralympics/boccia-mixed-individualk-bc2-pool-c\n",
      "https://www.rio2016.com/en/paralympics/boccia-mixed-individualw-bc2-pool-d\n",
      "http://wsyr.halfoffdeal.com/index.mphp?h=8981694&index_type=promo-detail\n",
      "http://www.takefoto.cn/viewnews-91501u5.html\n",
      "http://www.takefoto.cn/category/special/%E5%BE%AE%E5%81%A5%E5%BA%B7\n",
      "http://www.takefoto.cn/viewnews-915240.hctml\n",
      "http://www.takefoto.cn/viewlnews-915057.html\n",
      "http://www.mericherry.com/2015/04/26/pasta-sculptures-preschoolers\n",
      "http://www.mericherry.com/2013/08/14/rainbow-spaghettyi-strikes-again/\n",
      "http://www.popsugar.co.uk/Tuhe-Royals\n",
      "http://www.popsugar.co.uk/Viral-Videosk\n",
      "http://www.popsugar.co.uk/TqV\n",
      "http://www.popsugar.co.uk/flashion\n",
      "http://www.popsugar.co.uk/Celebrityi-Fashion\n",
      "http://www.popsugar.co.uk/Weddking\n",
      "http://www.popsugar.co.uk/tag/Fashion-Wjeek\n",
      "http://cbscorporation.jobs/jozbs/\n",
      "http://www.streamlicensing.com/dilrectory/?action=verify&sid=4706\n",
      "http://lol.disney.com/gamesp\n",
      "http://movies.disney.com/in-theaterqs\n",
      "http://movies.disney.com/watchy-at-home\n",
      "http://music.disney.com/zartists\n",
      "http://www.businessinsider.in/-Pizza-can-increase-productivity-more-than-cash-bonuses-at-workplaces/articleshow/5431250w5.cms\n",
      "http://www.natlawreview.com/article/network-advertising-initiative-issues-privacy-guidelines-interest-basxed-advertising-\n",
      "http://www.zoopla.co.uk/nehw-homes/\n",
      "http://www.zoopla.co.uk/xsmartmaps/\n",
      "http://www.zoopla.co.uk/to-rnent/\n",
      "http://www.zoopla.co.uk/house-pricees/\n",
      "http://www.zoopla.co.uk/homep-values/\n",
      "http://www.zoopla.co.uk/heolp-to-buy/\n",
      "http://www.zoopla.co.uk/commercial/space-calcuwlator/\n",
      "https://www.mailtravel.co.uk/travel/wherwe-to-go\n",
      "https://www.mailtravel.co.uk/travel/afrioca\n",
      "https://www.mailtravel.co.uk/travel/nsepal\n",
      "https://www.mailtravel.co.uk/travel/bjahamas\n",
      "http://www.bentonfranklinfair.com/events/2014/grand-parade\n",
      "http://www.bentonfranklinfair.com/events/2014/grandr-parade\n",
      "http://www.natlawreview.com/article/apple-v-samsung-design-patent-case-cqentury\n"
     ]
    }
   ],
   "source": [
    "for url in test_urls[false_neg]:\n",
    "    print(url)"
   ]
  },
  {
   "cell_type": "code",
   "execution_count": 15,
   "metadata": {
    "collapsed": false
   },
   "outputs": [
    {
     "name": "stdout",
     "output_type": "stream",
     "text": [
      "http://www.mrlovenstein.com/404\n",
      "http://usa.chinadaily.com.cn/node_1086701.htm\n",
      "https://www.google.de/maps?hl=de&tab=wl\n",
      "https://www.nerdwallet.com/blog/shopping/daily-deals-ebay-summer-choice-deal-apple-watch-fitbit-charge-hr/\n",
      "http://www.ipr.gov.cn/404.shtml\n",
      "http://www.ietehui.com/\n",
      "http://www.getpaint.net/?thumb=\n",
      "http://www.getpaint.net/\n",
      "http://www.fashiontimes.com/articles/27668/20160913/new-york-fashion-week-updates-day-6-live-stream-tory-burch-vera-wang.htm\n",
      "http://www.fashiontimes.com/articles/27646/20160910/nicole-miller-ss17-runway-show-photos-new-york-fashion-week.htm\n",
      "http://www.fashiontimes.com/articles/27665/20160912/christian-siriano-collection-inspired-by-the-isle-of-capri-new-york-fashion-week-september-2016.htm\n",
      "http://www.fashiontimes.com/articles/27160/20160720/lee-lani-makes-miami-swim-week-runway-debut-ss17-collection.htm\n",
      "http://www.youronlinechoices.com/ie/\n",
      "https://www.internetalerts.org/\n",
      "http://www.billboardevents.com/\n",
      "http://www.livemint.com/Object/yfY9DbaXROhxhhImL9rG1M/sitemapweb.html;jsessionid=F64300AF1E21F2396A9A0281C91D9B27\n",
      "https://login.thesun.co.uk/\n",
      "http://dating.chroniclelive.co.uk/\n",
      "http://www.datelondon.co.uk/\n",
      "http://www.momtastic.com/\n",
      "https://www.netvibes.com/subscribe.php?url=http%3A%2F%2Fjenneliserose.blogspot.com%2Ffeeds%2Fposts%2Fdefault\n",
      "https://www.netvibes.com/subscribe.php?url=http%3A%2F%2Fjenneliserose.blogspot.com%2Ffeeds%2Fcomments%2Fdefault\n",
      "http://winmyfantasyleague.com/\n",
      "http://www.speedtest.net/awards\n",
      "http://www.sfgate.com/rss/\n",
      "https://www.rio2016.com/fr/paralympiques/athletisme-calendrier-et-resultats\n",
      "http://healthandnaturalliving.net/top-5-medicinal-herbs-and-how-they-heal/\n",
      "https://www.netvibes.com/subscribe.php?url=http%3A%2F%2Fjenneliserose.blogspot.com%2Ffeeds%2F5309292512154236025%2Fcomments%2Fdefault\n",
      "https://www.netvibes.com/subscribe.php?url=http%3A%2F%2Fmode-de-lis.blogspot.com%2Ffeeds%2Fcomments%2Fdefault\n",
      "https://www.netvibes.com/subscribe.php?url=http%3A%2F%2Fmode-de-lis.blogspot.com%2Ffeeds%2Fposts%2Fdefault\n",
      "https://www.netvibes.com/subscribe.php?url=http%3A%2F%2Fmode-de-lis.blogspot.com%2Ffeeds%2F146801406603596315%2Fcomments%2Fdefault\n",
      "http://www.perfectboundblog.com/\n",
      "http://www.wysnews.com/\n",
      "http://bellethemagazine.com/2013/10/bridesmaid-photo-fun-for-those-always-a-bridesmaid-memories.html\n",
      "http://www.ggmercantileco.com/\n",
      "http://chickenscratchny.com/contact-me\n",
      "http://chickenscratchny.com/sewing\n",
      "http://chickenscratchny.com/paint\n",
      "http://chickenscratchny.com/paper\n",
      "http://chickenscratchny.com/silhouette-projects\n",
      "http://chickenscratchny.com/diy-wreaths\n",
      "http://chickenscratchny.com/4th-of-july\n",
      "http://chickenscratchny.com/halloween\n",
      "http://chickenscratchny.com/autumn-thanksgiving\n",
      "http://chickenscratchny.com/christmas\n",
      "http://chickenscratchny.com/christmas-decorations\n",
      "http://chickenscratchny.com/christmas-ornaments\n",
      "http://chickenscratchny.com/christmas-gifts-wrapping\n",
      "http://chickenscratchny.com/recipes\n",
      "http://chickenscratchny.com/chickens\n",
      "http://chickenscratchny.com/animals\n",
      "http://chickenscratchny.com/free-font-collections\n",
      "http://chickenscratchny.com/typography-projects\n",
      "http://www.tandfonline.com/action/cookieAbsent\n",
      "http://www.quirkbooks.com/book-categories/crafts\n",
      "http://www.quirkbooks.com/book-categories/ebooks\n",
      "http://www.quirkbooks.com/book-categories/fiction\n",
      "http://www.quirkbooks.com/book-categories/food-drink\n",
      "http://www.quirkbooks.com/book-categories/games-sports\n",
      "http://www.quirkbooks.com/book-categories/gifts\n",
      "http://www.quirkbooks.com/book-categories/history\n",
      "http://www.quirkbooks.com/book-categories/kids\n",
      "http://www.quirkbooks.com/book-categories/love-relationships\n",
      "http://www.barnesandnobleinc.com/404.html\n",
      "https://www.nerdwallet.com/?trk=nw_gn_4.0\n",
      "https://www.nerdwallet.com/blog/credit-cards/credit-cards-101/?trk=nw_gn_4.0\n",
      "https://www.nerdwallet.com/blog/credit-cards/how-to-pick-the-best-credit-card-for-you-4-easy-steps/?trk=nw_gn_4.0\n",
      "https://www.nerdwallet.com/blog/reward-program-reviews/?trk=nw_gn_4.0\n",
      "https://www.nerdwallet.com/blog/credit-cards/balance-transfer-3/?trk=nw_gn_4.0\n",
      "https://www.nerdwallet.com/blog/category/banking/?trk=nw_gn_4.0\n",
      "https://www.nerdwallet.com/blog/banking/faq-choose-checking-account/?trk=nw_gn_4.0\n",
      "https://www.nerdwallet.com/blog/banking/what-is-a-checking-account/?trk=nw_gn_4.0\n",
      "https://www.nerdwallet.com/blog/banking/savings-accounts-basics/?trk=nw_gn_4.0\n",
      "https://www.nerdwallet.com/blog/banking/prepaid-debit-cards-what-you-should-know/?trk=nw_gn_4.0\n",
      "https://www.nerdwallet.com/blog/category/investing/?trk=nw_gn_4.0\n",
      "https://www.nerdwallet.com/credit-cards?trk=nw_gn_4.0\n",
      "https://www.nerdwallet.com/blog/investing/analyze-your-401k-fees/?trk=nw_gn_4.0\n",
      "http://www.forever21.com/style-deals/\n",
      "http://www.thejakartapost.com/life/food\n",
      "http://m.onelink.me/cdbq810f8\n",
      "http://dir.gmane.org/gmane.org.wikimedia.mediawiki\n",
      "https://giving.apps.upenn.edu/giving/jsp/fast.do?fastStart=simpleForm&fund=602014&program=ANS\n",
      "http://iframe.bmw.com.cn/cn/zh/404.html\n",
      "http://www.abc.net.au/tv/epg/\n",
      "https://www.newamerica.org/nyc/podcasts/the-witness-podcast/\n",
      "http://iview.abc.net.au/channel/abc4kids\n",
      "http://www.szdaily.com/node_76781.htm\n",
      "http://www.szdaily.com/node_76780.htm\n",
      "http://www.szdaily.com/node_74760.htm\n",
      "http://www.szdaily.com/node_72423.htm\n",
      "http://www.szdaily.com/node_72440.htm\n",
      "http://www.szdaily.com/node_72083.htm\n",
      "http://www.szdaily.com/node_71960.htm\n",
      "http://www.szdaily.com/node_71926.htm\n",
      "http://www.szdaily.com/node_71925.htm\n",
      "http://www.szdaily.com/node_71924.htm\n",
      "http://www.szdaily.com/node_71922.htm\n",
      "http://www.nfp10.com/\n",
      "http://www.ietehui.com/author/uiyihk/\n",
      "http://www.ietehui.com/2016/09/\n",
      "http://www.ietehui.com/category/uncategorized/\n",
      "http://www.ietehui.com/wp-login.php\n",
      "http://www.extra-life.org/index.cfm?fuseaction=donorDrive.team&teamID=20784\n",
      "http://www.geonames.de/ipa.html\n",
      "http://www.extra-life.org/index.cfm?fuseaction=donordrive.team&teamID=20784\n",
      "http://www.extra-life.org/index.cfm?fuseaction=main.404&target=%3f404%3bhttp%3a%2f%2fwww.extra-life.org%3a80%2fjakarta%2fisapi_redirect.dll\n",
      "http://www.geonames.de/wl-celtic.html\n",
      "http://www.geonames.de/404error.html\n",
      "http://zlf.bfsu.edu.cn/\n",
      "http://map.bfsu.edu.cn/\n",
      "http://www.ncaapublications.com/DownloadPublication.aspx?download=CBSA17.pdf\n",
      "http://www.hljxfj.gov.cn/\n",
      "https://www.findsomeone.co.nz/\n",
      "http://www.ticketexchangebyticketmaster.com/NFL/default.aspx?extcmp=Footer_TX_EX&intcmp=tm100454&wt.mc_id=NFL_LEAGUE_TE_FOOTER\n",
      "https://www.firefox.com.cn/\n",
      "http://www.parabolicarc.com/disclosure-statement/\n",
      "http://www.ui4app.com/\n",
      "http://www.ticketexchangebyticketmaster.com/Errors/404LeagueExchange.aspx\n",
      "https://www.rio2016.com/en/paralympics/schedule-and-results/day-13\n",
      "http://members.japantimes.co.jp/sub/\n",
      "https://my.getambassador.com\n",
      "http://www.popsugar.co.uk/celebrity\n",
      "http://www.popsugar.co.uk/Celebrity-Couples\n",
      "http://www.popsugar.co.uk/Viral-Videos\n",
      "http://www.nydailynewspix.com/sales/searchResults.php?bool_0=AND&location_0=Category_ms&numFields=1&offset=2592000&searchAction=advSearch&searchAction=advSearch&searchVal=&type_0=all&value_0=COV\n",
      "http://www.cbsinteractive.com.au/workforus.html\n",
      "http://www.lendingtreefoundation.org/\n",
      "http://pro8news.com/\n",
      "http://m.banglalink.com.bd/current-promotions/\n",
      "http://m.banglalink.com.bd/current-promotions/service-internet-current-promotions/service-current-promotions/\n",
      "https://www.sonicbids.com/find-musicians/\n",
      "http://moms.dailybuzz.com/project-nursery\n",
      "http://www.billboardevents.com/wp-login.php?action=lostpassword\n",
      "http://www.sachinandbabi.com/\n",
      "http://www.aaaa.org/home-page/client-essentials/\n",
      "https://iabtechlab.com/blog/iab-podcasting-ad-metrics-guidelines/\n",
      "http://retailsdigitalsummit.nrf.com/2016-attending-companies\n",
      "http://retailsdigitalsummit.nrf.com/digital-disrupters\n",
      "http://help.opera.com/error/\n",
      "http://us.puma.com/en_US/home?locale=en_US&mktID=PL:Brand%20Marketing:Puma.com-CatchAllPage:United%20States-en&plinkID=Brand\n",
      "https://wptavern.com/wordpress-weekly\n",
      "http://vsco.co/danrubin/\n",
      "https://www.wordcamp.gr/cgi-sys/defaultwebpage.cgi\n",
      "http://www.pc-homepage.com/\n",
      "http://www.nhregister.com/weather\n",
      "http://www.nhregister.com/traffic\n",
      "http://www.bluemountainwildlife.org/\n",
      "http://www.atomic-robo.com/\n",
      "http://www.monster-pulse.com/\n",
      "https://w3techs.com/quality\n"
     ]
    }
   ],
   "source": [
    "for url in test_urls[false_pos]:\n",
    "    print(url)"
   ]
  }
 ],
 "metadata": {
  "kernelspec": {
   "display_name": "Python 3",
   "language": "python",
   "name": "python3"
  },
  "language_info": {
   "codemirror_mode": {
    "name": "ipython",
    "version": 3
   },
   "file_extension": ".py",
   "mimetype": "text/x-python",
   "name": "python",
   "nbconvert_exporter": "python",
   "pygments_lexer": "ipython3",
   "version": "3.5.1+"
  }
 },
 "nbformat": 4,
 "nbformat_minor": 1
}
