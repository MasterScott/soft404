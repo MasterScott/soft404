{
 "cells": [
  {
   "cell_type": "code",
   "execution_count": 1,
   "metadata": {
    "collapsed": false
   },
   "outputs": [
    {
     "data": {
      "text/plain": [
       "dict_keys(['url', 'text', 'status'])"
      ]
     },
     "execution_count": 1,
     "metadata": {},
     "output_type": "execute_result"
    }
   ],
   "source": [
    "import gzip\n",
    "import json\n",
    "\n",
    "def reader():\n",
    "    with gzip.open('../text_items.jl.gz', 'rt') as f:\n",
    "        for line in f:\n",
    "            item = json.loads(line)\n",
    "            if item['status'] in {200, 404}:\n",
    "                yield item\n",
    "\n",
    "item = next(reader())\n",
    "item.keys()"
   ]
  },
  {
   "cell_type": "code",
   "execution_count": 2,
   "metadata": {
    "collapsed": true
   },
   "outputs": [],
   "source": [
    "import tldextract\n",
    "\n",
    "def get_domain(url):\n",
    "    return tldextract.extract(url).registered_domain.lower()"
   ]
  },
  {
   "cell_type": "code",
   "execution_count": 3,
   "metadata": {
    "collapsed": false
   },
   "outputs": [
    {
     "data": {
      "text/plain": [
       "14615"
      ]
     },
     "execution_count": 3,
     "metadata": {},
     "output_type": "execute_result"
    }
   ],
   "source": [
    "import numpy as np\n",
    "import itertools\n",
    "import random\n",
    "from collections import Counter\n",
    "\n",
    "# data = list(itertools.islice(reader(), 3000))\n",
    "data = list(reader())\n",
    "\n",
    "domain_counts = Counter(get_domain(item['url']) for item in data)\n",
    "exclude_most_common = 5\n",
    "most_common_domains = {domain for domain, _ in domain_counts.most_common(exclude_most_common)}\n",
    "data = [item for item in data if get_domain(item['url']) not in most_common_domains]\n",
    "\n",
    "random.shuffle(data)\n",
    "len(data)"
   ]
  },
  {
   "cell_type": "code",
   "execution_count": 4,
   "metadata": {
    "collapsed": false
   },
   "outputs": [],
   "source": [
    "def get_xy(items, indices=None):\n",
    "    if indices is not None:\n",
    "        indices = set(indices)\n",
    "        items = [item for idx, item in enumerate(items) if idx in indices]\n",
    "    return (np.array([item['text'] for item in items]),\n",
    "            np.array([item['status'] == 404 for item in items]))"
   ]
  },
  {
   "cell_type": "code",
   "execution_count": 5,
   "metadata": {
    "collapsed": false
   },
   "outputs": [
    {
     "data": {
      "text/plain": [
       "(13153, 1462)"
      ]
     },
     "execution_count": 5,
     "metadata": {},
     "output_type": "execute_result"
    }
   ],
   "source": [
    "from sklearn.cross_validation import LabelKFold\n",
    "\n",
    "urls = [item['url'] for item in data]\n",
    "lkf = LabelKFold(list(map(get_domain, urls)), n_folds=10)\n",
    "\n",
    "train_idx, test_idx = next(iter(lkf))\n",
    "train_idx_set = set(train_idx)\n",
    "test_X, test_Y = get_xy(data, test_idx)\n",
    "len(train_idx), len(test_idx)"
   ]
  },
  {
   "cell_type": "code",
   "execution_count": 7,
   "metadata": {
    "collapsed": false
   },
   "outputs": [
    {
     "name": "stdout",
     "output_type": "stream",
     "text": [
      "Train class weight: [ 0.59094584  3.24888889]\n",
      "Test class weight:  [ 0.60096154  2.97619048]\n"
     ]
    }
   ],
   "source": [
    "from sklearn.utils.class_weight import compute_class_weight\n",
    "\n",
    "classes = [False, True]\n",
    "print('Train class weight:', compute_class_weight('balanced', classes, test_Y))\n",
    "np.random.shuffle(train_idx)\n",
    "class_weight = compute_class_weight('balanced', classes, get_xy(data, train_idx[:1000])[1])\n",
    "print('Test class weight: ', class_weight)\n",
    "class_weight = dict(zip(classes, class_weight))"
   ]
  },
  {
   "cell_type": "code",
   "execution_count": 13,
   "metadata": {
    "collapsed": false
   },
   "outputs": [
    {
     "data": {
      "text/plain": [
       "CountVectorizer(analyzer='word', binary=False, decode_error='strict',\n",
       "        dtype=<class 'numpy.int64'>, encoding='utf-8', input='content',\n",
       "        lowercase=True, max_df=1.0, max_features=None, min_df=1,\n",
       "        ngram_range=(1, 1), preprocessor=None, stop_words=None,\n",
       "        strip_accents=None, token_pattern='(?u)\\\\b\\\\w\\\\w+\\\\b',\n",
       "        tokenizer=None, vocabulary=None)"
      ]
     },
     "execution_count": 13,
     "metadata": {},
     "output_type": "execute_result"
    }
   ],
   "source": [
    "from sklearn.feature_extraction.text import CountVectorizer\n",
    "\n",
    "vect = CountVectorizer(ngram_range=(1, 1))\n",
    "vect.fit(item['text'] for idx, item in enumerate(data) if idx in train_idx_set)"
   ]
  },
  {
   "cell_type": "code",
   "execution_count": 9,
   "metadata": {
    "collapsed": true
   },
   "outputs": [],
   "source": [
    "def batches(lst, size):\n",
    "    for idx in range(0, len(lst), size):\n",
    "        yield lst[idx:idx + size]"
   ]
  },
  {
   "cell_type": "code",
   "execution_count": 15,
   "metadata": {
    "collapsed": false
   },
   "outputs": [
    {
     "name": "stdout",
     "output_type": "stream",
     "text": [
      "\n",
      "Epoch 1 ..............\n",
      "Epoch 2 .............."
     ]
    }
   ],
   "source": [
    "from sklearn.linear_model import SGDClassifier\n",
    "\n",
    "clf = SGDClassifier(loss='log', class_weight=None, penalty='l1')\n",
    "\n",
    "n_epochs = 2\n",
    "batch_size = 1000\n",
    "for epoch in range(n_epochs):\n",
    "    print('\\nEpoch {} '.format(epoch + 1), end='', flush=True)\n",
    "    np.random.shuffle(train_idx)\n",
    "    for indices in batches(train_idx, batch_size):\n",
    "        print('.', end='', flush=True)\n",
    "        _x, _y = get_xy(data, indices)\n",
    "        clf.partial_fit(vect.transform(_x), _y, classes=classes)"
   ]
  },
  {
   "cell_type": "code",
   "execution_count": 16,
   "metadata": {
    "collapsed": false
   },
   "outputs": [
    {
     "name": "stdout",
     "output_type": "stream",
     "text": [
      "             precision    recall  f1-score   support\n",
      "\n",
      "        200       0.96      0.99      0.97      1237\n",
      "        404       0.92      0.78      0.85       225\n",
      "\n",
      "avg / total       0.96      0.96      0.95      1462\n",
      "\n"
     ]
    }
   ],
   "source": [
    "from sklearn import metrics\n",
    "print(metrics.classification_report(test_Y, clf.predict(vect.transform(test_X)), target_names=['200', '404']))"
   ]
  },
  {
   "cell_type": "code",
   "execution_count": 17,
   "metadata": {
    "collapsed": false
   },
   "outputs": [
    {
     "name": "stdout",
     "output_type": "stream",
     "text": [
      "ROC AUC: 0.905\n"
     ]
    },
    {
     "name": "stderr",
     "output_type": "stream",
     "text": [
      "/Users/kostia/shub/memex/soft404/venv/lib/python3.5/site-packages/sklearn/linear_model/base.py:284: RuntimeWarning: overflow encountered in exp\n",
      "  np.exp(prob, prob)\n"
     ]
    }
   ],
   "source": [
    "print('ROC AUC: {:.3f}'.format(metrics.roc_auc_score(test_Y, clf.predict_proba(vect.transform(test_X))[:,1])))"
   ]
  }
 ],
 "metadata": {
  "kernelspec": {
   "display_name": "Python 3",
   "language": "python",
   "name": "python3"
  },
  "language_info": {
   "codemirror_mode": {
    "name": "ipython",
    "version": 3
   },
   "file_extension": ".py",
   "mimetype": "text/x-python",
   "name": "python",
   "nbconvert_exporter": "python",
   "pygments_lexer": "ipython3",
   "version": "3.5.1"
  }
 },
 "nbformat": 4,
 "nbformat_minor": 1
}
