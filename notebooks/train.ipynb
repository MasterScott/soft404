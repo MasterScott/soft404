{
 "cells": [
  {
   "cell_type": "code",
   "execution_count": 3,
   "metadata": {
    "collapsed": false
   },
   "outputs": [
    {
     "data": {
      "text/plain": [
       "dict_keys(['url', 'blocks', 'title', 'idx', 'text', 'status'])"
      ]
     },
     "execution_count": 3,
     "metadata": {},
     "output_type": "execute_result"
    }
   ],
   "source": [
    "import struct\n",
    "import pickle\n",
    "        \n",
    "def reader(indices=None):\n",
    "    if indices is not None:\n",
    "        indices = set(indices)\n",
    "    with open('../text_items_small.pkls', 'rb') as f:\n",
    "        idx = 0\n",
    "        while True:\n",
    "            size_data = f.read(4)\n",
    "            if not size_data:\n",
    "                break\n",
    "            size, = struct.unpack('i', size_data)\n",
    "            if indices is None or idx in indices:\n",
    "                item = pickle.loads(f.read(size))\n",
    "                item['idx'] = idx\n",
    "                if item['status'] in {200, 404}:\n",
    "                    yield item\n",
    "            else:\n",
    "                f.seek(f.tell() + size)\n",
    "            idx += 1\n",
    "\n",
    "item = next(reader())\n",
    "item.keys()"
   ]
  },
  {
   "cell_type": "code",
   "execution_count": 4,
   "metadata": {
    "collapsed": true
   },
   "outputs": [],
   "source": [
    "import tldextract\n",
    "\n",
    "def get_domain(url):\n",
    "    return tldextract.extract(url).registered_domain.lower()"
   ]
  },
  {
   "cell_type": "code",
   "execution_count": 5,
   "metadata": {
    "collapsed": false
   },
   "outputs": [
    {
     "name": "stdout",
     "output_type": "stream",
     "text": [
      "[('msn.com', 2382), ('microsoftstore.com', 1080), ('jia360.com', 500), ('nuomi.com', 387), ('tradedoubler.com', 362)]\n"
     ]
    }
   ],
   "source": [
    "import numpy as np\n",
    "import itertools\n",
    "import random\n",
    "from collections import Counter\n",
    "\n",
    "# data = lambda: itertools.islice(data(), 3000)\n",
    "\n",
    "domain_counts = Counter(get_domain(item['url']) for item in reader())\n",
    "# TODO - exclude by count, not a fixed number\n",
    "print(domain_counts.most_common(5))\n",
    "exclude_most_common = 5\n",
    "most_common_domains = {domain for domain, _ in domain_counts.most_common(exclude_most_common)}\n",
    "data = lambda *args, **kwargs: (item for item in reader(*args, **kwargs)\n",
    "                                if get_domain(item['url']) not in most_common_domains)"
   ]
  },
  {
   "cell_type": "code",
   "execution_count": 6,
   "metadata": {
    "collapsed": true
   },
   "outputs": [],
   "source": [
    "def get_xy(items, only_ys=False):\n",
    "    xs = []\n",
    "    ys = []\n",
    "    for item in items:\n",
    "        if not only_ys:\n",
    "            xs.append(item['text'])\n",
    "        ys.append(item['status'] == 404)\n",
    "    ys = np.array(ys)\n",
    "    return ys if only_ys else (xs, ys)"
   ]
  },
  {
   "cell_type": "code",
   "execution_count": 7,
   "metadata": {
    "collapsed": false
   },
   "outputs": [],
   "source": [
    "from sklearn.cross_validation import LabelKFold\n",
    "\n",
    "urls = [(item['idx'], item['url']) for item in data()]\n",
    "def to_data_idx(indices):\n",
    "    indices = set(indices)\n",
    "    result = [data_idx for idx, (data_idx, _) in enumerate(urls) if idx in indices]\n",
    "    assert len(result) == len(indices)\n",
    "    return result\n",
    "\n",
    "lkf = LabelKFold([get_domain(url) for _, url in urls], n_folds=10)\n",
    "_train_idx, _test_idx = next(iter(lkf))\n",
    "train_idx, test_idx = to_data_idx(_train_idx), to_data_idx(_test_idx)\n",
    "test_X, test_Y = get_xy(data(test_idx))"
   ]
  },
  {
   "cell_type": "code",
   "execution_count": 8,
   "metadata": {
    "collapsed": false
   },
   "outputs": [
    {
     "name": "stdout",
     "output_type": "stream",
     "text": [
      "Test class weight: [ 0.57600636  3.78919861]\n",
      "Train class weight:  [ 0.58616647  3.40136054]\n"
     ]
    }
   ],
   "source": [
    "from sklearn.utils.class_weight import compute_class_weight\n",
    "\n",
    "classes = [False, True]\n",
    "print('Test class weight:', compute_class_weight('balanced', classes, test_Y))\n",
    "np.random.shuffle(train_idx)\n",
    "class_weight = compute_class_weight('balanced', classes, get_xy(data(train_idx[:1000]), only_ys=True))\n",
    "print('Train class weight: ', class_weight)\n",
    "class_weight = dict(zip(classes, class_weight))"
   ]
  },
  {
   "cell_type": "code",
   "execution_count": 9,
   "metadata": {
    "collapsed": false
   },
   "outputs": [
    {
     "data": {
      "text/plain": [
       "CountVectorizer(analyzer='word', binary=False, decode_error='strict',\n",
       "        dtype=<class 'numpy.int64'>, encoding='utf-8', input='content',\n",
       "        lowercase=True, max_df=1.0, max_features=None, min_df=1,\n",
       "        ngram_range=(1, 1), preprocessor=None, stop_words=None,\n",
       "        strip_accents=None, token_pattern='(?u)\\\\b\\\\w\\\\w+\\\\b',\n",
       "        tokenizer=None, vocabulary=None)"
      ]
     },
     "execution_count": 9,
     "metadata": {},
     "output_type": "execute_result"
    }
   ],
   "source": [
    "from sklearn.feature_extraction.text import CountVectorizer\n",
    "\n",
    "#vect2 = CountVectorizer(ngram_range=(1, 2), vocabulary={w for f in good_features for w in f.split()})\n",
    "vect = CountVectorizer(ngram_range=(1, 1))\n",
    "vect.fit(item['text'] for item in data(train_idx))"
   ]
  },
  {
   "cell_type": "code",
   "execution_count": 10,
   "metadata": {
    "collapsed": true
   },
   "outputs": [],
   "source": [
    "def batches(lst, size):\n",
    "    for idx in range(0, len(lst), size):\n",
    "        yield lst[idx:idx + size]"
   ]
  },
  {
   "cell_type": "code",
   "execution_count": 11,
   "metadata": {
    "collapsed": false
   },
   "outputs": [
    {
     "name": "stdout",
     "output_type": "stream",
     "text": [
      "\n",
      "Epoch 1 ....\n",
      "Epoch 2 ...."
     ]
    }
   ],
   "source": [
    "from sklearn.linear_model import SGDClassifier\n",
    "\n",
    "clf = SGDClassifier(loss='log', class_weight=None, penalty='l1')\n",
    "\n",
    "n_epochs = 2\n",
    "batch_size = 5000\n",
    "for epoch in range(n_epochs):\n",
    "    print('\\nEpoch {} '.format(epoch + 1), end='', flush=True)\n",
    "    np.random.shuffle(train_idx)\n",
    "    for indices in batches(train_idx, batch_size):\n",
    "        print('.', end='', flush=True)\n",
    "        _x, _y = get_xy(data(indices))\n",
    "        clf.partial_fit(vect.transform(_x), _y, classes=classes)"
   ]
  },
  {
   "cell_type": "code",
   "execution_count": 12,
   "metadata": {
    "collapsed": false
   },
   "outputs": [
    {
     "name": "stdout",
     "output_type": "stream",
     "text": [
      "             precision    recall  f1-score   support\n",
      "\n",
      "        200       0.97      0.97      0.97      1888\n",
      "        404       0.78      0.77      0.77       287\n",
      "\n",
      "avg / total       0.94      0.94      0.94      2175\n",
      "\n"
     ]
    }
   ],
   "source": [
    "from sklearn import metrics\n",
    "pred_Y = clf.predict(vect.transform(test_X))\n",
    "print(metrics.classification_report(test_Y, pred_Y, target_names=['200', '404']))"
   ]
  },
  {
   "cell_type": "code",
   "execution_count": 13,
   "metadata": {
    "collapsed": false
   },
   "outputs": [
    {
     "name": "stdout",
     "output_type": "stream",
     "text": [
      "ROC AUC: 0.875\n"
     ]
    },
    {
     "name": "stderr",
     "output_type": "stream",
     "text": [
      "/home/kostia/shub/memex/soft404/venv/lib/python3.5/site-packages/sklearn/linear_model/base.py:284: RuntimeWarning: overflow encountered in exp\n",
      "  np.exp(prob, prob)\n"
     ]
    }
   ],
   "source": [
    "print('ROC AUC: {:.3f}'.format(metrics.roc_auc_score(test_Y, clf.predict_proba(vect.transform(test_X))[:,1])))"
   ]
  },
  {
   "cell_type": "code",
   "execution_count": 28,
   "metadata": {
    "collapsed": false
   },
   "outputs": [],
   "source": [
    "import langdetect\n",
    "\n",
    "def get_lang(text):\n",
    "    try:\n",
    "        langs = langdetect.detect_langs(text)\n",
    "    except langdetect.lang_detect_exception.LangDetectException:\n",
    "        return ''\n",
    "    else:\n",
    "        return langs[0].lang\n",
    "\n",
    "test_langs = np.array([get_lang(text) for text in test_X])"
   ]
  },
  {
   "cell_type": "code",
   "execution_count": 31,
   "metadata": {
    "collapsed": false,
    "scrolled": true
   },
   "outputs": [
    {
     "data": {
      "text/plain": [
       "[('en', 1248),\n",
       " ('zh-cn', 406),\n",
       " ('ja', 127),\n",
       " ('ko', 100),\n",
       " ('de', 77),\n",
       " ('fr', 52),\n",
       " ('it', 34),\n",
       " ('es', 32),\n",
       " ('ru', 30),\n",
       " ('', 29)]"
      ]
     },
     "execution_count": 31,
     "metadata": {},
     "output_type": "execute_result"
    }
   ],
   "source": [
    "Counter(test_langs).most_common(10)"
   ]
  },
  {
   "cell_type": "code",
   "execution_count": 32,
   "metadata": {
    "collapsed": false
   },
   "outputs": [
    {
     "name": "stdout",
     "output_type": "stream",
     "text": [
      "\n",
      "Language \"en\" with 1248 test samples:\n",
      "             precision    recall  f1-score   support\n",
      "\n",
      "        200       0.97      0.97      0.97      1037\n",
      "        404       0.85      0.85      0.85       211\n",
      "\n",
      "avg / total       0.95      0.95      0.95      1248\n",
      "\n",
      "\n",
      "Language \"zh-cn\" with 406 test samples:\n",
      "             precision    recall  f1-score   support\n",
      "\n",
      "        200       0.99      0.99      0.99       394\n",
      "        404       0.67      0.83      0.74        12\n",
      "\n",
      "avg / total       0.99      0.98      0.98       406\n",
      "\n",
      "\n",
      "Language \"ja\" with 127 test samples:\n",
      "             precision    recall  f1-score   support\n",
      "\n",
      "        200       0.89      0.92      0.90       110\n",
      "        404       0.31      0.24      0.27        17\n",
      "\n",
      "avg / total       0.81      0.83      0.82       127\n",
      "\n",
      "\n",
      "Language \"ko\" with 100 test samples:\n",
      "             precision    recall  f1-score   support\n",
      "\n",
      "        200       0.89      0.95      0.92        85\n",
      "        404       0.56      0.33      0.42        15\n",
      "\n",
      "avg / total       0.84      0.86      0.84       100\n",
      "\n",
      "\n",
      "Language \"de\" with 77 test samples:\n",
      "             precision    recall  f1-score   support\n",
      "\n",
      "        200       0.99      1.00      0.99        76\n",
      "        404       0.00      0.00      0.00         1\n",
      "\n",
      "avg / total       0.97      0.99      0.98        77\n",
      "\n"
     ]
    },
    {
     "name": "stderr",
     "output_type": "stream",
     "text": [
      "/home/kostia/shub/memex/soft404/venv/lib/python3.5/site-packages/sklearn/metrics/classification.py:1074: UndefinedMetricWarning: Precision and F-score are ill-defined and being set to 0.0 in labels with no predicted samples.\n",
      "  'precision', 'predicted', average, warn_for)\n"
     ]
    }
   ],
   "source": [
    "for lang, count in Counter(test_langs).most_common(5):\n",
    "    print('\\nLanguage \"{}\" with {} test samples:'.format(lang, count))\n",
    "    lang_idx = test_langs == lang\n",
    "    print(metrics.classification_report(test_Y[lang_idx], pred_Y[lang_idx], target_names=['200', '404']))"
   ]
  },
  {
   "cell_type": "code",
   "execution_count": 14,
   "metadata": {
    "collapsed": true
   },
   "outputs": [],
   "source": [
    "def show_features(clf, vect, limit=20):\n",
    "    coef = list(enumerate(clf.coef_[0]))\n",
    "    coef.sort(key=lambda x: x[1], reverse=True)\n",
    "    print('{} non-zero features, {} positive and {} negative:'.format(\n",
    "            sum(abs(v) > 0 for _, v in coef),\n",
    "            sum(v > 0 for _, v in coef),\n",
    "            sum(v < 0 for _, v in coef),\n",
    "        ))\n",
    "    inverse = {idx: word for word, idx in vect.vocabulary_.items()}\n",
    "    print()\n",
    "    for idx, c in coef[:limit]:\n",
    "        print('%.3f %s' % (c, inverse[idx]))\n",
    "    print('...')\n",
    "    for idx, c in coef[-limit:]:\n",
    "        print('%.3f %s' % (c, inverse[idx]))\n",
    "    return coef, inverse"
   ]
  },
  {
   "cell_type": "code",
   "execution_count": 15,
   "metadata": {
    "collapsed": false,
    "scrolled": true
   },
   "outputs": [
    {
     "name": "stdout",
     "output_type": "stream",
     "text": [
      "71774 non-zero features, 23243 positive and 48531 negative:\n",
      "\n",
      "688.888 found\n",
      "445.767 page\n",
      "439.469 not\n",
      "355.587 jersey\n",
      "278.512 looking\n",
      "256.676 team\n",
      "254.375 our\n",
      "252.155 sports\n",
      "250.977 404\n",
      "229.840 day\n",
      "219.138 link\n",
      "218.999 privacy\n",
      "218.659 county\n",
      "215.893 list\n",
      "203.594 log\n",
      "203.054 we\n",
      "200.588 news\n",
      "194.744 free\n",
      "192.996 ago\n",
      "192.890 6pm\n",
      "...\n",
      "-629.734 soccer\n",
      "-673.459 zł\n",
      "-681.742 wiktionary\n",
      "-771.850 und\n",
      "-776.014 us\n",
      "-778.663 販売価格\n",
      "-808.476 download\n",
      "-818.750 org0000https\n",
      "-922.508 die\n",
      "-962.915 sie\n",
      "-1076.499 wikipedia\n",
      "-1335.693 der\n",
      "-1421.728 在庫切れのため\n",
      "-1421.821 取り扱いが終了したため\n",
      "-1496.346 out\n",
      "-1647.605 ｔポイント10倍\n",
      "-1691.107 sold\n",
      "-1751.394 数量\n",
      "-1751.802 カゴへ\n",
      "-2846.576 現在ご購入いただけません\n"
     ]
    }
   ],
   "source": [
    "coef, inverse = show_features(clf, vect)"
   ]
  },
  {
   "cell_type": "code",
   "execution_count": 16,
   "metadata": {
    "collapsed": false
   },
   "outputs": [
    {
     "data": {
      "text/plain": [
       "(2075,\n",
       " ['found',\n",
       "  'page',\n",
       "  'not',\n",
       "  'jersey',\n",
       "  'looking',\n",
       "  'team',\n",
       "  'our',\n",
       "  'sports',\n",
       "  '404',\n",
       "  'day'])"
      ]
     },
     "execution_count": 16,
     "metadata": {},
     "output_type": "execute_result"
    }
   ],
   "source": [
    "good_features = [inverse[idx] for idx, weight in coef if weight > 10]\n",
    "len(good_features), good_features[:10]"
   ]
  },
  {
   "cell_type": "code",
   "execution_count": 17,
   "metadata": {
    "collapsed": false,
    "scrolled": true
   },
   "outputs": [
    {
     "name": "stdout",
     "output_type": "stream",
     "text": [
      "404 classified as 200: 65\n",
      "200 classified as 404: 64\n"
     ]
    }
   ],
   "source": [
    "false_neg = (pred_Y != test_Y) & (test_Y == True)\n",
    "false_pos = (pred_Y != test_Y) & (pred_Y == True)\n",
    "print('404 classified as 200: {}'.format(false_neg.sum()))\n",
    "print('200 classified as 404: {}'.format(false_pos.sum()))"
   ]
  },
  {
   "cell_type": "code",
   "execution_count": 18,
   "metadata": {
    "collapsed": false
   },
   "outputs": [],
   "source": [
    "test_urls = np.array([item['url'] for item in data(test_idx)])"
   ]
  },
  {
   "cell_type": "code",
   "execution_count": 19,
   "metadata": {
    "collapsed": false,
    "scrolled": true
   },
   "outputs": [
    {
     "name": "stdout",
     "output_type": "stream",
     "text": [
      "https://teaser-trailer.com:443/movie/cozmplete-unknown/\n",
      "http://www.supergoldenbakes.com/2014/03/coconut-oatmeal-with-blueberry-compote.htmlr\n",
      "http://www.supergoldenbakes.com/2016/06/fully-loadqed-breakfast-frittata-with.html\n",
      "http://news.mynavi.jp/news/2016/09/12/3w45/\n",
      "http://news.mynavi.jp/news/2016/09/12/27v5/\n",
      "http://ascii.jp/elem/000/001/228/1228j057/\n",
      "http://news.mynavi.jp/articles/2016/09/12/snsg/?google_editors_picks=true\n",
      "http://eastcoastmommyblog.blogspot.ca/2014/10/pool-ntoodle-witch-legs.html\n",
      "http://www.behance.net/jewxelryportfolio\n",
      "http://get.adobe.com/flashqplayer/\n",
      "http://get.adobe.com/flashplayeqr/\n",
      "http://www.huffingtonpost.co.uk/entry/toby-young-new-grammar-schools-free-schools-theresa-may-social-mobility_uk_5e7d66bb7e4b0ced6a099837a\n",
      "http://get.adobe.com/flaashplayer/\n",
      "http://get.adobe.com/fzlashplayer/\n",
      "http://get.adobe.com/flashprlayer/\n",
      "https://yho.com/ffsigqnup\n",
      "https://yho.com/ffsigenup\n",
      "http://get.adobe.com/flashplayegr/\n",
      "http://www.purewow.com/entertainment/things-to-stop-paosting-to-social-media-in-fall?utm_campaign=rss&utm_medium=syndication&utm_source=msn\n",
      "http://www.purewow.com/beauty/botox-to-stop-sweatingd?utm_campaign=rss&utm_medium=syndication&utm_source=msn\n",
      "http://get.adobe.com/fliashplayer/\n",
      "http://get.adobe.com/tflashplayer/\n",
      "http://get.adobe.com/flashplayewr/\n",
      "http://get.adobe.com/flashplayeer/\n",
      "https://en.wikiquote.org/wiki/Main_mPage\n",
      "http://get.adobe.com/flyashplayer/\n",
      "http://get.adobe.com/flashiplayer/\n",
      "http://get.adobe.com/flasohplayer/\n",
      "http://get.adobe.com/flpashplayer/\n",
      "https://de.wikiquote.org/wiki/Hauptsyeite\n",
      "http://get.adobe.com/flashplbayer/\n",
      "http://get.adobe.com/flashplayyer/\n",
      "https://it.wikiquote.org/wiki/Henry_David_Tyhoreau\n",
      "https://vi.wikiquote.org/wiki/Trang_Ch%C3%ADnhg\n",
      "https://zh-min-nan.wikiquote.org/wiki/Th%C3%A2mu-ia%CC%8Dh\n",
      "http://get.adobe.com/flashcplayer/\n",
      "https://ja.wikiquote.org/wiki/%E3%83%A1%E3%82%A4%E3%83%B3%E3%83%9A%E3%83%BC%E3%82%B8v\n",
      "http://roma.fanpage.it/atac-autwisti-invalidi-guariscono-miracolosamente-dopo-le-visite-mediche/\n",
      "http://www.kdce.or.kr/user/ctf/clmsCtfTransqList.do?NmberBusiRegNo=1148683380&websiteName=music.naver.com\n",
      "http://z.jd.com/project/details/55285.html%20\n",
      "http://hzdaily.hangzhou.com.cn/dskbn/\n",
      "http://www.mpss.go.kr/main/main.do\n",
      "http://www.mpss.go.kr/home/open/sajun/\n",
      "http://www.mpss.go.kr/home/open/siajun/\n",
      "http://www.mpss.go.kr/home/minwon/apply/safepeople/\n",
      "http://www.mpss.go.kr/home/policy/policy/policyNation/\n",
      "http://www.mpss.go.kr/home/news/disasterInfo/drSms/\n",
      "http://www.mpss.go.kr/home/news/disasterInfo/dreSms/\n",
      "http://www.mpss.go.kr/home/safetys/disasterTypeInfo/disasterTypeInfo1/0001/\n",
      "http://www.mpss.go.kr/home/policy/workReport/infoGraphic2016_1/\n",
      "http://www.mpss.go.kr/home/mpssIntro/orgIntro/history/\n",
      "http://www.vop.co.kr/A000i01067805.html\n",
      "http://www.atlasobscura.com/places/german-food-additivesj-museum\n",
      "http://www.worldtimezone.com/time-canada1i2.html\n",
      "http://www.cmo.com/interviews/articles/2016/6/30/stubhub-cmo-on-her-companys-newfound-devotion-to-emotion.fhtml\n",
      "https://www.adobe.com/products/jindesign.html?promoid=KLXLU\n",
      "https://townwork.net/tokyyo/?vos=ntwninda0004\n",
      "https://townwork.net/cbhiba/?vos=ntwninda0007\n",
      "https://townwork.net/ukansai/?vos=ntwninda0008\n",
      "https://townwork.net/hyogpo/?vos=ntwninda0010\n",
      "https://townwork.net/rchugoku/?vos=ntwninda0020\n",
      "https://townwork.net/kyuuslhu/?vos=ntwninda0024\n",
      "https://townwork.net/kumamobto/?vos=ntwninda0026\n",
      "https://townwork.net/sshort/?vos=ntwninda0029\n",
      "http://form.mikecrm.com/f.phsp?t=zQl92P\n"
     ]
    }
   ],
   "source": [
    "for url in test_urls[false_neg]:\n",
    "    print(url)"
   ]
  },
  {
   "cell_type": "code",
   "execution_count": 20,
   "metadata": {
    "collapsed": false
   },
   "outputs": [
    {
     "name": "stdout",
     "output_type": "stream",
     "text": [
      "https://www.microsoft.com/en-us/store/apps/windows\n",
      "https://www.microsoft.com/en-us/store/top-free/apps/pc\n",
      "https://www.microsoft.com/en-us/store/apps/windows-phone\n",
      "http://www.xiami.com/\n",
      "http://djbox.dj129.com/index/d2plsbg93.html\n",
      "http://djbox.dj129.com/index/d2lsbg93.html\n",
      "http://www.jn.pt/pessoas/interior/morreu-alexis-arquette-atriz-transexual-do-pulp-fiction-5384643.html\n",
      "http://pin-fitness.com/get-know-chakras/\n",
      "http://www.europe1.fr/international/en-chine-le-pont-le-plus-haut-du-monde-sera-bientot-acheve-2844394\n",
      "http://www.lemonde.fr/economie/article/2016/09/12/fin-de-partie-pour-areva-dans-l-eolien-en-mer_4996283_3234.html\n",
      "http://www.lavoixdunord.fr/france-monde/curiosity-nous-rapporte-de-nouvelles-photos-stupefiantes-ia0b0n3726097\n",
      "http://www.lavoixdunord.fr/region/cappelle-la-grande-une-secretaire-de-mairie-fait-un-ia17b47582n3723487\n",
      "https://propellerads.com/it/\n",
      "https://v2.propellerads.com/\n",
      "http://vmestoputina.ru/about/\n",
      "http://www.vdfly.com/\n",
      "http://www.match.com/errors/customError.aspx?aspxerrorpath=/search/seawrch.aspx\n",
      "https://www4.match.com/login/?trackingid=530290\n",
      "http://www.match.com/cp/index/domestic/49977/nl.html\n",
      "http://datingtips.match.com/\n",
      "http://www.match.com/cp/social/r/officialblog.html?lid=4\n",
      "http://www.match.com/cp/social/r/facebook.html?lid=4\n",
      "http://www.match.com/errors/customError.aspx?aspxerrorpath=/login/loigin.aspx\n",
      "http://www.match.com/cp/social/r/instagram.html?lid=4\n",
      "http://www.match.com/cp/social/r/twitter.html?lid=4\n",
      "http://www.match.com/cp/social/r/pinterest.html?lid=4\n",
      "http://www.match.com/errors/customError.aspx?aspxerrorpath=/qsearch/qsearcfhdl.aspx\n",
      "http://www.match.com/errors/customError.aspx?aspxerrorpath=/help/abdoutus.aspx\n",
      "http://www.match.com/errors/customError.aspx?aspxerrorpath=/careers/index.aspxi\n",
      "http://www.match.com/errors/customError.aspx?aspxerrorpath=/magazine/index.aspxu\n",
      "http://www.match.com/errors/customError.aspx?aspxerrorpath=/help/help.ayspx\n",
      "http://www.match.com/errors/customError.aspx?aspxerrorpath=/help/sitemapy.aspx\n",
      "http://www.match.com/errors/customError.aspx?aspxerrorpath=/international/jindex.aspx\n",
      "https://www4.match.com/login/\n",
      "http://www.match.com/errors/customError.aspx?aspxerrorpath=/mobile/index.aspfx\n",
      "http://www.match.com/errors/customError.aspx?aspxerrorpath=/online-dating/asian/singlesz.html\n",
      "http://www.match.com/errors/customError.aspx?aspxerrorpath=/online-dating/seniors/singlesn.html\n",
      "https://www4.match.com/help/mobile/?lid=686\n",
      "https://www4.match.com/help/mobile/\n",
      "http://www.lyssfjayy.com/\n",
      "http://www.panorama.it/news/politica/matteo-renzi-catania-la-scuola-e-per-ragazzi-non-per-professori/\n",
      "http://www.ilgiornale.it/news/economia/morelli-arrivo-mps-entro-venerd-1305490.html\n",
      "http://www.ilgiornale.it/news/cronache/bergamo-alluscita-delle-medie-ci-devono-essere-i-genitori-1305604.html\n",
      "http://www.ccdailynews.com/\n",
      "http://www.kyongbuk.co.kr/?act=welcome&mod=company\n",
      "http://www.worldtimezone.com/time-canada12.html\n",
      "http://www.dba.dk/\n",
      "http://minigame.aeriagames.jp/games/top/ae-gmgs-115\n",
      "http://minigame.aeriagames.jp/games/top/ae-soft-215\n",
      "http://minigame.aeriagames.jp/games/top/ae-soft-213\n",
      "http://minigame.aeriagames.jp/games/top/ae-soft-214\n",
      "http://minigame.aeriagames.jp/games/top/ae-soft-211\n",
      "http://minigame.aeriagames.jp/games/top/ae-tpgs-006\n",
      "http://minigame.aeriagames.jp/games/top/ae-tpgs-001\n",
      "http://astro.unl.edu/naap/habitablezones/animations/stellarHabitableZone.html\n",
      "http://redditenhancementsuite.com/\n",
      "http://pages.ebay.ie/messages/page_not_responding.html\n",
      "https://channel.jd.com/beauty.html\n",
      "https://red.jd.com/\n",
      "http://www.seibupros.jp/\n",
      "http://www.irc-tire.com/ja/bc/\n",
      "http://tv.cztv.com/\n",
      "http://www.etrust.org/cert/878767.html\n",
      "https://www.audible.co.jp/mt/cookieabndinternet?moduleId=201654420\n"
     ]
    }
   ],
   "source": [
    "for url in test_urls[false_pos]:\n",
    "    print(url)"
   ]
  }
 ],
 "metadata": {
  "kernelspec": {
   "display_name": "Python 3",
   "language": "python",
   "name": "python3"
  },
  "language_info": {
   "codemirror_mode": {
    "name": "ipython",
    "version": 3
   },
   "file_extension": ".py",
   "mimetype": "text/x-python",
   "name": "python",
   "nbconvert_exporter": "python",
   "pygments_lexer": "ipython3",
   "version": "3.5.1+"
  }
 },
 "nbformat": 4,
 "nbformat_minor": 1
}
