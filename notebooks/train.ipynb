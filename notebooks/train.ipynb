{
 "cells": [
  {
   "cell_type": "code",
   "execution_count": 25,
   "metadata": {
    "collapsed": false
   },
   "outputs": [
    {
     "data": {
      "text/plain": [
       "dict_keys(['url', 'blocks', 'status', 'title', 'idx', 'text'])"
      ]
     },
     "execution_count": 25,
     "metadata": {},
     "output_type": "execute_result"
    }
   ],
   "source": [
    "import gzip\n",
    "import ujson as json\n",
    "\n",
    "def reader(indices=None):\n",
    "    if indices is not None:\n",
    "        indices = set(indices)\n",
    "    with gzip.open('../text_items.jl.gz', 'rt') as f:\n",
    "        for idx, line in enumerate(f):\n",
    "            if indices is None or idx in indices:\n",
    "                item = json.loads(line)\n",
    "                item['idx'] = idx\n",
    "                if item['status'] in {200, 404}:\n",
    "                    yield item\n",
    "\n",
    "item = next(reader())\n",
    "item.keys()"
   ]
  },
  {
   "cell_type": "code",
   "execution_count": 2,
   "metadata": {
    "collapsed": true
   },
   "outputs": [],
   "source": [
    "import tldextract\n",
    "\n",
    "def get_domain(url):\n",
    "    return tldextract.extract(url).registered_domain.lower()"
   ]
  },
  {
   "cell_type": "code",
   "execution_count": 19,
   "metadata": {
    "collapsed": false
   },
   "outputs": [],
   "source": [
    "import numpy as np\n",
    "import itertools\n",
    "import random\n",
    "from collections import Counter\n",
    "\n",
    "# data = lambda: itertools.islice(data(), 3000)\n",
    "\n",
    "domain_counts = Counter(get_domain(item['url']) for item in reader())\n",
    "# TODO - exclude by count, not a fixed number\n",
    "exclude_most_common = 5\n",
    "most_common_domains = {domain for domain, _ in domain_counts.most_common(exclude_most_common)}\n",
    "data = lambda *args, **kwargs: (item for item in reader(*args, **kwargs)\n",
    "                                if get_domain(item['url']) not in most_common_domains)"
   ]
  },
  {
   "cell_type": "code",
   "execution_count": 24,
   "metadata": {
    "collapsed": false
   },
   "outputs": [],
   "source": [
    "def get_xy(items, only_ys=False):\n",
    "    xs = []\n",
    "    ys = []\n",
    "    for item in items:\n",
    "        if not only_ys:\n",
    "            xs.append(item['text'])\n",
    "        ys.append(item['status'] == 404)\n",
    "    return np.array(ys) if only_ys else (np.array(xs), np.array(ys))"
   ]
  },
  {
   "cell_type": "code",
   "execution_count": 26,
   "metadata": {
    "collapsed": false
   },
   "outputs": [],
   "source": [
    "from sklearn.cross_validation import LabelKFold\n",
    "\n",
    "urls = [(item['idx'], item['url']) for item in data()]\n",
    "def to_data_idx(indices):\n",
    "    indices = set(indices)\n",
    "    result = [data_idx for idx, (data_idx, _) in enumerate(urls) if idx in indices]\n",
    "    assert len(result) == len(indices)\n",
    "    return result\n",
    "\n",
    "lkf = LabelKFold([get_domain(url) for _, url in urls], n_folds=10)\n",
    "_train_idx, _test_idx = next(iter(lkf))\n",
    "train_idx, test_idx = to_data_idx(_train_idx), to_data_idx(_test_idx)\n",
    "\n",
    "test_X, test_Y = get_xy(data(test_idx))\n",
    "assert len(test_X) == len(test_idx) == len(_test_idx)"
   ]
  },
  {
   "cell_type": "code",
   "execution_count": 27,
   "metadata": {
    "collapsed": false
   },
   "outputs": [
    {
     "name": "stdout",
     "output_type": "stream",
     "text": [
      "Train class weight: [ 0.59094584  3.24888889]\n",
      "Test class weight:  [ 0.58548009  3.42465753]\n"
     ]
    }
   ],
   "source": [
    "from sklearn.utils.class_weight import compute_class_weight\n",
    "\n",
    "classes = [False, True]\n",
    "print('Train class weight:', compute_class_weight('balanced', classes, test_Y))\n",
    "np.random.shuffle(train_idx)\n",
    "class_weight = compute_class_weight('balanced', classes, get_xy(data(train_idx[:1000]), only_ys=True))\n",
    "print('Test class weight: ', class_weight)\n",
    "class_weight = dict(zip(classes, class_weight))"
   ]
  },
  {
   "cell_type": "code",
   "execution_count": 28,
   "metadata": {
    "collapsed": false
   },
   "outputs": [
    {
     "data": {
      "text/plain": [
       "CountVectorizer(analyzer='word', binary=False, decode_error='strict',\n",
       "        dtype=<class 'numpy.int64'>, encoding='utf-8', input='content',\n",
       "        lowercase=True, max_df=1.0, max_features=None, min_df=1,\n",
       "        ngram_range=(1, 1), preprocessor=None, stop_words=None,\n",
       "        strip_accents=None, token_pattern='(?u)\\\\b\\\\w\\\\w+\\\\b',\n",
       "        tokenizer=None, vocabulary=None)"
      ]
     },
     "execution_count": 28,
     "metadata": {},
     "output_type": "execute_result"
    }
   ],
   "source": [
    "from sklearn.feature_extraction.text import CountVectorizer\n",
    "\n",
    "#vect2 = CountVectorizer(ngram_range=(1, 2), vocabulary={w for f in good_features for w in f.split()})\n",
    "vect = CountVectorizer(ngram_range=(1, 1))\n",
    "vect.fit(item['text'] for item in data(train_idx))"
   ]
  },
  {
   "cell_type": "code",
   "execution_count": 16,
   "metadata": {
    "collapsed": true
   },
   "outputs": [],
   "source": [
    "def batches(lst, size):\n",
    "    for idx in range(0, len(lst), size):\n",
    "        yield lst[idx:idx + size]"
   ]
  },
  {
   "cell_type": "code",
   "execution_count": 31,
   "metadata": {
    "collapsed": false
   },
   "outputs": [
    {
     "name": "stdout",
     "output_type": "stream",
     "text": [
      "\n",
      "Epoch 1 ..............\n",
      "Epoch 2 .............."
     ]
    }
   ],
   "source": [
    "from sklearn.linear_model import SGDClassifier\n",
    "\n",
    "clf = SGDClassifier(loss='log', class_weight=None, penalty='l1')\n",
    "\n",
    "n_epochs = 2\n",
    "batch_size = 1000\n",
    "for epoch in range(n_epochs):\n",
    "    print('\\nEpoch {} '.format(epoch + 1), end='', flush=True)\n",
    "    np.random.shuffle(train_idx)\n",
    "    for indices in batches(train_idx, batch_size):\n",
    "        print('.', end='', flush=True)\n",
    "        _x, _y = get_xy(data(indices))\n",
    "        clf.partial_fit(vect.transform(_x), _y, classes=classes)"
   ]
  },
  {
   "cell_type": "code",
   "execution_count": 32,
   "metadata": {
    "collapsed": false
   },
   "outputs": [
    {
     "name": "stdout",
     "output_type": "stream",
     "text": [
      "             precision    recall  f1-score   support\n",
      "\n",
      "        200       0.94      0.97      0.95      1237\n",
      "        404       0.80      0.64      0.71       225\n",
      "\n",
      "avg / total       0.92      0.92      0.92      1462\n",
      "\n"
     ]
    }
   ],
   "source": [
    "from sklearn import metrics\n",
    "pred_Y = clf.predict(vect.transform(test_X))\n",
    "print(metrics.classification_report(test_Y, pred_Y, target_names=['200', '404']))"
   ]
  },
  {
   "cell_type": "code",
   "execution_count": 33,
   "metadata": {
    "collapsed": false
   },
   "outputs": [
    {
     "name": "stdout",
     "output_type": "stream",
     "text": [
      "ROC AUC: 0.823\n"
     ]
    },
    {
     "name": "stderr",
     "output_type": "stream",
     "text": [
      "/Users/kostia/shub/memex/soft404/venv/lib/python3.5/site-packages/sklearn/linear_model/base.py:284: RuntimeWarning: overflow encountered in exp\n",
      "  np.exp(prob, prob)\n"
     ]
    }
   ],
   "source": [
    "print('ROC AUC: {:.3f}'.format(metrics.roc_auc_score(test_Y, clf.predict_proba(vect.transform(test_X))[:,1])))"
   ]
  },
  {
   "cell_type": "code",
   "execution_count": 61,
   "metadata": {
    "collapsed": true
   },
   "outputs": [],
   "source": [
    "def show_features(clf, vect, limit=20):\n",
    "    coef = list(enumerate(clf.coef_[0]))\n",
    "    coef.sort(key=lambda x: x[1], reverse=True)\n",
    "    print('{} non-zero features, {} positive and {} negative:'.format(\n",
    "            sum(abs(v) > 0 for _, v in coef),\n",
    "            sum(v > 0 for _, v in coef),\n",
    "            sum(v < 0 for _, v in coef),\n",
    "        ))\n",
    "    inverse = {idx: word for word, idx in vect.vocabulary_.items()}\n",
    "    print()\n",
    "    for idx, c in coef[:limit]:\n",
    "        print('%.3f %s' % (c, inverse[idx]))\n",
    "    print('...')\n",
    "    for idx, c in coef[-limit:]:\n",
    "        print('%.3f %s' % (c, inverse[idx]))\n",
    "    return coef, inverse"
   ]
  },
  {
   "cell_type": "code",
   "execution_count": 88,
   "metadata": {
    "collapsed": false,
    "scrolled": true
   },
   "outputs": [
    {
     "name": "stdout",
     "output_type": "stream",
     "text": [
      "71406 non-zero features, 22847 positive and 48559 negative:\n",
      "\n",
      "636.562 found\n",
      "602.832 not\n",
      "452.300 page\n",
      "366.914 nachrichten\n",
      "360.505 il\n",
      "358.560 travel\n",
      "352.364 404\n",
      "280.177 adobe\n",
      "258.355 telebörse\n",
      "249.072 jours\n",
      "244.326 min\n",
      "233.400 looking\n",
      "215.657 find\n",
      "215.395 mehr\n",
      "202.451 pop\n",
      "187.943 url\n",
      "185.802 von\n",
      "185.121 auf\n",
      "185.099 contact\n",
      "180.163 account\n",
      "...\n",
      "-341.166 01日\n",
      "-345.654 00\n",
      "-347.092 予約購入済み\n",
      "-348.039 vote\n",
      "-349.115 chicago\n",
      "-368.331 ios\n",
      "-370.365 pinterest\n",
      "-377.602 as\n",
      "-395.452 aug\n",
      "-408.616 000원\n",
      "-414.562 立即下载\n",
      "-434.544 idea\n",
      "-442.318 北京\n",
      "-448.117 tibet\n",
      "-644.272 english\n",
      "-726.400 帖数\n",
      "-726.612 最后发表\n",
      "-743.136 主题\n",
      "-1059.492 yahoo\n",
      "-3664.856 ideas\n"
     ]
    }
   ],
   "source": [
    "coef, inverse = show_features(clf, vect)"
   ]
  },
  {
   "cell_type": "code",
   "execution_count": 89,
   "metadata": {
    "collapsed": false
   },
   "outputs": [
    {
     "data": {
      "text/plain": [
       "(2796,\n",
       " ['found',\n",
       "  'not',\n",
       "  'page',\n",
       "  'nachrichten',\n",
       "  'il',\n",
       "  'travel',\n",
       "  '404',\n",
       "  'adobe',\n",
       "  'telebörse',\n",
       "  'jours'])"
      ]
     },
     "execution_count": 89,
     "metadata": {},
     "output_type": "execute_result"
    }
   ],
   "source": [
    "good_features = [inverse[idx] for idx, weight in coef if weight > 10]\n",
    "len(good_features), good_features[:10]"
   ]
  },
  {
   "cell_type": "code",
   "execution_count": 34,
   "metadata": {
    "collapsed": false,
    "scrolled": true
   },
   "outputs": [
    {
     "name": "stdout",
     "output_type": "stream",
     "text": [
      "404 classified as 200: 81\n",
      "200 classified as 404: 37\n"
     ]
    }
   ],
   "source": [
    "false_neg = (pred_Y != test_Y) & (test_Y == True)\n",
    "false_pos = (pred_Y != test_Y) & (pred_Y == True)\n",
    "print('404 classified as 200: {}'.format(false_neg.sum()))\n",
    "print('200 classified as 404: {}'.format(false_pos.sum()))"
   ]
  },
  {
   "cell_type": "code",
   "execution_count": 35,
   "metadata": {
    "collapsed": false
   },
   "outputs": [],
   "source": [
    "test_urls = np.array([item['url'] for item in data(test_idx)])"
   ]
  },
  {
   "cell_type": "code",
   "execution_count": 40,
   "metadata": {
    "collapsed": false,
    "scrolled": true
   },
   "outputs": [
    {
     "name": "stdout",
     "output_type": "stream",
     "text": [
      "https://www.youtube.com/channel/UCOpNcN46UbXVtpKMrmrU4Abg\n",
      "https://www.youtube.com/channel/UC7DWJmY_p7qLzIy2-V7m7U5Q\n",
      "https://www.youtube.com/channel/UCYfdidRxbB8Qhf0Nx7ikoOYw\n",
      "https://www.youtube.com/channel/UC_8PAD0Qmi6_gpe77S1Atsgg\n",
      "http://playexam.blog.sohu.com/3u22658591.html\n",
      "http://guangyuanma.blog.sohu.com/3b22674921.html\n",
      "http://zglbp.blog.sohu.com/3l22672349.html\n",
      "http://xiaotao2006.blog.sohu.com/3226n95106.html\n",
      "http://qiulin2011.blog.sohu.com/32267317o8.html\n",
      "http://vm.ru/news/2016/09/02/v-rezultate-stolknoveniya-inomarok-na-kutuzovskom-prospekte-pogib-odin-chelovek-331e717.html\n",
      "https://www.vedomosti.ru/politics/articles/2016/09/02/655492-levada-tsentr-sotsiologiydu\n",
      "http://metrocosm.com/tangled-web-allfiances/\n",
      "http://www.cnet.com/products/sony-mdr-1000x/previewe/\n",
      "http://natalie.mu/music/news/200j345\n",
      "http://www.walesonline.co.uk/news/wales-news/man-launches-huntk-long-lost-11826651\n",
      "http://g1.globo.com/jornal-nacional/noticia/2016/09/stf-recebe-acoes-contra-manutencao-dos-direitos-politicuos-de-dilma.html\n",
      "http://g1.globo.com/jornal-da-globo/noticia/2016/09/defesa-de-dilma-pede-para-suspender-o-impeazchment.html\n",
      "http://g1.globo.com/politica/noticia/2016/09/temer-diz-que-direitos-dde-dilma-agora-sao-uma-questao-juridica-e-nao-politica.html\n",
      "http://g1.globo.com/mundo/noticia/2016/09/por-que-milhares-de-venezuelanos-saiaram-as-ruas-de-caracas-nesta-quinta-feira.html\n",
      "http://globoesporte.globo.com/atletismo/noticia/2016/09/frances-e-hepta-mas-concorda-com-thiago-oljimpiada-e-mais-importante.html\n",
      "http://g1.globo.com/rs/rio-grande-do-sul/noticia/2016/09/governo-federals-anuncia-r-535-milhoes-para-santas-casas-no-rs.html\n",
      "http://www.csaf.org.cn/cn/index.html\n",
      "http://www.le.com/ptv/pplay/75082\n",
      "http://www.le.com/ptv/pplay/74483\n",
      "http://www.le.com/ptv/pplay/31858.html\n",
      "http://www.le.com/ptv/pplay/74483k\n",
      "http://www.le.com/ptv/pplay/y75082\n",
      "http://www.le.com/ptv/pplay/75578\n",
      "http://www.le.com/ptv/pplay/77646\n",
      "http://www.le.com/ptv/pplay/77646p\n",
      "http://www.le.com/ptv/pplay/78655\n",
      "http://www.le.com/ptv/pplay/81048/1.html\n",
      "http://www.le.com/ptv/pplay/76085\n",
      "http://www.le.com/ptv/pplay/78048\n",
      "http://www.le.com/ptv/pplay/7804i8\n",
      "http://www.le.com/ptv/pplay/79174\n",
      "http://www.le.com/ptv/pplay/73948\n",
      "http://www.le.com/ptv/pplay/760h85\n",
      "http://www.le.com/ptv/pplay/79288\n",
      "http://vm.ru/news/2016/09/02/odin-chelovek-pogib-pri-pozhare-v-zhilom-dome-na-vostoke-moskvi-33169p3.html\n",
      "http://www.iqiyi.com/error.html\n",
      "http://www.iqiyi.com/dongmahn/\n",
      "http://english.gov.cn/state_council/ministries/2016/08/31/content_281475429819139.bhtm\n",
      "http://www.beijing-marathon.com/cn/indhex.html\n",
      "https://es.wiktionary.org/wiki/Wikcionaario:Portada\n",
      "http://www.ftc.go.kr/info/bizinfo/communicationVibew.jsp?apv_perm_no=2006378010630200692&area1=&area2=&currpage=1&enddate=&searchKey=04&searchVal=2208162517&stdate=\n",
      "http://www.lotteimall.com/coop/affqilGate.lotte?chl_dtl_no=2540912&chl_no=141170\n",
      "http://www.southcn.com/xopinion/\n",
      "http://www.huaguofeng.org/cnn/\n",
      "http://www.sdxjpc.com/maicn/\n",
      "http://www.hsep.com/Product/Lisrt.aspx\n",
      "http://www.hsep.com/introduce/Greetingsk.aspx\n",
      "http://www.lwdf.cn/wwwroot/dfzk/\n",
      "http://www.hatarako.net/kantol/?adpcnt=1PP_WhVs&media=indival&utm_campaign=pctop&utm_medium=indival&utm_source=yahoo\n",
      "http://www.hatarako.net/kansnai/?adpcnt=1PP_WhW1&media=indival&utm_campaign=pctop&utm_medium=indival&utm_source=yahoo\n",
      "http://www.hatarako.net/tokdai/?adpcnt=1PP_WhW4&media=indival&utm_campaign=pctop&utm_medium=indival&utm_source=yahoo\n",
      "http://www.hatarako.net/koshiznetsu/?adpcnt=1PP_WhWG&media=indival&utm_campaign=pctop&utm_medium=indival&utm_source=yahoo\n",
      "http://www.hatarako.net/vjimu/?adpcnt=1PP_WhWJ&media=indival&utm_campaign=pctop&utm_medium=indival&utm_source=yahoo\n",
      "http://www.hatarako.net/rhambai/?adpcnt=1PP_WhWM&media=indival&utm_campaign=pctop&utm_medium=indival&utm_source=yahoo\n",
      "http://www.hatarako.net/contents/tankiwsork/?adpcnt=1PP_WkbU&media=indival&utm_campaign=pctop&utm_medium=indival&utm_source=yahoo\n",
      "http://english.cctv.com/liver\n",
      "http://tv.cctv.com/cctvjnews/\n",
      "http://english.cctv.com/nesws\n",
      "http://english.cctv.com/news/cultpure\n",
      "http://english.cctv.com/live/cctv9_docu/indexf.shtml\n",
      "http://english.cctv.com/video/world/inndex.shtml\n",
      "http://english.cctv.com/live/index.yshtml\n",
      "http://english.cctv.com/2016/09/02/cVIDElQHIUAKnNyDA72Zo2QFU160902.shtml\n",
      "http://english.cctv.com/2016/09/02/ARTIY35aAGuk8rCmZjWA4ET116090s2.shtml\n",
      "http://english.cctv.com/2016/09/02/VIDE60w0brY2eUwb03zDsarQ160902.swhtml\n",
      "http://english.cctv.com/2016/09/02/VIDEwgenYnpsDCJRzIJuotPF160r902.shtml\n",
      "http://english.cctv.com/2016/09/02/VIDEretlWami3n3XudqcV5qIl160902.shtml\n",
      "http://english.cctv.com/2016/09/02/qVIDEZCm0YWRZAkMMpUnhBC9X160902.shtml\n",
      "http://english.cctv.com/2016/09/02/VIDEJgkr1bU26JY4vQp50ixle160902.shtml\n",
      "http://english.cctv.com/2016/09/02/VIDEfq4vKsplFWBM0D8CDBfyw160902.shtml\n",
      "http://english.cctv.com/2016/09/02/VIDEQTO4zxAcj6n4ssGLYfjqz160902.shtml\n",
      "http://english.cctv.com/2016/09/02/VIDERENSpVIsD3Vxouozwfyx160902.skhtml\n",
      "http://vm.ru/news/2016/09/01/poleti-nayavu-vstrechaem-artistov-so-vsego-sveta-331672.htuml\n",
      "http://vm.ru/news/2016/09/01/rabota-kart-visa-rubezhom-vosstanovlena-posle-tehnicheskogo-sboya-331670.khtml\n",
      "http://theberry.com/2014/10/05/dont-worry-bde-happy-15-photos-45/?utm_campaign=theBERRY_weekly_v2&utm_medium=email&utm_source=Sailthru&utm_term=theBERRY+Weekly\n",
      "http://diethood.com/coconut-milk-thyme-brakised-chicken/\n"
     ]
    }
   ],
   "source": [
    "for url in test_urls[false_neg]:\n",
    "    print(url)"
   ]
  },
  {
   "cell_type": "code",
   "execution_count": 41,
   "metadata": {
    "collapsed": false
   },
   "outputs": [
    {
     "name": "stdout",
     "output_type": "stream",
     "text": [
      "https://www.youtube.com/channel/UCYfdidRxbB8Qhf0Nx7ioOYw\n",
      "https://www.youtube.com/channel/UC8iNz9uwDGfomRnnKKbOhOQ\n",
      "http://m.so.com/app\n",
      "http://video.so.com/app\n",
      "http://www.so.com/help/lipei.html\n",
      "http://finance.ifeng.com/a/20160816/14755028_0.shtml\n",
      "http://finance.ifeng.com/a/20160816/14755028_0r.shtml\n",
      "http://www.tencent.com/zh-cn/at/pr/2014.shtml\n",
      "http://funklet.com/\n",
      "http://www.oricon.co.jp/news/2077789/full/\n",
      "http://fc2-rentalserver.com/\n",
      "http://textad.net/\n",
      "http://g1.globo.com/mundo/noticia/2016/09/explosao-em-plataforma-da-spacex-destruiu-foguete-e-satelite-israelense.html\n",
      "http://www.purebreak.com.br/noticias/serie-stranger-things-eleven-millie-bobby-brown-pode-nao-voltar-na-2-temporada/40803\n",
      "http://minimemes.net/\n",
      "http://www.ktva.com/category/contests/\n",
      "http://www.tworlddirect.com/handler/Common-PartnerSite?PARTNERID=tshop_partner_02&url=%2Fhandler%2FIndex-Start%3FfSiteCd%3D1111\n",
      "http://www.ccifc.org/about-us/\n",
      "http://www.ccifc.org/chambers-activities/\n",
      "http://www.ccifc.org/membership/\n",
      "http://www.ccifc.org/advertise-with-us/\n",
      "http://www.ccifc.org/publications/\n",
      "http://english.gov.cn/archive/statecouncilgazette/\n",
      "http://www.chinesebusinessclub.fr/fr/\n",
      "http://www.chinausfocus.com/infographic/\n",
      "http://www.chinausfocus.com/in-focus/\n",
      "http://www.chinausfocus.com/reports/\n",
      "http://www.chinausfocus.com/author/darcie-draudt/\n",
      "http://www.chinausfocus.com/author/liu-junhong-fellow-researcher-with-the-chinese-ins/\n",
      "http://read.bookan.com.cn/zgw/\n",
      "https://amcham.eventbank.cn/register/account/\n",
      "http://w.qhimg.com/images/v2/wan_edit/zt/faq/zt2/\n",
      "http://music.so.com/\n",
      "https://mail.aliyun.com/alimail/auth/lzogin?reurl=%2Falimail%2F\n",
      "http://skreened.com/404/product-not-found/short-i-prefer-gravitationally-challenged-hottie\n",
      "http://skreened.com/404/product-not-found/short-i-prefer-gravitationally-challengedw-hottie\n",
      "http://video.so.com/app?autosetup=true\n"
     ]
    }
   ],
   "source": [
    "for url in test_urls[false_pos]:\n",
    "    print(url)"
   ]
  }
 ],
 "metadata": {
  "kernelspec": {
   "display_name": "Python 3",
   "language": "python",
   "name": "python3"
  },
  "language_info": {
   "codemirror_mode": {
    "name": "ipython",
    "version": 3
   },
   "file_extension": ".py",
   "mimetype": "text/x-python",
   "name": "python",
   "nbconvert_exporter": "python",
   "pygments_lexer": "ipython3",
   "version": "3.5.1"
  }
 },
 "nbformat": 4,
 "nbformat_minor": 1
}
