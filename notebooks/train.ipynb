{
 "cells": [
  {
   "cell_type": "code",
   "execution_count": 33,
   "metadata": {
    "collapsed": false
   },
   "outputs": [
    {
     "data": {
      "text/plain": [
       "dict_keys(['blocks', 'idx', 'status', 'url', 'title', 'text'])"
      ]
     },
     "execution_count": 33,
     "metadata": {},
     "output_type": "execute_result"
    }
   ],
   "source": [
    "import struct\n",
    "import pickle\n",
    "        \n",
    "def reader(indices=None):\n",
    "    if indices is not None:\n",
    "        indices = set(indices)\n",
    "    with open('../text_items.pkls', 'rb') as f:\n",
    "        idx = 0\n",
    "        while True:\n",
    "            size_data = f.read(4)\n",
    "            if not size_data:\n",
    "                break\n",
    "            size, = struct.unpack('i', size_data)\n",
    "            if indices is None or idx in indices:\n",
    "                item = pickle.loads(f.read(size))\n",
    "                item['idx'] = idx\n",
    "                if item['status'] in {200, 404}:\n",
    "                    yield item\n",
    "            else:\n",
    "                f.seek(f.tell() + size)\n",
    "            idx += 1\n",
    "\n",
    "item = next(reader())\n",
    "item.keys()"
   ]
  },
  {
   "cell_type": "code",
   "execution_count": 3,
   "metadata": {
    "collapsed": true
   },
   "outputs": [],
   "source": [
    "import tldextract\n",
    "\n",
    "def get_domain(url):\n",
    "    return tldextract.extract(url).registered_domain.lower()"
   ]
  },
  {
   "cell_type": "code",
   "execution_count": 36,
   "metadata": {
    "collapsed": false
   },
   "outputs": [
    {
     "name": "stdout",
     "output_type": "stream",
     "text": [
      "[('msn.com', 2382), ('microsoftstore.com', 1080), ('jia360.com', 500), ('nuomi.com', 387), ('tradedoubler.com', 362)]\n"
     ]
    }
   ],
   "source": [
    "import numpy as np\n",
    "import itertools\n",
    "import random\n",
    "from collections import Counter\n",
    "\n",
    "# data = lambda: itertools.islice(data(), 3000)\n",
    "\n",
    "domain_counts = Counter(get_domain(item['url']) for item in reader())\n",
    "# TODO - exclude by count, not a fixed number\n",
    "print(domain_counts.most_common(5))\n",
    "exclude_most_common = 5\n",
    "most_common_domains = {domain for domain, _ in domain_counts.most_common(exclude_most_common)}\n",
    "data = lambda *args, **kwargs: (item for item in reader(*args, **kwargs)\n",
    "                                if get_domain(item['url']) not in most_common_domains)"
   ]
  },
  {
   "cell_type": "code",
   "execution_count": 19,
   "metadata": {
    "collapsed": true
   },
   "outputs": [],
   "source": [
    "def get_xy(items, only_ys=False):\n",
    "    xs = []\n",
    "    ys = []\n",
    "    for item in items:\n",
    "        if not only_ys:\n",
    "            xs.append(item['text'])\n",
    "        ys.append(item['status'] == 404)\n",
    "    ys = np.array(ys)\n",
    "    return ys if only_ys else (xs, ys)"
   ]
  },
  {
   "cell_type": "code",
   "execution_count": 39,
   "metadata": {
    "collapsed": false
   },
   "outputs": [],
   "source": [
    "from sklearn.cross_validation import LabelKFold\n",
    "\n",
    "urls = [(item['idx'], item['url']) for item in data()]\n",
    "def to_data_idx(indices):\n",
    "    indices = set(indices)\n",
    "    result = [data_idx for idx, (data_idx, _) in enumerate(urls) if idx in indices]\n",
    "    assert len(result) == len(indices)\n",
    "    return result\n",
    "\n",
    "lkf = LabelKFold([get_domain(url) for _, url in urls], n_folds=10)\n",
    "_train_idx, _test_idx = next(iter(lkf))\n",
    "train_idx, test_idx = to_data_idx(_train_idx), to_data_idx(_test_idx)\n",
    "test_X, test_Y = get_xy(data(test_idx))"
   ]
  },
  {
   "cell_type": "code",
   "execution_count": 41,
   "metadata": {
    "collapsed": false
   },
   "outputs": [
    {
     "name": "stdout",
     "output_type": "stream",
     "text": [
      "Test class weight: [ 0.57600636  3.78919861]\n",
      "Train class weight:  [ 0.58479532  3.44827586]\n"
     ]
    }
   ],
   "source": [
    "from sklearn.utils.class_weight import compute_class_weight\n",
    "\n",
    "classes = [False, True]\n",
    "print('Test class weight:', compute_class_weight('balanced', classes, test_Y))\n",
    "np.random.shuffle(train_idx)\n",
    "class_weight = compute_class_weight('balanced', classes, get_xy(data(train_idx[:1000]), only_ys=True))\n",
    "print('Train class weight: ', class_weight)\n",
    "class_weight = dict(zip(classes, class_weight))"
   ]
  },
  {
   "cell_type": "code",
   "execution_count": 42,
   "metadata": {
    "collapsed": false
   },
   "outputs": [
    {
     "data": {
      "text/plain": [
       "CountVectorizer(analyzer='word', binary=False, decode_error='strict',\n",
       "        dtype=<class 'numpy.int64'>, encoding='utf-8', input='content',\n",
       "        lowercase=True, max_df=1.0, max_features=None, min_df=1,\n",
       "        ngram_range=(1, 1), preprocessor=None, stop_words=None,\n",
       "        strip_accents=None, token_pattern='(?u)\\\\b\\\\w\\\\w+\\\\b',\n",
       "        tokenizer=None, vocabulary=None)"
      ]
     },
     "execution_count": 42,
     "metadata": {},
     "output_type": "execute_result"
    }
   ],
   "source": [
    "from sklearn.feature_extraction.text import CountVectorizer\n",
    "\n",
    "#vect2 = CountVectorizer(ngram_range=(1, 2), vocabulary={w for f in good_features for w in f.split()})\n",
    "vect = CountVectorizer(ngram_range=(1, 1))\n",
    "vect.fit(item['text'] for item in data(train_idx))"
   ]
  },
  {
   "cell_type": "code",
   "execution_count": 12,
   "metadata": {
    "collapsed": true
   },
   "outputs": [],
   "source": [
    "def batches(lst, size):\n",
    "    for idx in range(0, len(lst), size):\n",
    "        yield lst[idx:idx + size]"
   ]
  },
  {
   "cell_type": "code",
   "execution_count": 43,
   "metadata": {
    "collapsed": false
   },
   "outputs": [
    {
     "name": "stdout",
     "output_type": "stream",
     "text": [
      "\n",
      "Epoch 1 ....\n",
      "Epoch 2 ...."
     ]
    }
   ],
   "source": [
    "from sklearn.linear_model import SGDClassifier\n",
    "\n",
    "clf = SGDClassifier(loss='log', class_weight=None, penalty='l1')\n",
    "\n",
    "n_epochs = 2\n",
    "batch_size = 5000\n",
    "for epoch in range(n_epochs):\n",
    "    print('\\nEpoch {} '.format(epoch + 1), end='', flush=True)\n",
    "    np.random.shuffle(train_idx)\n",
    "    for indices in batches(train_idx, batch_size):\n",
    "        print('.', end='', flush=True)\n",
    "        _x, _y = get_xy(data(indices))\n",
    "        clf.partial_fit(vect.transform(_x), _y, classes=classes)"
   ]
  },
  {
   "cell_type": "code",
   "execution_count": 44,
   "metadata": {
    "collapsed": false
   },
   "outputs": [
    {
     "name": "stdout",
     "output_type": "stream",
     "text": [
      "             precision    recall  f1-score   support\n",
      "\n",
      "        200       0.95      0.98      0.97      1888\n",
      "        404       0.83      0.69      0.76       287\n",
      "\n",
      "avg / total       0.94      0.94      0.94      2175\n",
      "\n"
     ]
    }
   ],
   "source": [
    "from sklearn import metrics\n",
    "pred_Y = clf.predict(vect.transform(test_X))\n",
    "print(metrics.classification_report(test_Y, pred_Y, target_names=['200', '404']))"
   ]
  },
  {
   "cell_type": "code",
   "execution_count": 45,
   "metadata": {
    "collapsed": false
   },
   "outputs": [
    {
     "name": "stdout",
     "output_type": "stream",
     "text": [
      "ROC AUC: 0.839\n"
     ]
    },
    {
     "name": "stderr",
     "output_type": "stream",
     "text": [
      "/home/kostia/shub/memex/soft404/venv/lib/python3.5/site-packages/sklearn/linear_model/base.py:284: RuntimeWarning: overflow encountered in exp\n",
      "  np.exp(prob, prob)\n"
     ]
    }
   ],
   "source": [
    "print('ROC AUC: {:.3f}'.format(metrics.roc_auc_score(test_Y, clf.predict_proba(vect.transform(test_X))[:,1])))"
   ]
  },
  {
   "cell_type": "code",
   "execution_count": 14,
   "metadata": {
    "collapsed": true
   },
   "outputs": [],
   "source": [
    "def show_features(clf, vect, limit=20):\n",
    "    coef = list(enumerate(clf.coef_[0]))\n",
    "    coef.sort(key=lambda x: x[1], reverse=True)\n",
    "    print('{} non-zero features, {} positive and {} negative:'.format(\n",
    "            sum(abs(v) > 0 for _, v in coef),\n",
    "            sum(v > 0 for _, v in coef),\n",
    "            sum(v < 0 for _, v in coef),\n",
    "        ))\n",
    "    inverse = {idx: word for word, idx in vect.vocabulary_.items()}\n",
    "    print()\n",
    "    for idx, c in coef[:limit]:\n",
    "        print('%.3f %s' % (c, inverse[idx]))\n",
    "    print('...')\n",
    "    for idx, c in coef[-limit:]:\n",
    "        print('%.3f %s' % (c, inverse[idx]))\n",
    "    return coef, inverse"
   ]
  },
  {
   "cell_type": "code",
   "execution_count": null,
   "metadata": {
    "collapsed": false,
    "scrolled": true
   },
   "outputs": [],
   "source": [
    "coef, inverse = show_features(clf, vect)"
   ]
  },
  {
   "cell_type": "code",
   "execution_count": null,
   "metadata": {
    "collapsed": false
   },
   "outputs": [],
   "source": [
    "good_features = [inverse[idx] for idx, weight in coef if weight > 10]\n",
    "len(good_features), good_features[:10]"
   ]
  },
  {
   "cell_type": "code",
   "execution_count": null,
   "metadata": {
    "collapsed": false,
    "scrolled": true
   },
   "outputs": [],
   "source": [
    "false_neg = (pred_Y != test_Y) & (test_Y == True)\n",
    "false_pos = (pred_Y != test_Y) & (pred_Y == True)\n",
    "print('404 classified as 200: {}'.format(false_neg.sum()))\n",
    "print('200 classified as 404: {}'.format(false_pos.sum()))"
   ]
  },
  {
   "cell_type": "code",
   "execution_count": null,
   "metadata": {
    "collapsed": false
   },
   "outputs": [],
   "source": [
    "test_urls = np.array([item['url'] for item in data(test_idx)])"
   ]
  },
  {
   "cell_type": "code",
   "execution_count": null,
   "metadata": {
    "collapsed": false,
    "scrolled": true
   },
   "outputs": [],
   "source": [
    "for url in test_urls[false_neg]:\n",
    "    print(url)"
   ]
  },
  {
   "cell_type": "code",
   "execution_count": null,
   "metadata": {
    "collapsed": false
   },
   "outputs": [],
   "source": [
    "for url in test_urls[false_pos]:\n",
    "    print(url)"
   ]
  }
 ],
 "metadata": {
  "kernelspec": {
   "display_name": "Python 3",
   "language": "python",
   "name": "python3"
  },
  "language_info": {
   "codemirror_mode": {
    "name": "ipython",
    "version": 3
   },
   "file_extension": ".py",
   "mimetype": "text/x-python",
   "name": "python",
   "nbconvert_exporter": "python",
   "pygments_lexer": "ipython3",
   "version": "3.5.1+"
  }
 },
 "nbformat": 4,
 "nbformat_minor": 1
}
