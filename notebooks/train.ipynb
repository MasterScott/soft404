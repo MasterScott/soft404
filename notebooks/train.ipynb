{
 "cells": [
  {
   "cell_type": "code",
   "execution_count": 21,
   "metadata": {
    "collapsed": false
   },
   "outputs": [
    {
     "data": {
      "text/plain": [
       "dict_keys(['text', 'blocks', 'lang', 'url', 'idx', 'title', 'status'])"
      ]
     },
     "execution_count": 21,
     "metadata": {},
     "output_type": "execute_result"
    }
   ],
   "source": [
    "from soft404.utils import pickle_stream_reader\n",
    "        \n",
    "def reader(indices=None):\n",
    "    with open('../text_items_small.pkls', 'rb') as f:\n",
    "        for idx, item in pickle_stream_reader(f, indices):\n",
    "            item['idx'] = idx\n",
    "            if item['status'] in {200, 404}:\n",
    "                yield item\n",
    "        \n",
    "item = next(reader())\n",
    "item.keys()"
   ]
  },
  {
   "cell_type": "code",
   "execution_count": 22,
   "metadata": {
    "collapsed": true
   },
   "outputs": [],
   "source": [
    "import tldextract\n",
    "\n",
    "def get_domain(url):\n",
    "    return tldextract.extract(url).registered_domain.lower()"
   ]
  },
  {
   "cell_type": "code",
   "execution_count": 23,
   "metadata": {
    "collapsed": false
   },
   "outputs": [
    {
     "data": {
      "text/plain": [
       "[('msn.com', 2382),\n",
       " ('microsoftstore.com', 1080),\n",
       " ('jia360.com', 500),\n",
       " ('nuomi.com', 387),\n",
       " ('tradedoubler.com', 362),\n",
       " ('stackoverflow.com', 360),\n",
       " ('weibo.com', 312),\n",
       " ('ebay.com', 293),\n",
       " ('fc2.com', 279),\n",
       " ('amazon.in', 278)]"
      ]
     },
     "execution_count": 23,
     "metadata": {},
     "output_type": "execute_result"
    }
   ],
   "source": [
    "import numpy as np\n",
    "import itertools\n",
    "import random\n",
    "from collections import Counter\n",
    "\n",
    "domain_counts = Counter(get_domain(item['url']) for item in reader())\n",
    "# TODO - exclude by count, not a fixed number\n",
    "exclude_most_common = 5\n",
    "exclude_domains = {domain for domain, _ in domain_counts.most_common(exclude_most_common)}\n",
    "domain_indices = {item['idx'] for item in reader()\n",
    "                  if get_domain(item['url']) not in exclude_domains}\n",
    "domain_counts.most_common(10)"
   ]
  },
  {
   "cell_type": "code",
   "execution_count": 24,
   "metadata": {
    "collapsed": false
   },
   "outputs": [
    {
     "name": "stdout",
     "output_type": "stream",
     "text": [
      "     14703 en\n",
      "      5114 zh-cn\n",
      "      1620 ja\n",
      "      1289 ko\n",
      "       558 ru\n",
      "       450 \n",
      "       419 es\n",
      "       411 fr\n",
      "       399 it\n",
      "       367 de\n"
     ]
    }
   ],
   "source": [
    "langs = [(item['idx'], item['lang']) for item in reader()]\n",
    "for lang, count in Counter(lang for _, lang in langs).most_common(10):\n",
    "    print('{:>10} {}'.format(count, lang))\n",
    "lang_indices = {idx for idx, lang in langs if lang == 'en'}"
   ]
  },
  {
   "cell_type": "code",
   "execution_count": 25,
   "metadata": {
    "collapsed": false
   },
   "outputs": [],
   "source": [
    "flt_indices = lang_indices & domain_indices\n",
    "def data(indices=None):\n",
    "    if indices is not None:\n",
    "        indices = set(indices) & flt_indices\n",
    "    else:\n",
    "        indices = flt_indices\n",
    "    yield from reader(indices)"
   ]
  },
  {
   "cell_type": "code",
   "execution_count": 26,
   "metadata": {
    "collapsed": true
   },
   "outputs": [],
   "source": [
    "def get_xy(items, only_ys=False):\n",
    "    xs = []\n",
    "    ys = []\n",
    "    for item in items:\n",
    "        if not only_ys:\n",
    "            xs.append(item['text'])\n",
    "        ys.append(item['status'] == 404)\n",
    "    ys = np.array(ys)\n",
    "    return ys if only_ys else (xs, ys)"
   ]
  },
  {
   "cell_type": "code",
   "execution_count": 27,
   "metadata": {
    "collapsed": false
   },
   "outputs": [
    {
     "name": "stdout",
     "output_type": "stream",
     "text": [
      "9789 1088\n"
     ]
    }
   ],
   "source": [
    "from sklearn.cross_validation import LabelKFold\n",
    "\n",
    "urls = [(item['idx'], item['url']) for item in data()]\n",
    "def to_data_idx(indices):\n",
    "    indices = set(indices)\n",
    "    result = [data_idx for idx, (data_idx, _) in enumerate(urls) if idx in indices]\n",
    "    assert len(result) == len(indices)\n",
    "    return result\n",
    "\n",
    "lkf = LabelKFold([get_domain(url) for _, url in urls], n_folds=10)\n",
    "_train_idx, _test_idx = next(iter(lkf))\n",
    "train_idx, test_idx = to_data_idx(_train_idx), to_data_idx(_test_idx)\n",
    "test_X, test_Y = get_xy(data(test_idx))\n",
    "print(len(train_idx), len(test_idx))"
   ]
  },
  {
   "cell_type": "code",
   "execution_count": 28,
   "metadata": {
    "collapsed": false
   },
   "outputs": [
    {
     "data": {
      "text/plain": [
       "[('ebay.com', 293),\n",
       " ('amazon.in', 278),\n",
       " ('fc2.com', 252),\n",
       " ('netflix.com', 196),\n",
       " ('goo.gl', 187),\n",
       " ('ebay.in', 175),\n",
       " ('ebay.co.uk', 164),\n",
       " ('ebay.ca', 160),\n",
       " ('ebay.com.my', 159),\n",
       " ('ebay.com.au', 155)]"
      ]
     },
     "execution_count": 28,
     "metadata": {},
     "output_type": "execute_result"
    }
   ],
   "source": [
    "Counter(get_domain(item['url']) for item in data(train_idx)).most_common(10)"
   ]
  },
  {
   "cell_type": "code",
   "execution_count": 29,
   "metadata": {
    "collapsed": false
   },
   "outputs": [
    {
     "data": {
      "text/plain": [
       "[('stackoverflow.com', 360),\n",
       " ('ebay.com.hk', 76),\n",
       " ('ebayinc.com', 60),\n",
       " ('wonderwall.com', 49),\n",
       " ('amazon.ca', 40),\n",
       " ('arstechnica.com', 33),\n",
       " ('reuters.com', 29),\n",
       " ('businessinsider.com', 26),\n",
       " ('delish.com', 24),\n",
       " ('mozilla.org', 22)]"
      ]
     },
     "execution_count": 29,
     "metadata": {},
     "output_type": "execute_result"
    }
   ],
   "source": [
    "Counter(get_domain(item['url']) for item in data(test_idx)).most_common(10)"
   ]
  },
  {
   "cell_type": "code",
   "execution_count": 30,
   "metadata": {
    "collapsed": false
   },
   "outputs": [
    {
     "name": "stdout",
     "output_type": "stream",
     "text": [
      "Test class weight: [ 0.57749469  3.7260274 ]\n",
      "Train class weight:  [ 0.60459492  2.89017341]\n"
     ]
    }
   ],
   "source": [
    "from sklearn.utils.class_weight import compute_class_weight\n",
    "\n",
    "classes = [False, True]\n",
    "print('Test class weight:', compute_class_weight('balanced', classes, test_Y))\n",
    "np.random.shuffle(train_idx)\n",
    "class_weight = compute_class_weight('balanced', classes, get_xy(data(train_idx[:1000]), only_ys=True))\n",
    "print('Train class weight: ', class_weight)\n",
    "class_weight = dict(zip(classes, class_weight))"
   ]
  },
  {
   "cell_type": "code",
   "execution_count": 31,
   "metadata": {
    "collapsed": false
   },
   "outputs": [
    {
     "data": {
      "text/plain": [
       "CountVectorizer(analyzer='word', binary=False, decode_error='strict',\n",
       "        dtype=<class 'numpy.int64'>, encoding='utf-8', input='content',\n",
       "        lowercase=True, max_df=1.0, max_features=None, min_df=1,\n",
       "        ngram_range=(1, 1), preprocessor=None, stop_words=None,\n",
       "        strip_accents=None, token_pattern='(?u)\\\\b\\\\w\\\\w+\\\\b',\n",
       "        tokenizer=None, vocabulary=None)"
      ]
     },
     "execution_count": 31,
     "metadata": {},
     "output_type": "execute_result"
    }
   ],
   "source": [
    "from sklearn.feature_extraction.text import CountVectorizer\n",
    "\n",
    "#vect2 = CountVectorizer(ngram_range=(1, 2), vocabulary={w for f in good_features for w in f.split()})\n",
    "vect = CountVectorizer(ngram_range=(1, 1))\n",
    "vect.fit(item['text'] for item in data(train_idx))"
   ]
  },
  {
   "cell_type": "code",
   "execution_count": 32,
   "metadata": {
    "collapsed": false
   },
   "outputs": [
    {
     "name": "stdout",
     "output_type": "stream",
     "text": [
      "\n",
      "Epoch 1 ..\n",
      "Epoch 2 .."
     ]
    }
   ],
   "source": [
    "from sklearn.linear_model import SGDClassifier\n",
    "from soft404.utils import batches\n",
    "\n",
    "clf = SGDClassifier(loss='log', class_weight=None, penalty='l1')\n",
    "\n",
    "n_epochs = 2\n",
    "batch_size = 5000\n",
    "for epoch in range(n_epochs):\n",
    "    print('\\nEpoch {} '.format(epoch + 1), end='', flush=True)\n",
    "    np.random.shuffle(train_idx)\n",
    "    for indices in batches(train_idx, batch_size):\n",
    "        print('.', end='', flush=True)\n",
    "        _x, _y = get_xy(data(indices))\n",
    "        clf.partial_fit(vect.transform(_x), _y, classes=classes)"
   ]
  },
  {
   "cell_type": "code",
   "execution_count": 33,
   "metadata": {
    "collapsed": false
   },
   "outputs": [
    {
     "name": "stdout",
     "output_type": "stream",
     "text": [
      "             precision    recall  f1-score   support\n",
      "\n",
      "        200       0.99      0.95      0.97       942\n",
      "        404       0.75      0.95      0.84       146\n",
      "\n",
      "avg / total       0.96      0.95      0.95      1088\n",
      "\n"
     ]
    }
   ],
   "source": [
    "from sklearn import metrics\n",
    "pred_Y = clf.predict(vect.transform(test_X))\n",
    "print(metrics.classification_report(test_Y, pred_Y, target_names=['200', '404']))"
   ]
  },
  {
   "cell_type": "code",
   "execution_count": 34,
   "metadata": {
    "collapsed": false
   },
   "outputs": [
    {
     "name": "stdout",
     "output_type": "stream",
     "text": [
      "ROC AUC: 0.951\n"
     ]
    },
    {
     "name": "stderr",
     "output_type": "stream",
     "text": [
      "/home/kostia/shub/memex/soft404/venv/lib/python3.5/site-packages/sklearn/linear_model/base.py:284: RuntimeWarning: overflow encountered in exp\n",
      "  np.exp(prob, prob)\n"
     ]
    }
   ],
   "source": [
    "print('ROC AUC: {:.3f}'.format(metrics.roc_auc_score(test_Y, clf.predict_proba(vect.transform(test_X))[:,1])))"
   ]
  },
  {
   "cell_type": "code",
   "execution_count": 35,
   "metadata": {
    "collapsed": false
   },
   "outputs": [
    {
     "ename": "NameError",
     "evalue": "name 'test_langs' is not defined",
     "output_type": "error",
     "traceback": [
      "\u001b[0;31m---------------------------------------------------------------------------\u001b[0m",
      "\u001b[0;31mNameError\u001b[0m                                 Traceback (most recent call last)",
      "\u001b[0;32m<ipython-input-35-1794442997e1>\u001b[0m in \u001b[0;36m<module>\u001b[0;34m()\u001b[0m\n\u001b[0;32m----> 1\u001b[0;31m \u001b[0;32mfor\u001b[0m \u001b[0mlang\u001b[0m\u001b[0;34m,\u001b[0m \u001b[0mcount\u001b[0m \u001b[0;32min\u001b[0m \u001b[0mCounter\u001b[0m\u001b[0;34m(\u001b[0m\u001b[0mtest_langs\u001b[0m\u001b[0;34m)\u001b[0m\u001b[0;34m.\u001b[0m\u001b[0mmost_common\u001b[0m\u001b[0;34m(\u001b[0m\u001b[0;36m5\u001b[0m\u001b[0;34m)\u001b[0m\u001b[0;34m:\u001b[0m\u001b[0;34m\u001b[0m\u001b[0m\n\u001b[0m\u001b[1;32m      2\u001b[0m     \u001b[0mprint\u001b[0m\u001b[0;34m(\u001b[0m\u001b[0;34m'\\nLanguage \"{}\" with {} test samples:'\u001b[0m\u001b[0;34m.\u001b[0m\u001b[0mformat\u001b[0m\u001b[0;34m(\u001b[0m\u001b[0mlang\u001b[0m\u001b[0;34m,\u001b[0m \u001b[0mcount\u001b[0m\u001b[0;34m)\u001b[0m\u001b[0;34m)\u001b[0m\u001b[0;34m\u001b[0m\u001b[0m\n\u001b[1;32m      3\u001b[0m     \u001b[0mlang_idx\u001b[0m \u001b[0;34m=\u001b[0m \u001b[0mtest_langs\u001b[0m \u001b[0;34m==\u001b[0m \u001b[0mlang\u001b[0m\u001b[0;34m\u001b[0m\u001b[0m\n\u001b[1;32m      4\u001b[0m     \u001b[0mprint\u001b[0m\u001b[0;34m(\u001b[0m\u001b[0mmetrics\u001b[0m\u001b[0;34m.\u001b[0m\u001b[0mclassification_report\u001b[0m\u001b[0;34m(\u001b[0m\u001b[0mtest_Y\u001b[0m\u001b[0;34m[\u001b[0m\u001b[0mlang_idx\u001b[0m\u001b[0;34m]\u001b[0m\u001b[0;34m,\u001b[0m \u001b[0mpred_Y\u001b[0m\u001b[0;34m[\u001b[0m\u001b[0mlang_idx\u001b[0m\u001b[0;34m]\u001b[0m\u001b[0;34m,\u001b[0m \u001b[0mtarget_names\u001b[0m\u001b[0;34m=\u001b[0m\u001b[0;34m[\u001b[0m\u001b[0;34m'200'\u001b[0m\u001b[0;34m,\u001b[0m \u001b[0;34m'404'\u001b[0m\u001b[0;34m]\u001b[0m\u001b[0;34m)\u001b[0m\u001b[0;34m)\u001b[0m\u001b[0;34m\u001b[0m\u001b[0m\n",
      "\u001b[0;31mNameError\u001b[0m: name 'test_langs' is not defined"
     ]
    }
   ],
   "source": [
    "for lang, count in Counter(test_langs).most_common(5):\n",
    "    print('\\nLanguage \"{}\" with {} test samples:'.format(lang, count))\n",
    "    lang_idx = test_langs == lang\n",
    "    print(metrics.classification_report(test_Y[lang_idx], pred_Y[lang_idx], target_names=['200', '404']))"
   ]
  },
  {
   "cell_type": "code",
   "execution_count": null,
   "metadata": {
    "collapsed": true
   },
   "outputs": [],
   "source": [
    "def show_features(clf, vect, limit=20):\n",
    "    coef = list(enumerate(clf.coef_[0]))\n",
    "    coef.sort(key=lambda x: x[1], reverse=True)\n",
    "    print('{} non-zero features, {} positive and {} negative:'.format(\n",
    "            sum(abs(v) > 0 for _, v in coef),\n",
    "            sum(v > 0 for _, v in coef),\n",
    "            sum(v < 0 for _, v in coef),\n",
    "        ))\n",
    "    inverse = {idx: word for word, idx in vect.vocabulary_.items()}\n",
    "    print()\n",
    "    for idx, c in coef[:limit]:\n",
    "        print('%.3f %s' % (c, inverse[idx]))\n",
    "    print('...')\n",
    "    for idx, c in coef[-limit:]:\n",
    "        print('%.3f %s' % (c, inverse[idx]))\n",
    "    return coef, inverse"
   ]
  },
  {
   "cell_type": "code",
   "execution_count": null,
   "metadata": {
    "collapsed": false,
    "scrolled": true
   },
   "outputs": [],
   "source": [
    "coef, inverse = show_features(clf, vect)"
   ]
  },
  {
   "cell_type": "code",
   "execution_count": null,
   "metadata": {
    "collapsed": false
   },
   "outputs": [],
   "source": [
    "good_features = [inverse[idx] for idx, weight in coef if weight > 10]\n",
    "len(good_features), good_features[:10]"
   ]
  },
  {
   "cell_type": "code",
   "execution_count": null,
   "metadata": {
    "collapsed": false,
    "scrolled": true
   },
   "outputs": [],
   "source": [
    "false_neg = (pred_Y != test_Y) & (test_Y == True)\n",
    "false_pos = (pred_Y != test_Y) & (pred_Y == True)\n",
    "print('404 classified as 200: {}'.format(false_neg.sum()))\n",
    "print('200 classified as 404: {}'.format(false_pos.sum()))"
   ]
  },
  {
   "cell_type": "code",
   "execution_count": null,
   "metadata": {
    "collapsed": false
   },
   "outputs": [],
   "source": [
    "test_urls = np.array([item['url'] for item in data(test_idx)])"
   ]
  },
  {
   "cell_type": "code",
   "execution_count": null,
   "metadata": {
    "collapsed": false,
    "scrolled": true
   },
   "outputs": [],
   "source": [
    "for url in test_urls[false_neg]:\n",
    "    print(url)"
   ]
  },
  {
   "cell_type": "code",
   "execution_count": null,
   "metadata": {
    "collapsed": false
   },
   "outputs": [],
   "source": [
    "for url in test_urls[false_pos]:\n",
    "    print(url)"
   ]
  }
 ],
 "metadata": {
  "kernelspec": {
   "display_name": "Python 3",
   "language": "python",
   "name": "python3"
  },
  "language_info": {
   "codemirror_mode": {
    "name": "ipython",
    "version": 3
   },
   "file_extension": ".py",
   "mimetype": "text/x-python",
   "name": "python",
   "nbconvert_exporter": "python",
   "pygments_lexer": "ipython3",
   "version": "3.5.1+"
  }
 },
 "nbformat": 4,
 "nbformat_minor": 1
}
