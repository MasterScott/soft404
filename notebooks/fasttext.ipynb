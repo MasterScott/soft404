{
 "cells": [
  {
   "cell_type": "code",
   "execution_count": 2,
   "metadata": {
    "collapsed": false
   },
   "outputs": [
    {
     "data": {
      "text/plain": [
       "dict_keys(['url', 'text', 'status'])"
      ]
     },
     "execution_count": 2,
     "metadata": {},
     "output_type": "execute_result"
    }
   ],
   "source": [
    "import gzip\n",
    "import json\n",
    "\n",
    "def reader():\n",
    "    with gzip.open('../text_items.jl.gz', 'rt') as f:\n",
    "        for line in f:\n",
    "            item = json.loads(line)\n",
    "            if item['status'] in {200, 404}:\n",
    "                yield item\n",
    "\n",
    "item = next(reader())\n",
    "item.keys()"
   ]
  },
  {
   "cell_type": "code",
   "execution_count": 3,
   "metadata": {
    "collapsed": false
   },
   "outputs": [
    {
     "data": {
      "text/plain": [
       "14615"
      ]
     },
     "execution_count": 3,
     "metadata": {},
     "output_type": "execute_result"
    }
   ],
   "source": [
    "import tldextract\n",
    "\n",
    "def get_domain(url):\n",
    "    return tldextract.extract(url).registered_domain.lower()\n",
    "\n",
    "import numpy as np\n",
    "import itertools\n",
    "import random\n",
    "from collections import Counter\n",
    "\n",
    "# data = list(itertools.islice(reader(), 3000))\n",
    "data = list(reader())\n",
    "\n",
    "domain_counts = Counter(get_domain(item['url']) for item in data)\n",
    "exclude_most_common = 5\n",
    "most_common_domains = {domain for domain, _ in domain_counts.most_common(exclude_most_common)}\n",
    "data = [item for item in data if get_domain(item['url']) not in most_common_domains]\n",
    "\n",
    "random.shuffle(data)\n",
    "len(data)"
   ]
  },
  {
   "cell_type": "code",
   "execution_count": 4,
   "metadata": {
    "collapsed": true
   },
   "outputs": [],
   "source": [
    "from sklearn.cross_validation import LabelKFold\n",
    "\n",
    "urls = [item['url'] for item in data]\n",
    "lkf = LabelKFold(list(map(get_domain, urls)), n_folds=10)\n",
    "\n",
    "train_idx, test_idx = next(iter(lkf))"
   ]
  },
  {
   "cell_type": "code",
   "execution_count": 5,
   "metadata": {
    "collapsed": true
   },
   "outputs": [],
   "source": [
    "def write_dataset(filename, data, indices):\n",
    "    indices = set(indices)\n",
    "    with open(filename, 'w') as f:\n",
    "        for idx, item in enumerate(data):\n",
    "            if idx in indices:\n",
    "                f.write('__label__{} '.format(item['status']))\n",
    "                f.write(item['text'])\n",
    "                f.write('\\n')\n",
    "\n",
    "write_dataset('train.txt', data, train_idx)\n",
    "write_dataset('test.txt', data, test_idx)"
   ]
  },
  {
   "cell_type": "code",
   "execution_count": 9,
   "metadata": {
    "collapsed": true
   },
   "outputs": [],
   "source": [
    "import fasttext\n",
    "classifier = fasttext.supervised('train.txt', 'model')"
   ]
  },
  {
   "cell_type": "code",
   "execution_count": 10,
   "metadata": {
    "collapsed": false
   },
   "outputs": [
    {
     "name": "stdout",
     "output_type": "stream",
     "text": [
      "P@1: 0.94\n",
      "R@1: 0.94\n",
      "Number of examples: 1420\n"
     ]
    }
   ],
   "source": [
    "result = classifier.test('test.txt')\n",
    "print('P@1: {:.2f}'.format(result.precision))\n",
    "print('R@1: {:.2f}'.format(result.recall))\n",
    "print('Number of examples: {}'.format(result.nexamples))"
   ]
  }
 ],
 "metadata": {
  "kernelspec": {
   "display_name": "Python 3",
   "language": "python",
   "name": "python3"
  },
  "language_info": {
   "codemirror_mode": {
    "name": "ipython",
    "version": 3
   },
   "file_extension": ".py",
   "mimetype": "text/x-python",
   "name": "python",
   "nbconvert_exporter": "python",
   "pygments_lexer": "ipython3",
   "version": "3.5.1"
  }
 },
 "nbformat": 4,
 "nbformat_minor": 1
}
